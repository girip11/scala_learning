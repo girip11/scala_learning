{
 "cells": [
  {
   "cell_type": "markdown",
   "metadata": {},
   "source": [
    "# Introduction"
   ]
  },
  {
   "cell_type": "markdown",
   "metadata": {},
   "source": [
    "* Weighted graph\n",
    "* Directed and Undirected graphs\n",
    "* Acylic and cyclic graphs\n",
    "* Sparse graph(more nodes than edges)\n",
    "* Dense graph( more edges than nodes)"
   ]
  },
  {
   "cell_type": "markdown",
   "metadata": {},
   "source": [
    "Graphs representations\n",
    "* Adjacency matrix (`n x n` where n is the number of nodes).\n",
    "Adjacency matrix is recommended for small densely connected graphs.\n",
    "\n",
    "* Adjacency list. But checking if two nodes are connected requires a traversal\n",
    "when using adjacency lists."
   ]
  },
  {
   "cell_type": "code",
   "execution_count": 1,
   "metadata": {},
   "outputs": [
    {
     "data": {
      "text/plain": [
       "defined \u001b[32mclass\u001b[39m \u001b[36mNode\u001b[39m"
      ]
     },
     "execution_count": 1,
     "metadata": {},
     "output_type": "execute_result"
    }
   ],
   "source": [
    "// scales better, memory efficient\n",
    "// Note that we use immutable List here\n",
    "// edges of each node is better represented using a linked list.\n",
    "case class Node(val value: Int, val edges: List[Node])\n",
    "\n",
    "// adjacency list. Adding new nodes becomes costly\n",
    "// This is where we use tries to store all the nodes.\n",
    "val graphsNodes = Array[Node]()  "
   ]
  },
  {
   "cell_type": "markdown",
   "metadata": {},
   "source": [
    "Functional programming principles\n",
    "\n",
    "* reduce side effects\n",
    "* Referential transparent(idempotency) - Same result for the\n",
    "same input.\n",
    "* Immutable as much as possible. Immutable structures are thread safe.\n",
    "* Functional way makes code concise and expressive. Less buggy and more readability.\n"
   ]
  },
  {
   "cell_type": "markdown",
   "metadata": {},
   "source": [
    "In Scala, functions are first class citizens. Provides immutable\n",
    "data structures. Its also supports object oriented programming. Interoperate\n",
    "with Java."
   ]
  },
  {
   "cell_type": "markdown",
   "metadata": {},
   "source": [
    "* In graph's adjacency list representation, the list of nodes are commonly \n",
    "implemented as an array. But in functional programming, we wanted to\n",
    "use immutable structures as much as possible. But with immutable\n",
    "structures, the whole array might need to be copied and that would\n",
    "affect the performance.\n",
    "\n",
    "* Instead we could use something called as persistent structures like tries\n",
    "to represent the graph's nodes. With tries, we can create immutable\n",
    "structure with minimal copying(copy on the root)"
   ]
  },
  {
   "cell_type": "code",
   "execution_count": 13,
   "metadata": {},
   "outputs": [
    {
     "data": {
      "text/plain": [
       "defined \u001b[32mtrait\u001b[39m \u001b[36mGraph\u001b[39m"
      ]
     },
     "execution_count": 13,
     "metadata": {},
     "output_type": "execute_result"
    }
   ],
   "source": [
    "trait Graph[V] {\n",
    "    \n",
    "    def vertices: List[V]\n",
    "    \n",
    "    def edges: List[(V, V)]\n",
    "    \n",
    "    // Graph needs to be immutable\n",
    "    def addEdge(a: V, b: V): Graph[V]\n",
    "    \n",
    "    def neighbors(vertex: V): List[V]\n",
    "}"
   ]
  },
  {
   "cell_type": "code",
   "execution_count": 14,
   "metadata": {},
   "outputs": [
    {
     "data": {
      "text/plain": [
       "defined \u001b[32mobject\u001b[39m \u001b[36mGraph\u001b[39m\n",
       "defined \u001b[32mclass\u001b[39m \u001b[36mDirectedGraph\u001b[39m"
      ]
     },
     "execution_count": 14,
     "metadata": {},
     "output_type": "execute_result"
    }
   ],
   "source": [
    "// Directed Graph\n",
    "// Maps in Scala are backed by a trie\n",
    "\n",
    "// companion object\n",
    "object Graph {\n",
    "    \n",
    "    def apply[V](adjList: Map[V, List[V]]): Graph[V] = new DirectedGraph(adjList)\n",
    "    \n",
    "    def apply[V](): Graph[V] = new DirectedGraph(Map[V, List[V]]())\n",
    "}\n",
    "\n",
    "class DirectedGraph[V](private val adjacencyList: Map[V, List[V]]) \n",
    "    extends Graph[V] {\n",
    "    \n",
    "    override def vertices: List[V] = adjacencyList.keys.toList    \n",
    "\n",
    "    override def edges: List[(V, V)] = {\n",
    "            adjacencyList.flatMap(entry => {\n",
    "                val (v, neighbors) = entry\n",
    "                neighbors.map(n => (v, n))\n",
    "            }).toList\n",
    "    }\n",
    "    \n",
    "    // Graph needs to be immutable\n",
    "    override def addEdge(a: V, b: V): Graph[V] = {\n",
    "        val neighbors =  b :: adjacencyList.getOrElse(a,\n",
    "                                                     List.empty[V])\n",
    "        new DirectedGraph(adjacencyList + (a -> neighbors))\n",
    "    }\n",
    "    \n",
    "    override def neighbors(vertex: V): List[V] =  {\n",
    "        adjacencyList.getOrElse(vertex, Nil)\n",
    "    }\n",
    "}"
   ]
  },
  {
   "cell_type": "code",
   "execution_count": 8,
   "metadata": {},
   "outputs": [
    {
     "data": {
      "text/plain": [
       "defined \u001b[32mclass\u001b[39m \u001b[36mUndirectedGraph\u001b[39m"
      ]
     },
     "execution_count": 8,
     "metadata": {},
     "output_type": "execute_result"
    }
   ],
   "source": [
    "class UndirectedGraph[V](adjacencyList: Map[V, List[V]])\n",
    "    extends DirectedGraph[V](adjacencyList) { \n",
    "\n",
    "    override def addEdge(a: V, b: V): Graph[V] = {\n",
    "        // This is shorter but seems little bit inefficient\n",
    "        // we create two graphs one for adding each edge\n",
    "        // super.addEdge(a, b).addEdge(b, a)\n",
    "        \n",
    "        val aNeighbors = b :: adjacencyList.getOrElse(a, Nil)\n",
    "        val bNeighbors = a :: adjacencyList.getOrElse(b, Nil)\n",
    "        \n",
    "        new UndirectedGraph(adjacencyList + (\n",
    "        (a -> aNeighbors),\n",
    "        (b -> bNeighbors)\n",
    "        ))\n",
    "    }\n",
    "}"
   ]
  },
  {
   "cell_type": "code",
   "execution_count": 12,
   "metadata": {},
   "outputs": [
    {
     "data": {
      "text/plain": [
       "defined \u001b[32mclass\u001b[39m \u001b[36mWeightedEdge\u001b[39m\n",
       "defined \u001b[32mclass\u001b[39m \u001b[36mWeightedGraph\u001b[39m"
      ]
     },
     "execution_count": 12,
     "metadata": {},
     "output_type": "execute_result"
    }
   ],
   "source": [
    "case class WeightedEdge[V](destination: V, weight: Int)\n",
    "\n",
    "class WeightedGraph[V](\n",
    "    private val adjacencyList:Map[V, List[WeightedEdge[V]]]\n",
    ") extends Graph[V] {\n",
    "\n",
    "    override def vertices: List[V] = adjacencyList.keys.toList    \n",
    "\n",
    "    override def edges: List[(V, V)] = {\n",
    "            adjacencyList.flatMap(entry => {\n",
    "                val (v, neighbors) = entry\n",
    "                neighbors.map(n => (v, n.destination))\n",
    "            }).toList\n",
    "    }\n",
    "    \n",
    "    def addEdge(a: V, weightedEdge: WeightedEdge[V]): Graph[V] = {\n",
    "        val neighbors =  weightedEdge :: adjacencyList.getOrElse(a, Nil)\n",
    "        new WeightedGraph(adjacencyList + (a -> neighbors))\n",
    "\n",
    "    }\n",
    "    \n",
    "    // Graph needs to be immutable\n",
    "    override def addEdge(a: V, b: V): Graph[V] = {\n",
    "        addEdge(a, WeightedEdge(b, 0))\n",
    "    }\n",
    "    \n",
    "    override def neighbors(vertex: V): List[V] =  {\n",
    "        adjacencyList.getOrElse(vertex, Nil).map(_.destination)\n",
    "    }\n",
    "\n",
    "    def neighborWeights(vertex: V): List[WeightedEdge[V]] =  {\n",
    "        adjacencyList.getOrElse(vertex, Nil).toList\n",
    "    }\n",
    "\n",
    "}"
   ]
  },
  {
   "cell_type": "markdown",
   "metadata": {},
   "source": [
    "## Depth first search"
   ]
  },
  {
   "cell_type": "markdown",
   "metadata": {},
   "source": [
    "* Traversing a graph is going through every node in the graph"
   ]
  },
  {
   "cell_type": "code",
   "execution_count": 15,
   "metadata": {},
   "outputs": [
    {
     "data": {
      "text/plain": [
       "\u001b[36msampleGraph\u001b[39m: \u001b[32mDirectedGraph\u001b[39m[\u001b[32mString\u001b[39m] = ammonite.$sess.cmd13$Helper$DirectedGraph@7b562132"
      ]
     },
     "execution_count": 15,
     "metadata": {},
     "output_type": "execute_result"
    }
   ],
   "source": [
    "val sampleGraph = new DirectedGraph[String](\n",
    "    Map((\"a\", List(\"b\", \"g\")),\n",
    "        (\"b\", List(\"c\")),\n",
    "        (\"c\", List(\"d\", \"e\")),\n",
    "        (\"d\", List(\"e\")),\n",
    "        (\"e\", List()),\n",
    "        (\"f\", List(\"a\")),\n",
    "        (\"g\", List(\"h\")),\n",
    "        (\"h\", List(\"f\"))\n",
    "        )\n",
    ")"
   ]
  },
  {
   "cell_type": "code",
   "execution_count": 20,
   "metadata": {},
   "outputs": [
    {
     "name": "stdout",
     "output_type": "stream",
     "text": [
      "a->b->c->d->e\n",
      "a->b->c->e\n",
      "a->g->h->f\n"
     ]
    },
    {
     "data": {
      "text/plain": [
       "defined \u001b[32mfunction\u001b[39m \u001b[36mtraverse\u001b[39m\n",
       "defined \u001b[32mfunction\u001b[39m \u001b[36mdfs\u001b[39m"
      ]
     },
     "execution_count": 20,
     "metadata": {},
     "output_type": "execute_result"
    }
   ],
   "source": [
    "// depth first traversal\n",
    "// But this is not tail recursive\n",
    "\n",
    "def traverse(graph: Graph[String], \n",
    "             start: String, \n",
    "             visitedNodes: List[String]) {\n",
    "\n",
    "    val currentVisitedNodes = visitedNodes ++ List(start)\n",
    "\n",
    "    val unvisitedNeighbors = graph.neighbors(start)\n",
    "    .filter(!currentVisitedNodes.contains(_))\n",
    "\n",
    "    if (unvisitedNeighbors.length > 0)\n",
    "        unvisitedNeighbors.foreach(n => {\n",
    "            traverse(graph, n, currentVisitedNodes)\n",
    "        })\n",
    "    else\n",
    "        println(currentVisitedNodes.mkString(\"->\"))\n",
    "}\n",
    "\n",
    "def dfs(graph: Graph[String], start: String): Unit = {    \n",
    "    traverse(graph, start, List[String]())\n",
    "}\n",
    "\n",
    "dfs(sampleGraph, \"a\")"
   ]
  },
  {
   "cell_type": "code",
   "execution_count": 23,
   "metadata": {},
   "outputs": [
    {
     "name": "stdout",
     "output_type": "stream",
     "text": [
      "a->g->h->f\n",
      "a->b->c->e\n",
      "a->b->c->d->e\n"
     ]
    },
    {
     "data": {
      "text/plain": [
       "\u001b[32mimport \u001b[39m\u001b[36mscala.collection.mutable.{Stack, ListBuffer}\n",
       "\n",
       "\u001b[39m\n",
       "defined \u001b[32mfunction\u001b[39m \u001b[36mdfsIterative\u001b[39m"
      ]
     },
     "execution_count": 23,
     "metadata": {},
     "output_type": "execute_result"
    }
   ],
   "source": [
    "// v2\n",
    "// to traverse deep graphs, we need to either use tail recursion\n",
    "// or use an iterative version\n",
    "\n",
    "import scala.collection.mutable.{Stack, ListBuffer}\n",
    "\n",
    "def dfsIterative(graph: Graph[String], start: String): Unit = {\n",
    "    val stack = Stack[(String, List[String])]()\n",
    "    stack.push(start -> List[String]())\n",
    "    \n",
    "    while (!stack.isEmpty) {\n",
    "        val (c, path) = stack.pop()\n",
    "        val cpath = path ++ List(c)\n",
    "        val neighbors = graph.neighbors(c)\n",
    "        val unvisitedNeighbors = neighbors.filter(!path.contains(_))\n",
    "        if (unvisitedNeighbors.length > 0) {\n",
    "            unvisitedNeighbors.foreach(n => \n",
    "                                       stack.push((n -> cpath)))\n",
    "        } else {\n",
    "            println(cpath.mkString(\"->\"))\n",
    "        }\n",
    "    }   \n",
    "}\n",
    "\n",
    "\n",
    "dfsIterative(sampleGraph, \"a\")"
   ]
  },
  {
   "cell_type": "code",
   "execution_count": null,
   "metadata": {},
   "outputs": [],
   "source": []
  }
 ],
 "metadata": {
  "kernelspec": {
   "display_name": "Scala",
   "language": "scala",
   "name": "scala"
  },
  "language_info": {
   "codemirror_mode": "text/x-scala",
   "file_extension": ".sc",
   "mimetype": "text/x-scala",
   "name": "scala",
   "nbconvert_exporter": "script",
   "version": "2.13.3"
  }
 },
 "nbformat": 4,
 "nbformat_minor": 4
}
