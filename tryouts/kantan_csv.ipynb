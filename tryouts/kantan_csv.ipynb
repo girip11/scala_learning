{
 "cells": [
  {
   "cell_type": "code",
   "execution_count": 1,
   "metadata": {},
   "outputs": [
    {
     "name": "stdout",
     "output_type": "stream",
     "text": [
      "Scala code runner version 2.13.4 -- Copyright 2002-2020, LAMP/EPFL and Lightbend, Inc.\n"
     ]
    },
    {
     "data": {
      "text/plain": [
       "\"\""
      ]
     },
     "execution_count": 1,
     "metadata": {},
     "output_type": "execute_result"
    }
   ],
   "source": [
    "import scala.sys.process._\n",
    "\"scala --version\".!!"
   ]
  },
  {
   "cell_type": "code",
   "execution_count": 2,
   "metadata": {},
   "outputs": [
    {
     "ename": "Compile Error",
     "evalue": "<console>:28: error: not found: value coursierapi\n       import coursierapi.MavenRepository\n              ^\n<console>:31: error: not found: value interp\n       interp.repositories() ++=  List(MavenRepository.of(\"file:///media/girish/HDD/inferess_code/repos/.m2/repository\"))\n       ^\n<console>:31: error: not found: value MavenRepository\n       interp.repositories() ++=  List(MavenRepository.of(\"file:///media/girish/HDD/inferess_code/repos/.m2/repository\"))\n                                       ^\n",
     "output_type": "error",
     "traceback": []
    }
   ],
   "source": [
    "import coursierapi.MavenRepository\n",
    "interp.repositories() ++=  List(MavenRepository.of(\"file:///media/girish/HDD/inferess_code/repos/.m2/repository\"))"
   ]
  },
  {
   "cell_type": "code",
   "execution_count": 3,
   "metadata": {},
   "outputs": [
    {
     "ename": "Compile Error",
     "evalue": "<console>:28: error: not found: value $ivy\n       import $ivy.`com.nrinaudo:kantan.csv_2.12:0.5.1`\n              ^\n<console>:29: error: not found: value $ivy\n       import $ivy.`com.nrinaudo:kantan.csv-generic_2.12:0.5.1`\n              ^\n",
     "output_type": "error",
     "traceback": []
    }
   ],
   "source": [
    "import $ivy.`com.nrinaudo:kantan.csv_2.12:0.5.1`\n",
    "import $ivy.`com.nrinaudo:kantan.csv-generic_2.12:0.5.1`"
   ]
  },
  {
   "cell_type": "code",
   "execution_count": 4,
   "metadata": {},
   "outputs": [
    {
     "ename": "Compile Error",
     "evalue": "<console>:28: error: not found: value kantan\n       import kantan.csv._\n              ^\n<console>:29: error: not found: value kantan\n       import kantan.csv.ops._\n              ^\n",
     "output_type": "error",
     "traceback": []
    }
   ],
   "source": [
    "import kantan.csv._\n",
    "import kantan.csv.ops._"
   ]
  },
  {
   "cell_type": "code",
   "execution_count": 5,
   "metadata": {},
   "outputs": [
    {
     "data": {
      "text/plain": [
       "defined class SPRelationsRecord\n"
      ]
     },
     "metadata": {},
     "output_type": "display_data"
    }
   ],
   "source": [
    "case class SPRelationsRecord(srcId: String,\n",
    "                             businessRelationID: Long,\n",
    "                             reportingCompanyID: Long,\n",
    "                             reportingCompanyName: String,\n",
    "                             reportingCompanyRelationship: String,\n",
    "                             reportingCompanyLEI: String,\n",
    "                             mentionedCompanyID: Long,\n",
    "                             mentionedCompanyName: String,\n",
    "                             mentionedCompanyRelationship: String,\n",
    "                             mentionedCompanyLEI: String,\n",
    "                             businessRelationSrcTypeName: String)"
   ]
  },
  {
   "cell_type": "code",
   "execution_count": 6,
   "metadata": {},
   "outputs": [
    {
     "data": {
      "text/plain": [
       "headers = List(SOURCEIDENTIFIER, BUSINESSRELID, PARENTCOMPANYID, PARENTCOMPANYNAME, PARENTNAME, PARENTLEI, CHILDCOMPANYID, CHILDCOMPANYNAME, CHILDNAME, CHILDLEI, BUSINESSRELSOURCETYPENAME)\n"
      ]
     },
     "metadata": {},
     "output_type": "display_data"
    },
    {
     "data": {
      "text/plain": [
       "List(SOURCEIDENTIFIER, BUSINESSRELID, PARENTCOMPANYID, PARENTCOMPANYNAME, PARENTNAME, PARENTLEI, CHILDCOMPANYID, CHILDCOMPANYNAME, CHILDNAME, CHILDLEI, BUSINESSRELSOURCETYPENAME)"
      ]
     },
     "execution_count": 6,
     "metadata": {},
     "output_type": "execute_result"
    }
   ],
   "source": [
    "val headers = List(\n",
    "    \"SOURCEIDENTIFIER\",\n",
    "    \"BUSINESSRELID\",\n",
    "    \"PARENTCOMPANYID\",\n",
    "    \"PARENTCOMPANYNAME\",\n",
    "    \"PARENTNAME\",\n",
    "    \"PARENTLEI\",\n",
    "    \"CHILDCOMPANYID\",\n",
    "    \"CHILDCOMPANYNAME\",\n",
    "    \"CHILDNAME\",\n",
    "    \"CHILDLEI\",\n",
    "    \"BUSINESSRELSOURCETYPENAME\")"
   ]
  },
  {
   "cell_type": "code",
   "execution_count": null,
   "metadata": {},
   "outputs": [],
   "source": [
    "implicit val headerDecoder: HeaderDecoder[SPRelationsRecord] = HeaderDecoder.decoder(\n",
    "    \"SOURCEIDENTIFIER\",\n",
    "    \"BUSINESSRELID\",\n",
    "    \"PARENTCOMPANYID\",\n",
    "    \"PARENTCOMPANYNAME\",\n",
    "    \"PARENTNAME\",\n",
    "    \"PARENTLEI\",\n",
    "    \"CHILDCOMPANYID\",\n",
    "    \"CHILDCOMPANYNAME\",\n",
    "    \"CHILDNAME\",\n",
    "    \"CHILDLEI\",\n",
    "    \"BUSINESSRELSOURCETYPENAME\")(SPRelationsRecord.apply)"
   ]
  }
 ],
 "metadata": {
  "kernelspec": {
   "display_name": "toree - Scala",
   "language": "scala",
   "name": "toree_scala"
  },
  "language_info": {
   "codemirror_mode": "text/x-scala",
   "file_extension": ".scala",
   "mimetype": "text/x-scala",
   "name": "scala",
   "pygments_lexer": "scala",
   "version": "2.12.12"
  }
 },
 "nbformat": 4,
 "nbformat_minor": 4
}
