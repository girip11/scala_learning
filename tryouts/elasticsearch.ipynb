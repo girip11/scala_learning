{
 "cells": [
  {
   "cell_type": "code",
   "execution_count": 2,
   "metadata": {},
   "outputs": [
    {
     "data": {
      "text/plain": [
       "\u001b[32mimport \u001b[39m\u001b[36mcoursierapi.MavenRepository\u001b[39m"
      ]
     },
     "execution_count": 2,
     "metadata": {},
     "output_type": "execute_result"
    }
   ],
   "source": [
    "import coursierapi.MavenRepository"
   ]
  },
  {
   "cell_type": "code",
   "execution_count": 3,
   "metadata": {},
   "outputs": [
    {
     "data": {
      "text/plain": [
       "\u001b[36mres2\u001b[39m: \u001b[32mList\u001b[39m[\u001b[32mcoursierapi\u001b[39m.\u001b[32mRepository\u001b[39m] = \u001b[33mList\u001b[39m(\n",
       "  ApiRepo(IvyRepository(Pattern(List(Const(file:/home/girish/.ivy2/local/), Var(organisation), Const(/), Var(module), Const(/), Opt(List(Const(scala_), Var(scalaVersion), Const(/))), Opt(List(Const(sbt_), Var(sbtVersion), Const(/))), Var(revision), Const(/), Var(type), Const(s/), Var(artifact), Opt(List(Const(-), Var(classifier))), Const(.), Var(ext))), None, None, true, true, true, true, None, true)),\n",
       "  ApiRepo(MavenRepository(https://repo1.maven.org/maven2, None, None, true, true)),\n",
       "  MavenRepository(/media/girish/HDD/inferess_code/repos/.m2/repository)\n",
       ")"
      ]
     },
     "execution_count": 3,
     "metadata": {},
     "output_type": "execute_result"
    }
   ],
   "source": [
    "//https://almond.sh/docs/api-ammonite\n",
    "interp.repositories() ++=  List(MavenRepository.of(\"file:///media/girish/HDD/inferess_code/repos/.m2/repository\"))"
   ]
  },
  {
   "cell_type": "code",
   "execution_count": 8,
   "metadata": {},
   "outputs": [
    {
     "name": "stderr",
     "output_type": "stream",
     "text": [
      "Downloading https://repo1.maven.org/maven2/org/elasticsearch/client/transport/6.2.4/transport-6.2.4.pom\n",
      "Downloaded https://repo1.maven.org/maven2/org/elasticsearch/client/transport/6.2.4/transport-6.2.4.pom\n",
      "Downloading https://repo1.maven.org/maven2/org/elasticsearch/plugin/parent-join-client/6.2.4/parent-join-client-6.2.4.pom\n",
      "Downloading https://repo1.maven.org/maven2/org/elasticsearch/plugin/transport-netty4-client/6.2.4/transport-netty4-client-6.2.4.pom\n",
      "Downloading https://repo1.maven.org/maven2/org/elasticsearch/plugin/percolator-client/6.2.4/percolator-client-6.2.4.pom\n",
      "Downloading https://repo1.maven.org/maven2/org/elasticsearch/plugin/reindex-client/6.2.4/reindex-client-6.2.4.pom\n",
      "Downloading https://repo1.maven.org/maven2/org/elasticsearch/plugin/rank-eval-client/6.2.4/rank-eval-client-6.2.4.pom\n",
      "Downloading https://repo1.maven.org/maven2/org/elasticsearch/plugin/lang-mustache-client/6.2.4/lang-mustache-client-6.2.4.pom\n",
      "Downloaded https://repo1.maven.org/maven2/org/elasticsearch/plugin/reindex-client/6.2.4/reindex-client-6.2.4.pom\n",
      "Downloaded https://repo1.maven.org/maven2/org/elasticsearch/plugin/percolator-client/6.2.4/percolator-client-6.2.4.pom\n",
      "Downloaded https://repo1.maven.org/maven2/org/elasticsearch/plugin/transport-netty4-client/6.2.4/transport-netty4-client-6.2.4.pom\n",
      "Downloaded https://repo1.maven.org/maven2/org/elasticsearch/plugin/rank-eval-client/6.2.4/rank-eval-client-6.2.4.pom\n",
      "Downloaded https://repo1.maven.org/maven2/org/elasticsearch/plugin/parent-join-client/6.2.4/parent-join-client-6.2.4.pom\n",
      "Downloaded https://repo1.maven.org/maven2/org/elasticsearch/plugin/lang-mustache-client/6.2.4/lang-mustache-client-6.2.4.pom\n",
      "Downloading https://repo1.maven.org/maven2/io/netty/netty-codec/4.1.16.Final/netty-codec-4.1.16.Final.pom\n",
      "Downloading https://repo1.maven.org/maven2/io/netty/netty-buffer/4.1.16.Final/netty-buffer-4.1.16.Final.pom\n",
      "Downloading https://repo1.maven.org/maven2/org/elasticsearch/client/elasticsearch-rest-client/6.2.4/elasticsearch-rest-client-6.2.4.pom\n",
      "Downloading https://repo1.maven.org/maven2/com/vividsolutions/jts/1.13/jts-1.13.pom\n",
      "Downloading https://repo1.maven.org/maven2/io/netty/netty-common/4.1.16.Final/netty-common-4.1.16.Final.pom\n",
      "Downloading https://repo1.maven.org/maven2/org/locationtech/spatial4j/spatial4j/0.6/spatial4j-0.6.pom\n",
      "Downloaded https://repo1.maven.org/maven2/org/elasticsearch/client/elasticsearch-rest-client/6.2.4/elasticsearch-rest-client-6.2.4.pom\n",
      "Downloading https://repo1.maven.org/maven2/io/netty/netty-codec-http/4.1.16.Final/netty-codec-http-4.1.16.Final.pom\n",
      "Downloaded https://repo1.maven.org/maven2/com/vividsolutions/jts/1.13/jts-1.13.pom\n",
      "Downloading https://repo1.maven.org/maven2/com/github/spullara/mustache/java/compiler/0.9.3/compiler-0.9.3.pom\n",
      "Downloaded https://repo1.maven.org/maven2/io/netty/netty-codec/4.1.16.Final/netty-codec-4.1.16.Final.pom\n",
      "Downloaded https://repo1.maven.org/maven2/org/locationtech/spatial4j/spatial4j/0.6/spatial4j-0.6.pom\n",
      "Downloaded https://repo1.maven.org/maven2/io/netty/netty-common/4.1.16.Final/netty-common-4.1.16.Final.pom\n",
      "Downloading https://repo1.maven.org/maven2/io/netty/netty-resolver/4.1.16.Final/netty-resolver-4.1.16.Final.pom\n",
      "Downloading https://repo1.maven.org/maven2/io/netty/netty-transport/4.1.16.Final/netty-transport-4.1.16.Final.pom\n",
      "Downloading https://repo1.maven.org/maven2/io/netty/netty-handler/4.1.16.Final/netty-handler-4.1.16.Final.pom\n",
      "Downloaded https://repo1.maven.org/maven2/io/netty/netty-codec-http/4.1.16.Final/netty-codec-http-4.1.16.Final.pom\n",
      "Downloaded https://repo1.maven.org/maven2/com/github/spullara/mustache/java/compiler/0.9.3/compiler-0.9.3.pom\n",
      "Downloaded https://repo1.maven.org/maven2/io/netty/netty-resolver/4.1.16.Final/netty-resolver-4.1.16.Final.pom\n",
      "Downloaded https://repo1.maven.org/maven2/io/netty/netty-handler/4.1.16.Final/netty-handler-4.1.16.Final.pom\n",
      "Downloaded https://repo1.maven.org/maven2/io/netty/netty-transport/4.1.16.Final/netty-transport-4.1.16.Final.pom\n",
      "Downloaded https://repo1.maven.org/maven2/io/netty/netty-buffer/4.1.16.Final/netty-buffer-4.1.16.Final.pom\n",
      "Downloading https://repo1.maven.org/maven2/io/netty/netty-parent/4.1.16.Final/netty-parent-4.1.16.Final.pom\n",
      "Downloading https://repo1.maven.org/maven2/com/github/spullara/mustache/java/mustache.java/0.9.3/mustache.java-0.9.3.pom\n",
      "Downloaded https://repo1.maven.org/maven2/com/github/spullara/mustache/java/mustache.java/0.9.3/mustache.java-0.9.3.pom\n",
      "Downloaded https://repo1.maven.org/maven2/io/netty/netty-parent/4.1.16.Final/netty-parent-4.1.16.Final.pom\n",
      "Downloading https://repo1.maven.org/maven2/commons-logging/commons-logging/1.1.3/commons-logging-1.1.3.pom\n",
      "Downloading https://repo1.maven.org/maven2/org/apache/httpcomponents/httpclient/4.5.2/httpclient-4.5.2.pom\n",
      "Downloading https://repo1.maven.org/maven2/org/apache/httpcomponents/httpcore-nio/4.4.5/httpcore-nio-4.4.5.pom\n",
      "Downloading https://repo1.maven.org/maven2/org/apache/httpcomponents/httpcore/4.4.5/httpcore-4.4.5.pom\n",
      "Downloading https://repo1.maven.org/maven2/org/apache/httpcomponents/httpasyncclient/4.1.2/httpasyncclient-4.1.2.pom\n",
      "Downloaded https://repo1.maven.org/maven2/org/apache/httpcomponents/httpcore-nio/4.4.5/httpcore-nio-4.4.5.pom\n",
      "Downloaded https://repo1.maven.org/maven2/org/apache/httpcomponents/httpclient/4.5.2/httpclient-4.5.2.pom\n",
      "Downloaded https://repo1.maven.org/maven2/org/apache/httpcomponents/httpcore/4.4.5/httpcore-4.4.5.pom\n",
      "Downloaded https://repo1.maven.org/maven2/commons-logging/commons-logging/1.1.3/commons-logging-1.1.3.pom\n",
      "Downloaded https://repo1.maven.org/maven2/org/apache/httpcomponents/httpasyncclient/4.1.2/httpasyncclient-4.1.2.pom\n",
      "Downloading https://repo1.maven.org/maven2/org/apache/httpcomponents/httpcomponents-asyncclient/4.1.2/httpcomponents-asyncclient-4.1.2.pom\n",
      "Downloading https://repo1.maven.org/maven2/org/apache/httpcomponents/httpcomponents-core/4.4.5/httpcomponents-core-4.4.5.pom\n",
      "Downloading https://repo1.maven.org/maven2/org/apache/httpcomponents/httpcomponents-client/4.5.2/httpcomponents-client-4.5.2.pom\n",
      "Downloaded https://repo1.maven.org/maven2/org/apache/httpcomponents/httpcomponents-core/4.4.5/httpcomponents-core-4.4.5.pom\n",
      "Downloaded https://repo1.maven.org/maven2/org/apache/httpcomponents/httpcomponents-client/4.5.2/httpcomponents-client-4.5.2.pom\n",
      "Downloaded https://repo1.maven.org/maven2/org/apache/httpcomponents/httpcomponents-asyncclient/4.1.2/httpcomponents-asyncclient-4.1.2.pom\n",
      "Downloading https://repo1.maven.org/maven2/org/apache/commons/commons-parent/28/commons-parent-28.pom\n",
      "Downloaded https://repo1.maven.org/maven2/org/apache/commons/commons-parent/28/commons-parent-28.pom\n",
      "Downloading https://repo1.maven.org/maven2/org/apache/httpcomponents/project/7/project-7.pom\n",
      "Downloaded https://repo1.maven.org/maven2/org/apache/httpcomponents/project/7/project-7.pom\n",
      "Downloading https://repo1.maven.org/maven2/io/netty/netty-resolver/4.1.16.Final/netty-resolver-4.1.16.Final.jar\n",
      "Downloading https://repo1.maven.org/maven2/org/elasticsearch/plugin/reindex-client/6.2.4/reindex-client-6.2.4-sources.jar\n",
      "Downloading https://repo1.maven.org/maven2/com/vividsolutions/jts/1.13/jts-1.13-sources.jar\n",
      "Downloading https://repo1.maven.org/maven2/io/netty/netty-transport/4.1.16.Final/netty-transport-4.1.16.Final-sources.jar\n",
      "Downloading https://repo1.maven.org/maven2/org/elasticsearch/plugin/reindex-client/6.2.4/reindex-client-6.2.4.jar\n",
      "Downloading https://repo1.maven.org/maven2/org/apache/httpcomponents/httpcore-nio/4.4.5/httpcore-nio-4.4.5.jar\n",
      "Downloaded https://repo1.maven.org/maven2/io/netty/netty-resolver/4.1.16.Final/netty-resolver-4.1.16.Final.jar\n",
      "Downloading https://repo1.maven.org/maven2/org/elasticsearch/plugin/percolator-client/6.2.4/percolator-client-6.2.4.jar\n",
      "Downloaded https://repo1.maven.org/maven2/org/elasticsearch/plugin/reindex-client/6.2.4/reindex-client-6.2.4-sources.jar\n",
      "Downloading https://repo1.maven.org/maven2/io/netty/netty-common/4.1.16.Final/netty-common-4.1.16.Final-sources.jar\n",
      "Downloaded https://repo1.maven.org/maven2/org/elasticsearch/plugin/percolator-client/6.2.4/percolator-client-6.2.4.jar\n",
      "Downloading https://repo1.maven.org/maven2/org/apache/httpcomponents/httpcore-nio/4.4.5/httpcore-nio-4.4.5-sources.jar\n",
      "Downloaded https://repo1.maven.org/maven2/io/netty/netty-transport/4.1.16.Final/netty-transport-4.1.16.Final-sources.jar\n"
     ]
    },
    {
     "name": "stderr",
     "output_type": "stream",
     "text": [
      "Downloading https://repo1.maven.org/maven2/org/elasticsearch/client/transport/6.2.4/transport-6.2.4-sources.jar\n",
      "Downloaded https://repo1.maven.org/maven2/io/netty/netty-common/4.1.16.Final/netty-common-4.1.16.Final-sources.jar\n",
      "Downloading https://repo1.maven.org/maven2/org/elasticsearch/plugin/transport-netty4-client/6.2.4/transport-netty4-client-6.2.4.jar\n",
      "Downloaded https://repo1.maven.org/maven2/org/apache/httpcomponents/httpcore-nio/4.4.5/httpcore-nio-4.4.5-sources.jar\n",
      "Downloading https://repo1.maven.org/maven2/io/netty/netty-buffer/4.1.16.Final/netty-buffer-4.1.16.Final.jar\n",
      "Downloaded https://repo1.maven.org/maven2/org/elasticsearch/client/transport/6.2.4/transport-6.2.4-sources.jar\n",
      "Downloading https://repo1.maven.org/maven2/com/vividsolutions/jts/1.13/jts-1.13.jar\n",
      "Downloaded https://repo1.maven.org/maven2/com/vividsolutions/jts/1.13/jts-1.13-sources.jar\n",
      "Downloading https://repo1.maven.org/maven2/org/apache/httpcomponents/httpasyncclient/4.1.2/httpasyncclient-4.1.2-sources.jar\n",
      "Downloaded https://repo1.maven.org/maven2/org/apache/httpcomponents/httpcore-nio/4.4.5/httpcore-nio-4.4.5.jar\n",
      "Downloading https://repo1.maven.org/maven2/io/netty/netty-codec-http/4.1.16.Final/netty-codec-http-4.1.16.Final-sources.jar\n",
      "Downloaded https://repo1.maven.org/maven2/org/elasticsearch/plugin/transport-netty4-client/6.2.4/transport-netty4-client-6.2.4.jar\n",
      "Downloading https://repo1.maven.org/maven2/io/netty/netty-handler/4.1.16.Final/netty-handler-4.1.16.Final-sources.jar\n",
      "Downloaded https://repo1.maven.org/maven2/io/netty/netty-buffer/4.1.16.Final/netty-buffer-4.1.16.Final.jar\n",
      "Downloading https://repo1.maven.org/maven2/org/apache/httpcomponents/httpcore/4.4.5/httpcore-4.4.5-sources.jar\n",
      "Downloaded https://repo1.maven.org/maven2/org/apache/httpcomponents/httpasyncclient/4.1.2/httpasyncclient-4.1.2-sources.jar\n",
      "Downloading https://repo1.maven.org/maven2/io/netty/netty-resolver/4.1.16.Final/netty-resolver-4.1.16.Final-sources.jar\n",
      "Downloaded https://repo1.maven.org/maven2/com/vividsolutions/jts/1.13/jts-1.13.jar\n",
      "Downloading https://repo1.maven.org/maven2/io/netty/netty-buffer/4.1.16.Final/netty-buffer-4.1.16.Final-sources.jar\n",
      "Downloaded https://repo1.maven.org/maven2/io/netty/netty-handler/4.1.16.Final/netty-handler-4.1.16.Final-sources.jar\n",
      "Downloaded https://repo1.maven.org/maven2/org/apache/httpcomponents/httpcore/4.4.5/httpcore-4.4.5-sources.jar\n",
      "Downloading https://repo1.maven.org/maven2/io/netty/netty-codec/4.1.16.Final/netty-codec-4.1.16.Final-sources.jar\n",
      "Downloading https://repo1.maven.org/maven2/org/elasticsearch/plugin/parent-join-client/6.2.4/parent-join-client-6.2.4.jar\n",
      "Downloaded https://repo1.maven.org/maven2/io/netty/netty-resolver/4.1.16.Final/netty-resolver-4.1.16.Final-sources.jar\n",
      "Downloading https://repo1.maven.org/maven2/commons-logging/commons-logging/1.1.3/commons-logging-1.1.3-sources.jar\n",
      "Downloaded https://repo1.maven.org/maven2/io/netty/netty-buffer/4.1.16.Final/netty-buffer-4.1.16.Final-sources.jar\n",
      "Downloading https://repo1.maven.org/maven2/io/netty/netty-common/4.1.16.Final/netty-common-4.1.16.Final.jar\n",
      "Downloaded https://repo1.maven.org/maven2/org/elasticsearch/plugin/parent-join-client/6.2.4/parent-join-client-6.2.4.jar\n",
      "Downloading https://repo1.maven.org/maven2/org/elasticsearch/plugin/transport-netty4-client/6.2.4/transport-netty4-client-6.2.4-sources.jar\n",
      "Downloaded https://repo1.maven.org/maven2/io/netty/netty-codec-http/4.1.16.Final/netty-codec-http-4.1.16.Final-sources.jar\n",
      "Downloading https://repo1.maven.org/maven2/org/locationtech/spatial4j/spatial4j/0.6/spatial4j-0.6-sources.jar\n",
      "Downloaded https://repo1.maven.org/maven2/io/netty/netty-codec/4.1.16.Final/netty-codec-4.1.16.Final-sources.jar\n",
      "Downloading https://repo1.maven.org/maven2/org/elasticsearch/plugin/lang-mustache-client/6.2.4/lang-mustache-client-6.2.4.jar\n",
      "Downloaded https://repo1.maven.org/maven2/commons-logging/commons-logging/1.1.3/commons-logging-1.1.3-sources.jar\n",
      "Downloading https://repo1.maven.org/maven2/com/github/spullara/mustache/java/compiler/0.9.3/compiler-0.9.3.jar\n",
      "Downloaded https://repo1.maven.org/maven2/io/netty/netty-common/4.1.16.Final/netty-common-4.1.16.Final.jar\n",
      "Downloading https://repo1.maven.org/maven2/org/apache/httpcomponents/httpclient/4.5.2/httpclient-4.5.2.jar\n",
      "Downloaded https://repo1.maven.org/maven2/org/elasticsearch/plugin/lang-mustache-client/6.2.4/lang-mustache-client-6.2.4.jar\n",
      "Downloading https://repo1.maven.org/maven2/org/elasticsearch/plugin/lang-mustache-client/6.2.4/lang-mustache-client-6.2.4-sources.jar\n",
      "Downloaded https://repo1.maven.org/maven2/com/github/spullara/mustache/java/compiler/0.9.3/compiler-0.9.3.jar\n",
      "Downloading https://repo1.maven.org/maven2/org/elasticsearch/plugin/rank-eval-client/6.2.4/rank-eval-client-6.2.4-sources.jar\n",
      "Downloaded https://repo1.maven.org/maven2/org/locationtech/spatial4j/spatial4j/0.6/spatial4j-0.6-sources.jar\n",
      "Downloading https://repo1.maven.org/maven2/org/elasticsearch/client/transport/6.2.4/transport-6.2.4.jar\n",
      "Downloaded https://repo1.maven.org/maven2/org/elasticsearch/plugin/transport-netty4-client/6.2.4/transport-netty4-client-6.2.4-sources.jar\n",
      "Downloading https://repo1.maven.org/maven2/io/netty/netty-codec-http/4.1.16.Final/netty-codec-http-4.1.16.Final.jar\n",
      "Downloaded https://repo1.maven.org/maven2/org/elasticsearch/client/transport/6.2.4/transport-6.2.4.jar\n",
      "Downloading https://repo1.maven.org/maven2/org/elasticsearch/plugin/rank-eval-client/6.2.4/rank-eval-client-6.2.4.jar\n",
      "Downloaded https://repo1.maven.org/maven2/org/apache/httpcomponents/httpclient/4.5.2/httpclient-4.5.2.jar\n",
      "Downloading https://repo1.maven.org/maven2/org/apache/httpcomponents/httpclient/4.5.2/httpclient-4.5.2-sources.jar\n",
      "Downloaded https://repo1.maven.org/maven2/org/elasticsearch/plugin/rank-eval-client/6.2.4/rank-eval-client-6.2.4-sources.jar\n",
      "Downloading https://repo1.maven.org/maven2/com/github/spullara/mustache/java/compiler/0.9.3/compiler-0.9.3-sources.jar\n",
      "Downloaded https://repo1.maven.org/maven2/io/netty/netty-codec-http/4.1.16.Final/netty-codec-http-4.1.16.Final.jar\n",
      "Downloading https://repo1.maven.org/maven2/io/netty/netty-codec/4.1.16.Final/netty-codec-4.1.16.Final.jar\n",
      "Downloaded https://repo1.maven.org/maven2/org/elasticsearch/plugin/lang-mustache-client/6.2.4/lang-mustache-client-6.2.4-sources.jar\n",
      "Downloading https://repo1.maven.org/maven2/org/locationtech/spatial4j/spatial4j/0.6/spatial4j-0.6.jar\n",
      "Downloaded https://repo1.maven.org/maven2/com/github/spullara/mustache/java/compiler/0.9.3/compiler-0.9.3-sources.jar\n",
      "Downloading https://repo1.maven.org/maven2/commons-logging/commons-logging/1.1.3/commons-logging-1.1.3.jar\n",
      "Downloaded https://repo1.maven.org/maven2/org/elasticsearch/plugin/rank-eval-client/6.2.4/rank-eval-client-6.2.4.jar\n",
      "Downloading https://repo1.maven.org/maven2/io/netty/netty-transport/4.1.16.Final/netty-transport-4.1.16.Final.jar\n",
      "Downloaded https://repo1.maven.org/maven2/org/apache/httpcomponents/httpclient/4.5.2/httpclient-4.5.2-sources.jar\n",
      "Downloading https://repo1.maven.org/maven2/org/elasticsearch/client/elasticsearch-rest-client/6.2.4/elasticsearch-rest-client-6.2.4-sources.jar\n",
      "Downloaded https://repo1.maven.org/maven2/io/netty/netty-codec/4.1.16.Final/netty-codec-4.1.16.Final.jar\n",
      "Downloading https://repo1.maven.org/maven2/org/elasticsearch/plugin/parent-join-client/6.2.4/parent-join-client-6.2.4-sources.jar\n",
      "Downloaded https://repo1.maven.org/maven2/org/locationtech/spatial4j/spatial4j/0.6/spatial4j-0.6.jar\n",
      "Downloading https://repo1.maven.org/maven2/org/apache/httpcomponents/httpasyncclient/4.1.2/httpasyncclient-4.1.2.jar\n",
      "Downloaded https://repo1.maven.org/maven2/commons-logging/commons-logging/1.1.3/commons-logging-1.1.3.jar\n",
      "Downloading https://repo1.maven.org/maven2/io/netty/netty-handler/4.1.16.Final/netty-handler-4.1.16.Final.jar\n",
      "Downloaded https://repo1.maven.org/maven2/org/elasticsearch/client/elasticsearch-rest-client/6.2.4/elasticsearch-rest-client-6.2.4-sources.jar\n",
      "Downloading https://repo1.maven.org/maven2/org/apache/httpcomponents/httpcore/4.4.5/httpcore-4.4.5.jar\n",
      "Downloaded https://repo1.maven.org/maven2/org/elasticsearch/plugin/parent-join-client/6.2.4/parent-join-client-6.2.4-sources.jar\n",
      "Downloading https://repo1.maven.org/maven2/org/elasticsearch/client/elasticsearch-rest-client/6.2.4/elasticsearch-rest-client-6.2.4.jar\n"
     ]
    },
    {
     "name": "stderr",
     "output_type": "stream",
     "text": [
      "Downloaded https://repo1.maven.org/maven2/org/apache/httpcomponents/httpasyncclient/4.1.2/httpasyncclient-4.1.2.jar\n",
      "Downloaded https://repo1.maven.org/maven2/io/netty/netty-transport/4.1.16.Final/netty-transport-4.1.16.Final.jar\n",
      "Downloading https://repo1.maven.org/maven2/org/elasticsearch/plugin/percolator-client/6.2.4/percolator-client-6.2.4-sources.jar\n",
      "Downloaded https://repo1.maven.org/maven2/org/elasticsearch/client/elasticsearch-rest-client/6.2.4/elasticsearch-rest-client-6.2.4.jar\n",
      "Downloaded https://repo1.maven.org/maven2/org/apache/httpcomponents/httpcore/4.4.5/httpcore-4.4.5.jar\n",
      "Downloaded https://repo1.maven.org/maven2/io/netty/netty-handler/4.1.16.Final/netty-handler-4.1.16.Final.jar\n",
      "Downloaded https://repo1.maven.org/maven2/org/elasticsearch/plugin/percolator-client/6.2.4/percolator-client-6.2.4-sources.jar\n",
      "Downloaded https://repo1.maven.org/maven2/org/elasticsearch/plugin/reindex-client/6.2.4/reindex-client-6.2.4.jar\n"
     ]
    },
    {
     "data": {
      "text/plain": [
       "\u001b[32mimport \u001b[39m\u001b[36m$ivy.$                                      \n",
       "\u001b[39m\n",
       "\u001b[32mimport \u001b[39m\u001b[36m$ivy.$                                         \n",
       "\u001b[39m\n",
       "\u001b[32mimport \u001b[39m\u001b[36m$ivy.$                                          \u001b[39m"
      ]
     },
     "execution_count": 8,
     "metadata": {},
     "output_type": "execute_result"
    }
   ],
   "source": [
    "import $ivy.`org.elasticsearch:elasticsearch:6.2.4`\n",
    "import $ivy.`org.elasticsearch.client:transport:6.2.4`\n",
    "import $ivy.`org.apache.logging.log4j:log4j-core:2.9.1`"
   ]
  },
  {
   "cell_type": "code",
   "execution_count": 6,
   "metadata": {},
   "outputs": [
    {
     "data": {
      "text/plain": [
       "\u001b[32mimport \u001b[39m\u001b[36morg.elasticsearch.index.query._\u001b[39m"
      ]
     },
     "execution_count": 6,
     "metadata": {},
     "output_type": "execute_result"
    }
   ],
   "source": [
    "import org.elasticsearch.index.query._"
   ]
  },
  {
   "cell_type": "code",
   "execution_count": 20,
   "metadata": {},
   "outputs": [
    {
     "data": {
      "text/plain": [
       "\u001b[36mrq\u001b[39m: \u001b[32mTermQueryBuilder\u001b[39m = {\n",
       "  \"term\" : {\n",
       "    \"filer.keyword\" : {\n",
       "      \"value\" : \"PetLife Pharmaceuticals, Inc.\",\n",
       "      \"boost\" : 1.0\n",
       "    }\n",
       "  }\n",
       "}\n",
       "\u001b[36mmeq\u001b[39m: \u001b[32mMatchPhraseQueryBuilder\u001b[39m = {\n",
       "  \"match_phrase\" : {\n",
       "    \"mentionedEntityExtractedName\" : {\n",
       "      \"query\" : \"Astra Zeneca\",\n",
       "      \"slop\" : 0,\n",
       "      \"boost\" : 1.0\n",
       "    }\n",
       "  }\n",
       "}\n",
       "\u001b[36mquery\u001b[39m: \u001b[32mBoolQueryBuilder\u001b[39m = {\n",
       "  \"bool\" : {\n",
       "    \"must\" : [\n",
       "      {\n",
       "        \"match_phrase\" : {\n",
       "          \"mentionedEntityExtractedName\" : {\n",
       "            \"query\" : \"Astra Zeneca\",\n",
       "            \"slop\" : 0,\n",
       "            \"boost\" : 1.0\n",
       "          }\n",
       "        }\n",
       "      }\n",
       "    ],\n",
       "    \"filter\" : [\n",
       "      {\n",
       "        \"term\" : {\n",
       "          \"filer.keyword\" : {\n",
       "            \"value\" : \"PetLife Pharmaceuticals, Inc.\",\n",
       "            \"boost\" : 1.0\n",
       "          }\n",
       "        }\n",
       "      }\n",
       "    ],\n",
       "    \"adjust_pure_negative\" : true,\n",
       "    \"boost\" : 1.0\n",
       "  }\n",
       "}\n",
       "\u001b[36mres19_3\u001b[39m: \u001b[32mString\u001b[39m = \u001b[32m\"\"\"{\n",
       "  \"bool\" : {\n",
       "    \"must\" : [\n",
       "      {\n",
       "        \"match_phrase\" : {\n",
       "          \"mentionedEntityExtractedName\" : {\n",
       "            \"query\" : \"Astra Zeneca\",\n",
       "            \"slop\" : 0,\n",
       "            \"boost\" : 1.0\n",
       "          }\n",
       "        }\n",
       "      }\n",
       "    ],\n",
       "    \"filter\" : [\n",
       "      {\n",
       "        \"term\" : {\n",
       "          \"filer.keyword\" : {\n",
       "            \"value\" : \"PetLife Pharmaceuticals, Inc.\",\n",
       "            \"boost\" : 1.0\n",
       "          }\n",
       "        }\n",
       "      }\n",
       "    ],\n",
       "    \"adjust_pure_negative\" : true,\n",
       "    \"boost\" : 1.0\n",
       "  }\n",
       "}\"\"\"\u001b[39m"
      ]
     },
     "execution_count": 20,
     "metadata": {},
     "output_type": "execute_result"
    }
   ],
   "source": [
    "val rq = QueryBuilders.termQuery(\"filer.keyword\", \"PetLife Pharmaceuticals, Inc.\")\n",
    "val meq = QueryBuilders.matchPhraseQuery(\"mentionedEntityExtractedName\", \"Astra Zeneca\")\n",
    "val query = QueryBuilders.boolQuery.filter(rq).must(meq)\n",
    "query.toString()"
   ]
  },
  {
   "cell_type": "code",
   "execution_count": 9,
   "metadata": {},
   "outputs": [
    {
     "data": {
      "text/plain": [
       "\u001b[32mimport \u001b[39m\u001b[36morg.elasticsearch.client.Client\n",
       "\u001b[39m\n",
       "\u001b[32mimport \u001b[39m\u001b[36morg.elasticsearch.common.settings.Settings\n",
       "\u001b[39m\n",
       "\u001b[32mimport \u001b[39m\u001b[36morg.elasticsearch.common.transport.TransportAddress\n",
       "\u001b[39m\n",
       "\u001b[32mimport \u001b[39m\u001b[36morg.elasticsearch.transport.client.PreBuiltTransportClient\u001b[39m"
      ]
     },
     "execution_count": 9,
     "metadata": {},
     "output_type": "execute_result"
    }
   ],
   "source": [
    "import org.elasticsearch.client.Client\n",
    "import org.elasticsearch.common.settings.Settings\n",
    "import org.elasticsearch.common.transport.TransportAddress\n",
    "import org.elasticsearch.transport.client.PreBuiltTransportClient"
   ]
  },
  {
   "cell_type": "code",
   "execution_count": 10,
   "metadata": {},
   "outputs": [
    {
     "data": {
      "text/plain": [
       "\u001b[32mimport \u001b[39m\u001b[36mjava.net.InetAddress\u001b[39m"
      ]
     },
     "execution_count": 10,
     "metadata": {},
     "output_type": "execute_result"
    }
   ],
   "source": [
    "import java.net.InetAddress"
   ]
  },
  {
   "cell_type": "code",
   "execution_count": 11,
   "metadata": {},
   "outputs": [
    {
     "data": {
      "text/plain": [
       "\u001b[36mSearchServerHost\u001b[39m: \u001b[32mString\u001b[39m = \u001b[32m\"127.0.0.1\"\u001b[39m\n",
       "\u001b[36mclusterName\u001b[39m: \u001b[32mSettings\u001b[39m = {\"cluster.name\":\"InferessElasticsearch\"}\n",
       "\u001b[36mclient\u001b[39m: \u001b[32morg\u001b[39m.\u001b[32melasticsearch\u001b[39m.\u001b[32mclient\u001b[39m.\u001b[32mtransport\u001b[39m.\u001b[32mTransportClient\u001b[39m = org.elasticsearch.transport.client.PreBuiltTransportClient@2cfb1d6b"
      ]
     },
     "execution_count": 11,
     "metadata": {},
     "output_type": "execute_result"
    }
   ],
   "source": [
    "val SearchServerHost = \"127.0.0.1\"\n",
    "val clusterName: Settings = Settings.builder().put(\"cluster.name\", \"InferessElasticsearch\").build()\n",
    "val client = new PreBuiltTransportClient(clusterName)\n",
    "    .addTransportAddress(new TransportAddress(InetAddress.getByName(SearchServerHost), 9300))"
   ]
  },
  {
   "cell_type": "code",
   "execution_count": 12,
   "metadata": {},
   "outputs": [
    {
     "data": {
      "text/plain": [
       "\u001b[32mimport \u001b[39m\u001b[36morg.elasticsearch.action.search.{SearchRequestBuilder, SearchType}\u001b[39m"
      ]
     },
     "execution_count": 12,
     "metadata": {},
     "output_type": "execute_result"
    }
   ],
   "source": [
    "import org.elasticsearch.action.search.{SearchRequestBuilder, SearchType}"
   ]
  },
  {
   "cell_type": "code",
   "execution_count": 21,
   "metadata": {},
   "outputs": [
    {
     "data": {
      "text/plain": [
       "\u001b[36msrb\u001b[39m: \u001b[32mSearchRequestBuilder\u001b[39m = {\"query\":{\"bool\":{\"must\":[{\"match_phrase\":{\"mentionedEntityExtractedName\":{\"query\":\"Astra Zeneca\",\"slop\":0,\"boost\":1.0}}}],\"filter\":[{\"term\":{\"filer.keyword\":{\"value\":\"PetLife Pharmaceuticals, Inc.\",\"boost\":1.0}}}],\"adjust_pure_negative\":true,\"boost\":1.0}},\"_source\":{\"includes\":[\"filer\",\"mentionedEntityExtractedName\",\"sentence\"],\"excludes\":[]}}\n",
       "\u001b[36mres20_1\u001b[39m: \u001b[32mString\u001b[39m = \u001b[32m\"{\\\"query\\\":{\\\"bool\\\":{\\\"must\\\":[{\\\"match_phrase\\\":{\\\"mentionedEntityExtractedName\\\":{\\\"query\\\":\\\"Astra Zeneca\\\",\\\"slop\\\":0,\\\"boost\\\":1.0}}}],\\\"filter\\\":[{\\\"term\\\":{\\\"filer.keyword\\\":{\\\"value\\\":\\\"PetLife Pharmaceuticals, Inc.\\\",\\\"boost\\\":1.0}}}],\\\"adjust_pure_negative\\\":true,\\\"boost\\\":1.0}},\\\"_source\\\":{\\\"includes\\\":[\\\"filer\\\",\\\"mentionedEntityExtractedName\\\",\\\"sentence\\\"],\\\"excludes\\\":[]}}\"\u001b[39m"
      ]
     },
     "execution_count": 21,
     "metadata": {},
     "output_type": "execute_result"
    }
   ],
   "source": [
    "val srb = client.prepareSearch(\"filingsentences\")\n",
    "  .setSearchType(SearchType.DEFAULT)\n",
    "  .setQuery(query)\n",
    "  .setFetchSource(Array(\"filer\", \"mentionedEntityExtractedName\", \"sentence\"), null)\n",
    "\n",
    "srb.toString()"
   ]
  },
  {
   "cell_type": "code",
   "execution_count": 22,
   "metadata": {},
   "outputs": [
    {
     "data": {
      "text/plain": [
       "\u001b[36mresponse\u001b[39m: \u001b[32morg\u001b[39m.\u001b[32melasticsearch\u001b[39m.\u001b[32maction\u001b[39m.\u001b[32msearch\u001b[39m.\u001b[32mSearchResponse\u001b[39m = {\"took\":13,\"timed_out\":false,\"_shards\":{\"total\":5,\"successful\":5,\"skipped\":0,\"failed\":0},\"_clusters\":{\"total\":0,\"successful\":0,\"skipped\":0},\"hits\":{\"total\":1,\"max_score\":11.49935,\"hits\":[{\"_index\":\"filingsentences\",\"_type\":\"filingsentence\",\"_id\":\"Sy0wWXgBslHb9s8xWmKj\",\"_score\":11.49935,\"_source\":{\"sentence\":\"During the early part of Dr. Ramana’s career, from 1984 to 2003, Dr. Ramana served as Medical Director of R&D for Pharmaceutical Clinical Research, Inc., which involved joint ventures with BMS, Pfizer, Schering Plough, and Astra Zeneca.\",\"filer\":\"PetLife Pharmaceuticals, Inc.\",\"mentionedEntityExtractedName\":\"Astra Zeneca\"}}]}}"
      ]
     },
     "execution_count": 22,
     "metadata": {},
     "output_type": "execute_result"
    }
   ],
   "source": [
    "val response = srb.get()"
   ]
  },
  {
   "cell_type": "code",
   "execution_count": 23,
   "metadata": {},
   "outputs": [
    {
     "data": {
      "text/plain": [
       "\u001b[36mhits\u001b[39m: \u001b[32mArray\u001b[39m[\u001b[32morg\u001b[39m.\u001b[32melasticsearch\u001b[39m.\u001b[32msearch\u001b[39m.\u001b[32mSearchHit\u001b[39m] = \u001b[33mArray\u001b[39m(\n",
       "  org.elasticsearch.search.SearchHit@638ad8b6\n",
       ")"
      ]
     },
     "execution_count": 23,
     "metadata": {},
     "output_type": "execute_result"
    }
   ],
   "source": [
    "val hits = response.getHits.getHits"
   ]
  },
  {
   "cell_type": "code",
   "execution_count": 28,
   "metadata": {},
   "outputs": [
    {
     "data": {
      "text/plain": [
       "\u001b[32mimport \u001b[39m\u001b[36mscala.collection.JavaConverters._\u001b[39m"
      ]
     },
     "execution_count": 28,
     "metadata": {},
     "output_type": "execute_result"
    }
   ],
   "source": [
    "import scala.collection.JavaConverters._"
   ]
  },
  {
   "cell_type": "code",
   "execution_count": 30,
   "metadata": {},
   "outputs": [
    {
     "data": {
      "text/plain": [
       "\u001b[36mres29\u001b[39m: \u001b[32mObject\u001b[39m = \u001b[32m\"During the early part of Dr. Ramana\\u2019s career, from 1984 to 2003, Dr. Ramana served as Medical Director of R&D for Pharmaceutical Clinical Research, Inc., which involved joint ventures with BMS, Pfizer, Schering Plough, and Astra Zeneca.\"\u001b[39m"
      ]
     },
     "execution_count": 30,
     "metadata": {},
     "output_type": "execute_result"
    }
   ],
   "source": [
    "hits.head.getSourceAsMap.asScala(\"sentence\")"
   ]
  }
 ],
 "metadata": {
  "kernelspec": {
   "display_name": "Scala",
   "language": "scala",
   "name": "scala"
  },
  "language_info": {
   "codemirror_mode": "text/x-scala",
   "file_extension": ".sc",
   "mimetype": "text/x-scala",
   "name": "scala",
   "nbconvert_exporter": "script",
   "version": "2.13.3"
  }
 },
 "nbformat": 4,
 "nbformat_minor": 4
}