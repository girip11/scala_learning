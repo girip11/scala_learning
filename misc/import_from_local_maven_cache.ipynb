{
 "cells": [
  {
   "cell_type": "markdown",
   "metadata": {},
   "source": [
    "We try to use the jars already present in a local maven repository in this jupyter notebook instead of downloading those libraries again."
   ]
  },
  {
   "cell_type": "code",
   "execution_count": 1,
   "metadata": {},
   "outputs": [
    {
     "data": {
      "text/plain": [
       "\u001b[32mimport \u001b[39m\u001b[36mcoursierapi.MavenRepository\u001b[39m"
      ]
     },
     "execution_count": 1,
     "metadata": {},
     "output_type": "execute_result"
    }
   ],
   "source": [
    "import coursierapi.MavenRepository"
   ]
  },
  {
   "cell_type": "code",
   "execution_count": 2,
   "metadata": {},
   "outputs": [
    {
     "name": "stdout",
     "output_type": "stream",
     "text": [
      "List(ApiRepo(IvyRepository(Pattern(List(Const(file:/home/girish/.ivy2/local/), Var(organisation), Const(/), Var(module), Const(/), Opt(List(Const(scala_), Var(scalaVersion), Const(/))), Opt(List(Const(sbt_), Var(sbtVersion), Const(/))), Var(revision), Const(/), Var(type), Const(s/), Var(artifact), Opt(List(Const(-), Var(classifier))), Const(.), Var(ext))), None, None, true, true, true, true, None, true)), ApiRepo(MavenRepository(https://repo1.maven.org/maven2, None, None, true, true)))\n"
     ]
    }
   ],
   "source": [
    "// prints all the repositories from where the packages will be looked up before downloading\n",
    "println(interp.repositories())"
   ]
  },
  {
   "cell_type": "code",
   "execution_count": 3,
   "metadata": {},
   "outputs": [
    {
     "data": {
      "text/plain": [
       "\u001b[36mres2\u001b[39m: \u001b[32mList\u001b[39m[\u001b[32mcoursierapi\u001b[39m.\u001b[32mRepository\u001b[39m] = \u001b[33mList\u001b[39m(\n",
       "  ApiRepo(IvyRepository(Pattern(List(Const(file:/home/girish/.ivy2/local/), Var(organisation), Const(/), Var(module), Const(/), Opt(List(Const(scala_), Var(scalaVersion), Const(/))), Opt(List(Const(sbt_), Var(sbtVersion), Const(/))), Var(revision), Const(/), Var(type), Const(s/), Var(artifact), Opt(List(Const(-), Var(classifier))), Const(.), Var(ext))), None, None, true, true, true, true, None, true)),\n",
       "  ApiRepo(MavenRepository(https://repo1.maven.org/maven2, None, None, true, true)),\n",
       "  MavenRepository(/media/girish/HDD/inferess_code/repos/.m2/repository)\n",
       ")"
      ]
     },
     "execution_count": 3,
     "metadata": {},
     "output_type": "execute_result"
    }
   ],
   "source": [
    "// Adding local maven repo to the interp.repositories()\n",
    "interp.repositories() ::: List(MavenRepository.of(\"/media/girish/HDD/inferess_code/repos/.m2/repository\"))"
   ]
  },
  {
   "cell_type": "code",
   "execution_count": 4,
   "metadata": {},
   "outputs": [
    {
     "data": {
      "text/plain": [
       "\u001b[32mimport \u001b[39m\u001b[36m$ivy.$                                      \u001b[39m"
      ]
     },
     "execution_count": 4,
     "metadata": {},
     "output_type": "execute_result"
    }
   ],
   "source": [
    "//Let's try to import a dependency from the local maven cache\n",
    "// local maven cache contains elasticsearch 6.2.4.\n",
    "import $ivy.`org.elasticsearch:elasticsearch:6.2.4`"
   ]
  },
  {
   "cell_type": "code",
   "execution_count": 7,
   "metadata": {},
   "outputs": [
    {
     "name": "stderr",
     "output_type": "stream",
     "text": [
      "Downloading https://repo1.maven.org/maven2/org/apache/logging/log4j/log4j-core/2.9.1/log4j-core-2.9.1.pom\n",
      "Downloaded https://repo1.maven.org/maven2/org/apache/logging/log4j/log4j-core/2.9.1/log4j-core-2.9.1.pom\n",
      "Downloading https://repo1.maven.org/maven2/org/apache/logging/log4j/log4j-core/2.9.1/log4j-core-2.9.1-sources.jar\n",
      "Downloading https://repo1.maven.org/maven2/org/apache/logging/log4j/log4j-core/2.9.1/log4j-core-2.9.1.jar\n",
      "Downloaded https://repo1.maven.org/maven2/org/apache/logging/log4j/log4j-core/2.9.1/log4j-core-2.9.1.jar\n",
      "Downloaded https://repo1.maven.org/maven2/org/apache/logging/log4j/log4j-core/2.9.1/log4j-core-2.9.1-sources.jar\n"
     ]
    },
    {
     "data": {
      "text/plain": [
       "\u001b[32mimport \u001b[39m\u001b[36m$ivy.$                                          \u001b[39m"
      ]
     },
     "execution_count": 7,
     "metadata": {},
     "output_type": "execute_result"
    }
   ],
   "source": [
    "import $ivy.`org.apache.logging.log4j:log4j-core:2.9.1`"
   ]
  },
  {
   "cell_type": "code",
   "execution_count": 5,
   "metadata": {},
   "outputs": [
    {
     "data": {
      "text/plain": [
       "\u001b[32mimport \u001b[39m\u001b[36morg.elasticsearch.index.query.QueryBuilders\u001b[39m"
      ]
     },
     "execution_count": 5,
     "metadata": {},
     "output_type": "execute_result"
    }
   ],
   "source": [
    "import org.elasticsearch.index.query.QueryBuilders"
   ]
  },
  {
   "cell_type": "code",
   "execution_count": 8,
   "metadata": {},
   "outputs": [
    {
     "data": {
      "text/plain": [
       "\u001b[36mres7\u001b[39m: \u001b[32mString\u001b[39m = \u001b[32m\"\"\"{\n",
       "  \"term\" : {\n",
       "    \"status\" : {\n",
       "      \"value\" : \"active\",\n",
       "      \"boost\" : 1.0\n",
       "    }\n",
       "  }\n",
       "}\"\"\"\u001b[39m"
      ]
     },
     "execution_count": 8,
     "metadata": {},
     "output_type": "execute_result"
    }
   ],
   "source": [
    "QueryBuilders.termQuery(\"status\", \"active\").toString()"
   ]
  }
 ],
 "metadata": {
  "kernelspec": {
   "display_name": "Scala",
   "language": "scala",
   "name": "scala"
  },
  "language_info": {
   "codemirror_mode": "text/x-scala",
   "file_extension": ".sc",
   "mimetype": "text/x-scala",
   "name": "scala",
   "nbconvert_exporter": "script",
   "version": "2.13.3"
  }
 },
 "nbformat": 4,
 "nbformat_minor": 4
}
