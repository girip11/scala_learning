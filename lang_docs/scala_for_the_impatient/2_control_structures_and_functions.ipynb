{
 "cells": [
  {
   "cell_type": "markdown",
   "metadata": {},
   "source": [
    "# Control structures"
   ]
  },
  {
   "cell_type": "markdown",
   "metadata": {},
   "source": [
    "In scala, `if..else` is an expression, which means the both\n",
    "`if` and `else` blocks returns a value."
   ]
  },
  {
   "cell_type": "code",
   "execution_count": 1,
   "metadata": {},
   "outputs": [
    {
     "data": {
      "text/plain": [
       "\u001b[32mimport \u001b[39m\u001b[36mscala.util\u001b[39m"
      ]
     },
     "execution_count": 1,
     "metadata": {},
     "output_type": "execute_result"
    }
   ],
   "source": [
    "import scala.util"
   ]
  },
  {
   "cell_type": "code",
   "execution_count": 4,
   "metadata": {},
   "outputs": [
    {
     "name": "stdout",
     "output_type": "stream",
     "text": [
      "5"
     ]
    },
    {
     "data": {
      "text/plain": [
       "\u001b[36mresult\u001b[39m: \u001b[32mInt\u001b[39m = \u001b[32m5\u001b[39m"
      ]
     },
     "execution_count": 4,
     "metadata": {},
     "output_type": "execute_result"
    }
   ],
   "source": [
    "// In scala, every expression has a type\n",
    "val result: Int = if (scala.util.Random.nextInt(10)  > 5) 5 else 0\n",
    "print(result)"
   ]
  },
  {
   "cell_type": "code",
   "execution_count": 6,
   "metadata": {},
   "outputs": [
    {
     "name": "stdout",
     "output_type": "stream",
     "text": [
      "positive\n"
     ]
    },
    {
     "data": {
      "text/plain": [
       "\u001b[36msomevalue\u001b[39m: \u001b[32mAny\u001b[39m = \u001b[32m\"positive\"\u001b[39m"
      ]
     },
     "execution_count": 6,
     "metadata": {},
     "output_type": "execute_result"
    }
   ],
   "source": [
    "// Here somevalue has type Any which is the common ancestor\n",
    "// to String(\"positive\") and Int(-1)\n",
    "val somevalue = if (result > 0) \"positive\" else -1\n",
    "println(somevalue)"
   ]
  },
  {
   "cell_type": "code",
   "execution_count": 7,
   "metadata": {},
   "outputs": [
    {
     "name": "stdout",
     "output_type": "stream",
     "text": [
      "()\n"
     ]
    },
    {
     "data": {
      "text/plain": [
       "\u001b[36mreturnNothing\u001b[39m: \u001b[32mAnyVal\u001b[39m = ()"
      ]
     },
     "execution_count": 7,
     "metadata": {},
     "output_type": "execute_result"
    }
   ],
   "source": [
    "// returnNothing has AnyVal type because Int and Unit has\n",
    "// common ancestor of AnyVal\n",
    "// below expression is same as if (expr) else ()\n",
    "val returnNothing = if (result > 100) result\n",
    "// when we omit the else block, if expression returns Unit\n",
    "// which is similar to void in Java\n",
    "println(returnNothing)"
   ]
  },
  {
   "cell_type": "code",
   "execution_count": 8,
   "metadata": {},
   "outputs": [
    {
     "name": "stdout",
     "output_type": "stream",
     "text": [
      "()"
     ]
    },
    {
     "data": {
      "text/html": [
       "<div class=\"jp-RenderedText\">\n",
       "<pre><code><span style=\"color: rgb(0, 187, 187)\"><span class=\"ansi-cyan-fg\">unitValue</span></span>: <span style=\"color: rgb(0, 187, 0)\"><span class=\"ansi-green-fg\">Unit</span></span> = ()</code></pre>\n",
       "</div>"
      ],
      "text/plain": [
       "\u001b[36munitValue\u001b[39m: \u001b[32mUnit\u001b[39m = ()"
      ]
     },
     "metadata": {},
     "output_type": "display_data"
    }
   ],
   "source": [
    "//this is how we assign unit to a variable\n",
    "var unitValue = ()\n",
    "print(unitValue)"
   ]
  },
  {
   "cell_type": "code",
   "execution_count": 9,
   "metadata": {},
   "outputs": [
    {
     "name": "stdout",
     "output_type": "stream",
     "text": [
      "(61,Q3)\n"
     ]
    },
    {
     "data": {
      "text/plain": [
       "\u001b[36mrandValue\u001b[39m: \u001b[32mInt\u001b[39m = \u001b[32m61\u001b[39m\n",
       "\u001b[36mquartile\u001b[39m: \u001b[32mString\u001b[39m = \u001b[32m\"Q3\"\u001b[39m"
      ]
     },
     "execution_count": 9,
     "metadata": {},
     "output_type": "execute_result"
    }
   ],
   "source": [
    "// if .. else if .. else\n",
    "val randValue = scala.util.Random.nextInt(100)\n",
    "\n",
    "val quartile = if (randValue <= 25)\n",
    "    \"Q1\"\n",
    "else if (randValue > 25 && randValue <= 50)\n",
    "    \"Q2\"\n",
    "else if (randValue > 50 && randValue <= 75)\n",
    "    \"Q3\"\n",
    "else\n",
    "    \"Q4\"\n",
    "\n",
    "println(randValue, quartile)"
   ]
  },
  {
   "cell_type": "code",
   "execution_count": 10,
   "metadata": {},
   "outputs": [
    {
     "name": "stdout",
     "output_type": "stream",
     "text": [
      "61\n"
     ]
    },
    {
     "data": {
      "text/plain": [
       "\u001b[36mres9\u001b[39m: \u001b[32mInt\u001b[39m = \u001b[32m100\u001b[39m"
      ]
     },
     "execution_count": 10,
     "metadata": {},
     "output_type": "execute_result"
    }
   ],
   "source": [
    "// if block with multiple statements are usually enclosed within\n",
    "// curly braces. In such cases, the last statement result is returned\n",
    "// as the result of the if or else block\n",
    "if (randValue <= 50) {\n",
    "    println(randValue)\n",
    "    50\n",
    "} else {\n",
    "    println(randValue)\n",
    "    100\n",
    "}"
   ]
  },
  {
   "cell_type": "markdown",
   "metadata": {},
   "source": [
    "## Block expressions"
   ]
  },
  {
   "cell_type": "code",
   "execution_count": 11,
   "metadata": {},
   "outputs": [
    {
     "name": "stdout",
     "output_type": "stream",
     "text": [
      "1000\n"
     ]
    },
    {
     "data": {
      "text/plain": [
       "\u001b[36mspeed\u001b[39m: \u001b[32mInt\u001b[39m = \u001b[32m1000\u001b[39m"
      ]
     },
     "execution_count": 11,
     "metadata": {},
     "output_type": "execute_result"
    }
   ],
   "source": [
    "// In scala, a block is a collection of expressions.\n",
    "// Result of the last expression in the block is its return value\n",
    "val speed = {\n",
    "    val distance = 100\n",
    "    val time = 10\n",
    "    distance * time\n",
    "}\n",
    "println(speed)"
   ]
  },
  {
   "cell_type": "code",
   "execution_count": 12,
   "metadata": {},
   "outputs": [
    {
     "name": "stdout",
     "output_type": "stream",
     "text": [
      "(10,())\n"
     ]
    },
    {
     "data": {
      "text/html": [
       "<div class=\"jp-RenderedText\">\n",
       "<pre><code><span style=\"color: rgb(0, 187, 187)\"><span class=\"ansi-cyan-fg\">dummy</span></span>: <span style=\"color: rgb(0, 187, 0)\"><span class=\"ansi-green-fg\">Int</span></span> = <span style=\"color: rgb(0, 187, 0)\"><span class=\"ansi-green-fg\">10</span></span></code></pre>\n",
       "</div>"
      ],
      "text/plain": [
       "\u001b[36mdummy\u001b[39m: \u001b[32mInt\u001b[39m = \u001b[32m10\u001b[39m"
      ]
     },
     "metadata": {},
     "output_type": "display_data"
    }
   ],
   "source": [
    "// assignment statements are also expression in scala that return Unit\n",
    "var dummy = 0\n",
    "val assignment_result = (dummy = 10)\n",
    "println(dummy, assignment_result)\n",
    "// due to this, we cannot chain assignments in Scala"
   ]
  },
  {
   "cell_type": "markdown",
   "metadata": {},
   "source": [
    "## String interpolation"
   ]
  },
  {
   "cell_type": "code",
   "execution_count": 15,
   "metadata": {},
   "outputs": [
    {
     "name": "stdout",
     "output_type": "stream",
     "text": [
      "Name is John Doe\n",
      "Name is John Doe and length of the name is 8\n",
      "Prints $\n"
     ]
    },
    {
     "data": {
      "text/plain": [
       "\u001b[36mname\u001b[39m: \u001b[32mString\u001b[39m = \u001b[32m\"John Doe\"\u001b[39m"
      ]
     },
     "execution_count": 15,
     "metadata": {},
     "output_type": "execute_result"
    }
   ],
   "source": [
    "// s-interpolated for variable substitution\n",
    "val name = \"John Doe\"\n",
    "println(s\"Name is $name\")\n",
    "// expressions are enclosed within ${}\n",
    "println(s\"Name is $name and length of the name is ${name.length}\")\n",
    "// to print $ in the output escape it with another $\n",
    "println(s\"Prints $$\")"
   ]
  },
  {
   "cell_type": "code",
   "execution_count": 17,
   "metadata": {},
   "outputs": [
    {
     "name": "stdout",
     "output_type": "stream",
     "text": [
      "Value of pi is 3.142857142857143\n",
      "Value is pi is 3.14\n"
     ]
    },
    {
     "data": {
      "text/plain": [
       "\u001b[36mpi\u001b[39m: \u001b[32mDouble\u001b[39m = \u001b[32m3.142857142857143\u001b[39m"
      ]
     },
     "execution_count": 17,
     "metadata": {},
     "output_type": "execute_result"
    }
   ],
   "source": [
    "// format directives are enclosed within f string\n",
    "val pi = (22/7.0)\n",
    "println(s\"Value of pi is $pi\")\n",
    "println(f\"Value is pi is $pi%4.2f\")"
   ]
  },
  {
   "cell_type": "code",
   "execution_count": 18,
   "metadata": {},
   "outputs": [
    {
     "name": "stdout",
     "output_type": "stream",
     "text": [
      "Escape characters are disabled. Ex: \\n is newline\n"
     ]
    }
   ],
   "source": [
    "//raw interpolator\n",
    "println(raw\"Escape characters are disabled. Ex: \\n is newline\")"
   ]
  },
  {
   "cell_type": "markdown",
   "metadata": {},
   "source": [
    "## Standard input and output"
   ]
  },
  {
   "cell_type": "code",
   "execution_count": 20,
   "metadata": {},
   "outputs": [
    {
     "name": "stdout",
     "output_type": "stream",
     "text": [
      "Prints the data to the standard output\n"
     ]
    }
   ],
   "source": [
    "println(\"Prints the data to the standard output\")"
   ]
  },
  {
   "cell_type": "code",
   "execution_count": 22,
   "metadata": {},
   "outputs": [
    {
     "name": "stdout",
     "output_type": "stream",
     "text": [
      "Enter value:100\n",
      "100\n"
     ]
    },
    {
     "data": {
      "text/plain": [
       "\u001b[36minput\u001b[39m: \u001b[32mString\u001b[39m = \u001b[32m\"100\"\u001b[39m"
      ]
     },
     "execution_count": 22,
     "metadata": {},
     "output_type": "execute_result"
    }
   ],
   "source": [
    "val input = scala.io.StdIn.readLine(\"Enter value:\")\n",
    "println(input)"
   ]
  },
  {
   "cell_type": "markdown",
   "metadata": {},
   "source": [
    "## Loops\n",
    "\n",
    "Scala contains a while loop and a for loop"
   ]
  },
  {
   "cell_type": "code",
   "execution_count": 24,
   "metadata": {},
   "outputs": [
    {
     "name": "stdout",
     "output_type": "stream",
     "text": [
      "1\n",
      "2\n",
      "3\n",
      "4\n",
      "5\n"
     ]
    },
    {
     "data": {
      "text/html": [
       "<div class=\"jp-RenderedText\">\n",
       "<pre><code><span style=\"color: rgb(0, 187, 187)\"><span class=\"ansi-cyan-fg\">counter</span></span>: <span style=\"color: rgb(0, 187, 0)\"><span class=\"ansi-green-fg\">Int</span></span> = <span style=\"color: rgb(0, 187, 0)\"><span class=\"ansi-green-fg\">6</span></span>\n",
       "<span style=\"color: rgb(0, 187, 187)\"><span class=\"ansi-cyan-fg\">limit</span></span>: <span style=\"color: rgb(0, 187, 0)\"><span class=\"ansi-green-fg\">Int</span></span> = <span style=\"color: rgb(0, 187, 0)\"><span class=\"ansi-green-fg\">5</span></span></code></pre>\n",
       "</div>"
      ],
      "text/plain": [
       "\u001b[36mcounter\u001b[39m: \u001b[32mInt\u001b[39m = \u001b[32m6\u001b[39m\n",
       "\u001b[36mlimit\u001b[39m: \u001b[32mInt\u001b[39m = \u001b[32m5\u001b[39m"
      ]
     },
     "metadata": {},
     "output_type": "display_data"
    }
   ],
   "source": [
    "var counter = 1\n",
    "val limit = 5\n",
    "// while loop always returns Unit\n",
    "while(counter <= limit) {\n",
    "    println(counter)\n",
    "    counter += 1\n",
    "}"
   ]
  },
  {
   "cell_type": "code",
   "execution_count": 23,
   "metadata": {},
   "outputs": [
    {
     "name": "stdout",
     "output_type": "stream",
     "text": [
      "1\n",
      "2\n",
      "3\n",
      "4\n",
      "5\n"
     ]
    }
   ],
   "source": [
    "// for (var <- expr)\n",
    "//    block\n",
    "// type of the loop variable is the element type of the collection\n",
    "// scope of the loop variable is the end of for loop.\n",
    "for (i <- 1 to 5)\n",
    "    println(i)"
   ]
  },
  {
   "cell_type": "code",
   "execution_count": 68,
   "metadata": {},
   "outputs": [
    {
     "name": "stdout",
     "output_type": "stream",
     "text": [
      "()\n"
     ]
    }
   ],
   "source": [
    "// for without yield returns Unit\n",
    "val for_result = for (i <- 1 to 5) {\n",
    "    i\n",
    "}\n",
    "println(for_result)"
   ]
  },
  {
   "cell_type": "code",
   "execution_count": 70,
   "metadata": {},
   "outputs": [
    {
     "name": "stdout",
     "output_type": "stream",
     "text": [
      "Vector(2, 4, 6, 8, 10)\n"
     ]
    },
    {
     "data": {
      "text/plain": [
       "\u001b[36mfor_result\u001b[39m: \u001b[32mIndexedSeq\u001b[39m[\u001b[32mInt\u001b[39m] = \u001b[33mVector\u001b[39m(\u001b[32m2\u001b[39m, \u001b[32m4\u001b[39m, \u001b[32m6\u001b[39m, \u001b[32m8\u001b[39m, \u001b[32m10\u001b[39m)"
      ]
     },
     "execution_count": 70,
     "metadata": {},
     "output_type": "execute_result"
    }
   ],
   "source": [
    "// yield returns value when used in variable defintion\n",
    "val for_result = for (i <- 1 to 5) yield i * 2\n",
    "println(for_result)"
   ]
  },
  {
   "cell_type": "code",
   "execution_count": 24,
   "metadata": {},
   "outputs": [],
   "source": [
    "// we can have same variable names in different scopes.\n",
    "// but variables in upper scope will be shadowed by the local variable"
   ]
  },
  {
   "cell_type": "markdown",
   "metadata": {},
   "source": [
    "## Advanced for loops"
   ]
  },
  {
   "cell_type": "code",
   "execution_count": 45,
   "metadata": {},
   "outputs": [
    {
     "name": "stdout",
     "output_type": "stream",
     "text": [
      "4,6\n",
      "4,7\n",
      "4,8\n",
      "4,9\n",
      "4,10\n"
     ]
    }
   ],
   "source": [
    "// multiple generators within the same for expression\n",
    "// each generator can optionally have a guard\n",
    "for (i <- 1 to 5; j <- 6 to 10 if i == 4)\n",
    "    println(f\"$i,$j\")"
   ]
  },
  {
   "cell_type": "code",
   "execution_count": 48,
   "metadata": {},
   "outputs": [
    {
     "name": "stdout",
     "output_type": "stream",
     "text": [
      "3, 8\n",
      "3, 9\n",
      "3, 10\n",
      "4, 9\n",
      "4, 10\n",
      "5, 10\n"
     ]
    }
   ],
   "source": [
    "// we can use braces as well to enclose generators\n",
    "// each generator can have a guard\n",
    "for {\n",
    "    i <- 1 to 5\n",
    "    start = 5 + i // we can have variable definitions too\n",
    "    j <- start to 10 if i >= 3\n",
    "}\n",
    "    println(s\"$i, $j\")"
   ]
  },
  {
   "cell_type": "code",
   "execution_count": 49,
   "metadata": {},
   "outputs": [
    {
     "data": {
      "text/plain": [
       "\u001b[36mres48\u001b[39m: \u001b[32mIndexedSeq\u001b[39m[\u001b[32mInt\u001b[39m] = \u001b[33mVector\u001b[39m(\u001b[32m1\u001b[39m, \u001b[32m2\u001b[39m, \u001b[32m3\u001b[39m, \u001b[32m4\u001b[39m, \u001b[32m5\u001b[39m, \u001b[32m6\u001b[39m, \u001b[32m7\u001b[39m, \u001b[32m8\u001b[39m, \u001b[32m9\u001b[39m, \u001b[32m10\u001b[39m)"
      ]
     },
     "execution_count": 49,
     "metadata": {},
     "output_type": "execute_result"
    }
   ],
   "source": [
    "// for comprehensions\n",
    "// the generated collection is compatible with the first collection\n",
    "for {\n",
    "    i <- 1 to 10\n",
    "} yield i"
   ]
  },
  {
   "cell_type": "markdown",
   "metadata": {},
   "source": [
    "## Functions"
   ]
  },
  {
   "cell_type": "code",
   "execution_count": 26,
   "metadata": {},
   "outputs": [
    {
     "name": "stdout",
     "output_type": "stream",
     "text": [
      "(1,a)\n",
      "()\n"
     ]
    },
    {
     "data": {
      "text/plain": [
       "defined \u001b[32mfunction\u001b[39m \u001b[36mfunction_name\u001b[39m"
      ]
     },
     "execution_count": 26,
     "metadata": {},
     "output_type": "execute_result"
    }
   ],
   "source": [
    "// return statement is not necessary\n",
    "// function implicitly returns the result of last statement/expression\n",
    "// in its body\n",
    "// Specifying function return type is optional except for \n",
    "// recursive functions\n",
    "def function_name(arg1: Int, arg2: String): Unit = {\n",
    "    //this function returns unit because println returns Unit\n",
    "    println(arg1, arg2)\n",
    "}\n",
    "\n",
    "println(function_name(1, \"a\"))"
   ]
  },
  {
   "cell_type": "code",
   "execution_count": 29,
   "metadata": {},
   "outputs": [
    {
     "name": "stdout",
     "output_type": "stream",
     "text": [
      "120\n",
      "1\n",
      "6\n"
     ]
    },
    {
     "data": {
      "text/plain": [
       "defined \u001b[32mfunction\u001b[39m \u001b[36mfact\u001b[39m"
      ]
     },
     "execution_count": 29,
     "metadata": {},
     "output_type": "execute_result"
    }
   ],
   "source": [
    "// recursive function requires a return type\n",
    "// Omiting `=` makes the function a procedure and a procedure will\n",
    "// always return Unit irrespective of its last expression in its body\n",
    "def fact(n: Long = 1L) : Long  = {\n",
    "    if (n <= 1)\n",
    "        return n\n",
    "    // This is not a tail recursive function\n",
    "    // non tail recursive function have the problem of \n",
    "    // leading to StackOverflow error\n",
    "    return n * fact(n-1)\n",
    "}\n",
    "println(fact(5L))\n",
    "println(fact()) // using default argument\n",
    "println(fact(n = 3)) // using named arguments we can pass the arguments\n",
    "// in any order"
   ]
  },
  {
   "cell_type": "markdown",
   "metadata": {},
   "source": [
    "**NOTE**: Unnamed argument(positional arguments) should precede named(keyword) arguments"
   ]
  },
  {
   "cell_type": "markdown",
   "metadata": {},
   "source": [
    "## Variable arguments"
   ]
  },
  {
   "cell_type": "code",
   "execution_count": 31,
   "metadata": {},
   "outputs": [
    {
     "name": "stdout",
     "output_type": "stream",
     "text": [
      "15\n",
      "55\n"
     ]
    },
    {
     "data": {
      "text/plain": [
       "defined \u001b[32mfunction\u001b[39m \u001b[36mexplain_var_args\u001b[39m\n",
       "\u001b[36msome_seq\u001b[39m: \u001b[32mRange\u001b[39m.\u001b[32mInclusive\u001b[39m = \u001b[33mRange\u001b[39m(\u001b[32m1\u001b[39m, \u001b[32m2\u001b[39m, \u001b[32m3\u001b[39m, \u001b[32m4\u001b[39m, \u001b[32m5\u001b[39m, \u001b[32m6\u001b[39m, \u001b[32m7\u001b[39m, \u001b[32m8\u001b[39m, \u001b[32m9\u001b[39m, \u001b[32m10\u001b[39m)"
      ]
     },
     "execution_count": 31,
     "metadata": {},
     "output_type": "execute_result"
    }
   ],
   "source": [
    "def explain_var_args(args: Int*) : Int = {\n",
    "    //args is a sequence\n",
    "    var acc: Int = 0\n",
    "    for (arg <- args)\n",
    "        acc += arg\n",
    "    \n",
    "    acc\n",
    "}\n",
    "\n",
    "println(explain_var_args(1, 2, 3, 4, 5))\n",
    "// to pass a sequence to var args, we need to append `: _*`\n",
    "val some_seq = 1 to 10\n",
    "println(explain_var_args(some_seq: _*))"
   ]
  },
  {
   "cell_type": "markdown",
   "metadata": {},
   "source": [
    "## Lazy values"
   ]
  },
  {
   "cell_type": "markdown",
   "metadata": {},
   "source": [
    "Used to delay variable initializations that are expensive.\n",
    "> You can think of lazy values as halfway between `val` and `def`."
   ]
  },
  {
   "cell_type": "code",
   "execution_count": 39,
   "metadata": {},
   "outputs": [
    {
     "name": "stdout",
     "output_type": "stream",
     "text": [
      "Saturn and Jupiter are gas giants\n"
     ]
    },
    {
     "data": {
      "text/html": [
       "<div class=\"jp-RenderedText\">\n",
       "<pre><code><span style=\"color: rgb(0, 187, 187)\"><span class=\"ansi-cyan-fg\">gasGiants</span></span>: <span style=\"color: rgb(0, 187, 0)\"><span class=\"ansi-green-fg\">List</span></span>[<span style=\"color: rgb(0, 187, 0)\"><span class=\"ansi-green-fg\">String</span></span>] = <span style=\"color: yellow\"><span class=\"ansi-yellow-fg\">List</span></span>(<span style=\"color: rgb(0, 187, 0)\"><span class=\"ansi-green-fg\">&quot;Saturn&quot;</span></span>, <span style=\"color: rgb(0, 187, 0)\"><span class=\"ansi-green-fg\">&quot;Jupiter&quot;</span></span>)\n",
       "<span style=\"color: rgb(0, 187, 187)\"><span class=\"ansi-cyan-fg\">gasGiantsLazy</span></span>: <span style=\"color: rgb(0, 187, 0)\"><span class=\"ansi-green-fg\">List</span></span>[<span style=\"color: rgb(0, 187, 0)\"><span class=\"ansi-green-fg\">String</span></span>] = <style>@keyframes fadein { from { opacity: 0; } to { opacity: 1; } }</style><span style=\"animation: fadein 2s;\"><span style=\"color: yellow\"><span class=\"ansi-yellow-fg\">List</span></span>(<span style=\"color: rgb(0, 187, 0)\"><span class=\"ansi-green-fg\">&quot;Saturn&quot;</span></span>, <span style=\"color: rgb(0, 187, 0)\"><span class=\"ansi-green-fg\">&quot;Jupiter&quot;</span></span>)</span></code></pre>\n",
       "</div>"
      ],
      "text/plain": [
       "\u001b[36mgasGiants\u001b[39m: \u001b[32mList\u001b[39m[\u001b[32mString\u001b[39m] = \u001b[33mList\u001b[39m(\u001b[32m\"Saturn\"\u001b[39m, \u001b[32m\"Jupiter\"\u001b[39m)\n",
       "\u001b[36mgasGiantsLazy\u001b[39m: \u001b[32mList\u001b[39m[\u001b[32mString\u001b[39m] = \u001b[33mList\u001b[39m(\u001b[32m\"Saturn\"\u001b[39m, \u001b[32m\"Jupiter\"\u001b[39m)"
      ]
     },
     "metadata": {},
     "output_type": "display_data"
    }
   ],
   "source": [
    "// This block will be executed during gasGiants definition \n",
    "val gasGiants = {\n",
    "    println(\"Saturn and Jupiter are gas giants\")\n",
    "    List[String](\"Saturn\", \"Jupiter\")\n",
    "}\n",
    "\n",
    "// Block is executed when gasGiantsLazy is first used in an\n",
    "// expression\n",
    "lazy val gasGiantsLazy = {\n",
    "    println(\"Saturn and Jupiter are gas giants\")\n",
    "    List[String](\"Saturn\", \"Jupiter\")\n",
    "}"
   ]
  },
  {
   "cell_type": "code",
   "execution_count": 40,
   "metadata": {},
   "outputs": [
    {
     "name": "stdout",
     "output_type": "stream",
     "text": [
      "Saturn and Jupiter are gas giants\n",
      "List(Saturn, Jupiter)\n"
     ]
    }
   ],
   "source": [
    "println(gasGiantsLazy)"
   ]
  },
  {
   "cell_type": "markdown",
   "metadata": {},
   "source": [
    "## Exceptions"
   ]
  },
  {
   "cell_type": "markdown",
   "metadata": {},
   "source": [
    "`throw` expression has type `Nothing`"
   ]
  },
  {
   "cell_type": "markdown",
   "metadata": {},
   "source": [
    "`try..catch` is also an expression that returns a value. The value\n",
    "returned could either be result of last expression inside try block\n",
    "or the result of the matched case in the catch block."
   ]
  },
  {
   "cell_type": "code",
   "execution_count": 71,
   "metadata": {},
   "outputs": [
    {
     "name": "stdout",
     "output_type": "stream",
     "text": [
      "java.lang.ArithmeticException: / by zero\n",
      "Executed always\n",
      "()\n"
     ]
    },
    {
     "data": {
      "text/plain": [
       "\u001b[36mtry_result\u001b[39m: \u001b[32mAnyVal\u001b[39m = ()"
      ]
     },
     "execution_count": 71,
     "metadata": {},
     "output_type": "execute_result"
    }
   ],
   "source": [
    "// catch expression is similar to pattern matching\n",
    "val try_result = try {\n",
    "    5/0 // returns Int/Float\n",
    "} catch {\n",
    "    // more specific exceptions on top and more general\n",
    "    // exceptions at the bottom\n",
    "    case aex: ArithmeticException => println(aex) // return Unit\n",
    "    case _ => println(\"Ignore\") \n",
    "} finally {\n",
    "    // use this for cleanup purposes like DB conn close\n",
    "    println(\"Executed always\")\n",
    "}\n",
    "//try_result has AnyVal\n",
    "println(try_result)"
   ]
  },
  {
   "cell_type": "code",
   "execution_count": 55,
   "metadata": {},
   "outputs": [
    {
     "name": "stdout",
     "output_type": "stream",
     "text": [
      "Enter operand1:1\n",
      "Enter operand2:a\n",
      "Failure(java.lang.NumberFormatException: For input string: \"a\")\n"
     ]
    },
    {
     "data": {
      "text/plain": [
       "\u001b[32mimport \u001b[39m\u001b[36mscala.util.Try\n",
       "\n",
       "// Try returns either Success or Failure\n",
       "// as we know yield returns object whose type always matches the first\n",
       "// generator expression type(expression following <-)\n",
       "\u001b[39m\n",
       "\u001b[36mresult\u001b[39m: \u001b[32mTry\u001b[39m[\u001b[32mInt\u001b[39m] = \u001b[33mFailure\u001b[39m(\n",
       "  java.lang.NumberFormatException: For input string: \"a\"\n",
       ")"
      ]
     },
     "execution_count": 55,
     "metadata": {},
     "output_type": "execute_result"
    }
   ],
   "source": [
    "// We can use Try to enclose expressions that might throw exceptions\n",
    "import scala.util.Try\n",
    "\n",
    "// Try returns either Success or Failure\n",
    "// as we know yield returns object whose type always matches the first\n",
    "// generator expression type(expression following <-)\n",
    "val result = for {\n",
    "    i <- Try {scala.io.StdIn.readLine(\"Enter operand1:\").toInt}\n",
    "    j <- Try {scala.io.StdIn.readLine(\"Enter operand2:\").toInt}\n",
    "} yield i+j\n",
    "\n",
    "// result could either be a success or failure\n",
    "println(result)"
   ]
  }
 ],
 "metadata": {
  "kernelspec": {
   "display_name": "Scala",
   "language": "scala",
   "name": "scala"
  },
  "language_info": {
   "codemirror_mode": "text/x-scala",
   "file_extension": ".sc",
   "mimetype": "text/x-scala",
   "name": "scala",
   "nbconvert_exporter": "script",
   "version": "2.13.3"
  }
 },
 "nbformat": 4,
 "nbformat_minor": 4
}
