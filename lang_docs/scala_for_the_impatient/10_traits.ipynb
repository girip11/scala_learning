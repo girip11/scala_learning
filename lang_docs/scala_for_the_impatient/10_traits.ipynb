{
 "cells": [
  {
   "cell_type": "markdown",
   "metadata": {},
   "source": [
    "# Traits"
   ]
  },
  {
   "cell_type": "markdown",
   "metadata": {},
   "source": [
    "* Scala does not support multiple inheritance.\n",
    "* Scala has traits similar to Java's interfaces. Traits can have\n",
    "abstract and concrete methods as well as fields(state).\n",
    "* Java interfaces can be used as scala traits.\n",
    "* A class can implement multiple traits"
   ]
  },
  {
   "cell_type": "code",
   "execution_count": 1,
   "metadata": {},
   "outputs": [
    {
     "data": {
      "text/plain": [
       "defined \u001b[32mtrait\u001b[39m \u001b[36mHashable\u001b[39m"
      ]
     },
     "execution_count": 1,
     "metadata": {},
     "output_type": "execute_result"
    }
   ],
   "source": [
    "// no abstract keyword required\n",
    "// no override is required when implementing abstract methods of trait\n",
    "trait Hashable {\n",
    "    // methods with no definition are trait's abstract methods\n",
    "    def hash: Long\n",
    "}"
   ]
  },
  {
   "cell_type": "code",
   "execution_count": 3,
   "metadata": {},
   "outputs": [
    {
     "data": {
      "text/plain": [
       "defined \u001b[32mclass\u001b[39m \u001b[36mBase\u001b[39m\n",
       "defined \u001b[32mclass\u001b[39m \u001b[36mDerived\u001b[39m"
      ]
     },
     "execution_count": 3,
     "metadata": {},
     "output_type": "execute_result"
    }
   ],
   "source": [
    "// we can implement multiple traits\n",
    "class Base\n",
    "class Derived extends Base \n",
    "                with Hashable \n",
    "                with Cloneable \n",
    "                with Serializable {\n",
    "                    def hash = ???\n",
    "}"
   ]
  },
  {
   "cell_type": "markdown",
   "metadata": {},
   "source": [
    "## Traits with concrete implementations"
   ]
  },
  {
   "cell_type": "markdown",
   "metadata": {},
   "source": [
    "* Traits with concrete methods can act as mixin. On their own they\n",
    "dont add value. When added to classes, they extend the class's functionality"
   ]
  },
  {
   "cell_type": "code",
   "execution_count": 4,
   "metadata": {},
   "outputs": [
    {
     "data": {
      "text/plain": [
       "defined \u001b[32mtrait\u001b[39m \u001b[36mLogger\u001b[39m"
      ]
     },
     "execution_count": 4,
     "metadata": {},
     "output_type": "execute_result"
    }
   ],
   "source": [
    "trait Logger {\n",
    "    def log(msg: String): Unit = { \n",
    "        println(msg) \n",
    "    }\n",
    "}"
   ]
  },
  {
   "cell_type": "code",
   "execution_count": 10,
   "metadata": {},
   "outputs": [
    {
     "name": "stdout",
     "output_type": "stream",
     "text": [
      "ammonite$$sess$cmd9$Helper$Item$$$outer\n",
      "name\n",
      "wait\n",
      "equals\n",
      "toString\n",
      "hashCode\n",
      "getClass\n",
      "notify\n",
      "notifyAll\n",
      "=================\n",
      "ammonite$$sess$cmd3$Helper$Logger$$$outer\n",
      "log\n",
      "ammonite$$sess$cmd9$Helper$Item$$$outer\n",
      "name\n",
      "wait\n",
      "equals\n",
      "toString\n",
      "hashCode\n",
      "getClass\n",
      "notify\n",
      "notifyAll\n"
     ]
    },
    {
     "data": {
      "text/plain": [
       "defined \u001b[32mclass\u001b[39m \u001b[36mItem\u001b[39m\n",
       "defined \u001b[32mfunction\u001b[39m \u001b[36mprintMethods\u001b[39m\n",
       "\u001b[36mitem1\u001b[39m: \u001b[32mItem\u001b[39m = ammonite.$sess.cmd9$Helper$Item@20715e36\n",
       "\u001b[36mitem2\u001b[39m: \u001b[32mItem\u001b[39m with \u001b[32mLogger\u001b[39m = ammonite.$sess.cmd9$Helper$$anon$1@51f5368f"
      ]
     },
     "execution_count": 10,
     "metadata": {},
     "output_type": "execute_result"
    }
   ],
   "source": [
    "//Adding trait to individual instances\n",
    "class Item(val name: String)\n",
    "\n",
    "def printMethods(obj: Item) {\n",
    "    obj.getClass.getMethods.map(_.getName).distinct.foreach(println(_))\n",
    "}\n",
    "\n",
    "val item1 = new Item(\"a\")\n",
    "val item2 = new Item(\"b\") with Logger\n",
    "printMethods(item1)\n",
    "println(\"=================\")\n",
    "printMethods(item2) // this object should contain log method"
   ]
  },
  {
   "cell_type": "markdown",
   "metadata": {},
   "source": [
    "* Traits can be layered, (i.e) subtrait can call method of the\n",
    "base trait using `super`. Base of the trait that super resolves\n",
    "to depends on the order in which the traits are added.\n",
    "\n",
    "* When traits are ordered using `with trait1 with trait2`, the methods\n",
    "are called from last to first, `trait2.someMethod` will be called which inturn\n",
    "will call `trait1.someMethod` because of its `super` call. Imagine the traits\n",
    "are stacked, with last one being called first.\n"
   ]
  },
  {
   "cell_type": "markdown",
   "metadata": {},
   "source": [
    "* Traits can have concrete(initialized) and abstract fields(uninitialized)\n",
    "* Fields can be val or var\n",
    "* Each such field is added to the class using the trait by the scala compiler. \n",
    " In the byte code of the class, we can observe the trait's fields added as the class's\n",
    " own fields."
   ]
  },
  {
   "cell_type": "markdown",
   "metadata": {},
   "source": [
    "## Trait construction order"
   ]
  },
  {
   "cell_type": "markdown",
   "metadata": {},
   "source": [
    "* Traits cannot have constructor parameters but can have constructor body"
   ]
  },
  {
   "cell_type": "code",
   "execution_count": 11,
   "metadata": {},
   "outputs": [
    {
     "data": {
      "text/plain": [
       "defined \u001b[32mtrait\u001b[39m \u001b[36mSimpleTrait\u001b[39m"
      ]
     },
     "execution_count": 11,
     "metadata": {},
     "output_type": "execute_result"
    }
   ],
   "source": [
    "trait SimpleTrait {\n",
    "    // traits constructor body\n",
    "    println(\"hello world\")\n",
    "    def someMethod: Int\n",
    "}"
   ]
  },
  {
   "cell_type": "markdown",
   "metadata": {},
   "source": [
    "Constructors execution order\n",
    "\n",
    "* Superclass constructor\n",
    "* Trait constructors executed from left to right.(Traits are constructed left to right, \n",
    "but when traits methods are invoked, method call (involving `super`) passes from right towards left)\n",
    "* Within each trait, the construction is from the trait's parent to itself\n",
    "* After all traits are constructed, the subclass is constructed\n",
    "\n",
    "**NOTE**: If multiple traits share a common parent, and that parent has already been\n",
    "constructed, it is not constructed again."
   ]
  },
  {
   "cell_type": "code",
   "execution_count": 13,
   "metadata": {},
   "outputs": [
    {
     "name": "stdout",
     "output_type": "stream",
     "text": [
      "Inside Base class\n",
      "Inside BaseTrait\n",
      "Inside Derived trait1\n",
      "Inside Derived trait2\n",
      "Inside BaseTrait2\n",
      "Inside Derived class\n"
     ]
    },
    {
     "data": {
      "text/plain": [
       "defined \u001b[32mtrait\u001b[39m \u001b[36mBaseTrait\u001b[39m\n",
       "defined \u001b[32mtrait\u001b[39m \u001b[36mDerivedTrait1\u001b[39m\n",
       "defined \u001b[32mtrait\u001b[39m \u001b[36mDerivedTrait2\u001b[39m\n",
       "defined \u001b[32mtrait\u001b[39m \u001b[36mBaseTrait2\u001b[39m\n",
       "defined \u001b[32mclass\u001b[39m \u001b[36mBase\u001b[39m\n",
       "defined \u001b[32mclass\u001b[39m \u001b[36mDerived\u001b[39m\n",
       "\u001b[36mderived\u001b[39m: \u001b[32mDerived\u001b[39m = ammonite.$sess.cmd12$Helper$Derived@4b6537d0"
      ]
     },
     "execution_count": 13,
     "metadata": {},
     "output_type": "execute_result"
    }
   ],
   "source": [
    "trait BaseTrait {\n",
    "    println(\"Inside BaseTrait\")\n",
    "}\n",
    "\n",
    "trait DerivedTrait1 extends BaseTrait {\n",
    "    println(\"Inside Derived trait1\")\n",
    "}\n",
    "\n",
    "trait DerivedTrait2 extends BaseTrait {\n",
    "    println(\"Inside Derived trait2\")\n",
    "}\n",
    "\n",
    "trait BaseTrait2{\n",
    "    println(\"Inside BaseTrait2\")\n",
    "}\n",
    "\n",
    "class Base {\n",
    "    println(\"Inside Base class\")\n",
    "}\n",
    "\n",
    "class Derived extends Base\n",
    "                with DerivedTrait1\n",
    "                with DerivedTrait2\n",
    "                with BaseTrait2 {\n",
    "                println(\"Inside Derived class\")\n",
    "}\n",
    "\n",
    "// This will print the statement that help us understand\n",
    "// the construction order\n",
    "val derived = new Derived"
   ]
  },
  {
   "cell_type": "markdown",
   "metadata": {},
   "source": [
    "**NOTE**: Linearization gives the order in which the super is resolved.\n",
    "It is the reverse of the construction order.\n",
    "\n",
    "```text\n",
    "class C extends C1 with C2 ...with Cn\n",
    "```\n",
    "Then lin(C) = C -> lin(Cn) -> ... -> lin(C1). In case of duplicate members\n",
    "rightmost one is kept.\n",
    "\n",
    "```text\n",
    "class SavingsAccount extends Account with FileLogger with ShortLogger\n",
    "\n",
    "lin(SavingsAccount)\n",
    "= SavingsAccount » lin(ShortLogger) » lin(FileLogger) » lin(Account)\n",
    "# Here Logger is duplicated. So keep the rightmost one.\n",
    "= SavingsAccount » (ShortLogger » Logger) » (FileLogger » Logger) » lin(Account)\n",
    "= SavingsAccount » ShortLogger » FileLogger » Logger » Account.\n",
    "```"
   ]
  },
  {
   "cell_type": "markdown",
   "metadata": {},
   "source": [
    "## Trait extending classes"
   ]
  },
  {
   "cell_type": "markdown",
   "metadata": {},
   "source": [
    "* Traits can extend classes\n",
    "* A class that extends such a trait will have trait's superclass\n",
    "as its superclass.\n",
    "* Such subclasses can extend from any other type that is either the same\n",
    "as the superclass of the trait or a derived type of the trait's\n",
    "superclass."
   ]
  },
  {
   "cell_type": "markdown",
   "metadata": {},
   "source": [
    "## Self Types"
   ]
  },
  {
   "cell_type": "markdown",
   "metadata": {},
   "source": [
    "Using self types we can ensure that the particular trait can\n",
    "be mixed into subclasses of a particular type."
   ]
  },
  {
   "cell_type": "code",
   "execution_count": 14,
   "metadata": {},
   "outputs": [
    {
     "data": {
      "text/plain": [
       "defined \u001b[32mtrait\u001b[39m \u001b[36mSomeBaseTrait\u001b[39m\n",
       "defined \u001b[32mtrait\u001b[39m \u001b[36mExceptionSelfTypeTrait\u001b[39m\n",
       "defined \u001b[32mclass\u001b[39m \u001b[36mSomeException\u001b[39m"
      ]
     },
     "execution_count": 14,
     "metadata": {},
     "output_type": "execute_result"
    }
   ],
   "source": [
    "trait SomeBaseTrait\n",
    "\n",
    "trait ExceptionSelfTypeTrait extends SomeBaseTrait {\n",
    "    // we can also have structural type for self type\n",
    "    this: Exception =>\n",
    "         //trait body\n",
    "    \n",
    "    //Within this trait, we can call any method,field of \n",
    "    // of the self type\n",
    "    def someMethod: String = getMessage()\n",
    "}\n",
    "\n",
    "// ExceptionSelfTypeTrait can only be mixed into subclass of\n",
    "// exception\n",
    "class SomeException extends Exception\n",
    "with ExceptionSelfTypeTrait"
   ]
  },
  {
   "cell_type": "markdown",
   "metadata": {},
   "source": [
    "Structural types - Types without a class name but only the members \n",
    "the class should have. Such structural types are used in the early\n",
    "definition syntax\n",
    "\n",
    "```Scala\n",
    "trait SelfTypeTrait {\n",
    "    // We can mix this trait into any class with a format method\n",
    "    this: {def format(fmt: String): String } =>\n",
    "        //traits body\n",
    "}\n",
    "```"
   ]
  },
  {
   "cell_type": "code",
   "execution_count": 15,
   "metadata": {},
   "outputs": [
    {
     "data": {
      "text/plain": [
       "defined \u001b[32mclass\u001b[39m \u001b[36mSomeBaseException\u001b[39m\n",
       "defined \u001b[32mclass\u001b[39m \u001b[36mSomeException\u001b[39m"
      ]
     },
     "execution_count": 15,
     "metadata": {},
     "output_type": "execute_result"
    }
   ],
   "source": [
    "class SomeBaseException extends Exception\n",
    "\n",
    "// Extending from subclass of self type is also allowed.\n",
    "class SomeException extends SomeBaseException \n",
    "with ExceptionSelfTypeTrait"
   ]
  },
  {
   "cell_type": "code",
   "execution_count": 14,
   "metadata": {},
   "outputs": [
    {
     "name": "stderr",
     "output_type": "stream",
     "text": [
      "cmd14.sc:3: illegal inheritance;\n",
      " self-type Helper.this.SomeException does not conform to cmd14.this.cmd13.ExceptionSelfTypeTrait's selftype cmd14.this.cmd13.ExceptionSelfTypeTrait with Exception\n",
      "class SomeException extends NotAnException with ExceptionSelfTypeTrait\n",
      "                                                ^Compilation Failed"
     ]
    },
    {
     "ename": "",
     "evalue": "",
     "output_type": "error",
     "traceback": [
      "Compilation Failed"
     ]
    }
   ],
   "source": [
    "class NotAnException\n",
    "\n",
    "// This will lead to compilation error\n",
    "class SomeException extends NotAnException with ExceptionSelfTypeTrait"
   ]
  },
  {
   "cell_type": "markdown",
   "metadata": {},
   "source": [
    "To know how traits are being handled under the hood by scala compiler to JVM bytecode,\n",
    "refer the book."
   ]
  }
 ],
 "metadata": {
  "kernelspec": {
   "display_name": "Scala",
   "language": "scala",
   "name": "scala"
  },
  "language_info": {
   "codemirror_mode": "text/x-scala",
   "file_extension": ".sc",
   "mimetype": "text/x-scala",
   "name": "scala",
   "nbconvert_exporter": "script",
   "version": "2.13.3"
  }
 },
 "nbformat": 4,
 "nbformat_minor": 4
}
