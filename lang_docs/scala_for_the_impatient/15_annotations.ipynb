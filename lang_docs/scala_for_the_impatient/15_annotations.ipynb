{
 "cells": [
  {
   "cell_type": "markdown",
   "metadata": {},
   "source": [
    "# Annotations"
   ]
  },
  {
   "cell_type": "markdown",
   "metadata": {},
   "source": [
    "* Annotations can add information to programs that can be used\n",
    "by compiler or other language tools.\n",
    "\n",
    "* JVM supports annotations. Java annotations can be used in Scala.\n",
    "\n",
    "* Scala compiler is unaffected by Java annotations, but scala annotations\n",
    "like `scala.annotation.tailrec`\n",
    "\n",
    "* We can annotate classes, methods, fields, local varialbes,\n",
    "primary constructors, expressions and parameters.\n",
    "\n",
    "* Multiple annotations can be applied and order does not matter\n",
    "\n",
    "* Arguments can be passed to annotations."
   ]
  },
  {
   "cell_type": "code",
   "execution_count": 1,
   "metadata": {},
   "outputs": [
    {
     "data": {
      "text/plain": [
       "\u001b[32mimport \u001b[39m\u001b[36mscala.beans.BeanProperty\n",
       "\n",
       "\u001b[39m\n",
       "defined \u001b[32mclass\u001b[39m \u001b[36mS\u001b[39m"
      ]
     },
     "execution_count": 1,
     "metadata": {},
     "output_type": "execute_result"
    }
   ],
   "source": [
    "import scala.beans.BeanProperty\n",
    "\n",
    "class S {\n",
    "    //generates java style getter and setters\n",
    "    // because of the BeanProperty annotation.\n",
    "    @BeanProperty var name: String = \"\"\n",
    "}"
   ]
  },
  {
   "cell_type": "markdown",
   "metadata": {},
   "source": [
    "## Implementing Annotations"
   ]
  },
  {
   "cell_type": "markdown",
   "metadata": {},
   "source": [
    "* Annotations should extend `scala.annotation.Annotation` trait\n",
    "\n",
    "* Type annotations should extend `TypeAnnotation` trait"
   ]
  },
  {
   "cell_type": "markdown",
   "metadata": {},
   "source": [
    "For various scala annotations that provide java interoperability\n",
    "or provide information to the scala compiler, refer the book."
   ]
  }
 ],
 "metadata": {
  "kernelspec": {
   "display_name": "Scala",
   "language": "scala",
   "name": "scala"
  },
  "language_info": {
   "codemirror_mode": "text/x-scala",
   "file_extension": ".sc",
   "mimetype": "text/x-scala",
   "name": "scala",
   "nbconvert_exporter": "script",
   "version": "2.13.3"
  }
 },
 "nbformat": 4,
 "nbformat_minor": 4
}
