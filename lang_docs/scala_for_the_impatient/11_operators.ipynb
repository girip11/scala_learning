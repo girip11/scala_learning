{
 "cells": [
  {
   "cell_type": "markdown",
   "metadata": {},
   "source": [
    "# Operators"
   ]
  },
  {
   "cell_type": "markdown",
   "metadata": {},
   "source": [
    "## Identifiers"
   ]
  },
  {
   "cell_type": "markdown",
   "metadata": {},
   "source": [
    "* Alphanumeric, underscore and operator characters can be\n",
    "used in identifiers.\n",
    "* Identifiers can also contain mathematical symbols and\n",
    "unicode characters.\n",
    "* If identifier names are same as reserved words in scala,\n",
    "then such identifiers are enclosed within backticks."
   ]
  },
  {
   "cell_type": "code",
   "execution_count": 1,
   "metadata": {},
   "outputs": [
    {
     "name": "stdout",
     "output_type": "stream",
     "text": [
      "1\n"
     ]
    },
    {
     "data": {
      "text/plain": [
       "\u001b[36m`val`\u001b[39m: \u001b[32mInt\u001b[39m = \u001b[32m1\u001b[39m"
      ]
     },
     "execution_count": 1,
     "metadata": {},
     "output_type": "execute_result"
    }
   ],
   "source": [
    "val `val` = 1\n",
    "println(`val`)"
   ]
  },
  {
   "cell_type": "markdown",
   "metadata": {},
   "source": [
    "\n",
    "## Infix operators"
   ]
  },
  {
   "cell_type": "code",
   "execution_count": 2,
   "metadata": {},
   "outputs": [
    {
     "name": "stdout",
     "output_type": "stream",
     "text": [
      "3\n",
      "3\n",
      "Range 1 to 5\n"
     ]
    }
   ],
   "source": [
    "//This is what actually happens\n",
    "println(1.+(2))\n",
    "\n",
    "// This notation is called infix notation\n",
    "println(1  + 2)\n",
    "println(1 to 5)"
   ]
  },
  {
   "cell_type": "code",
   "execution_count": 4,
   "metadata": {},
   "outputs": [
    {
     "name": "stdout",
     "output_type": "stream",
     "text": [
      "100\n",
      "-100\n"
     ]
    },
    {
     "data": {
      "text/plain": [
       "defined \u001b[32mclass\u001b[39m \u001b[36mTemperature\u001b[39m\n",
       "\u001b[36mtemp\u001b[39m: \u001b[32mTemperature\u001b[39m = ammonite.$sess.cmd3$Helper$Temperature@4972d3b7\n",
       "\u001b[36mnegTemp\u001b[39m: \u001b[32mTemperature\u001b[39m = ammonite.$sess.cmd3$Helper$Temperature@1e63f505"
      ]
     },
     "execution_count": 4,
     "metadata": {},
     "output_type": "execute_result"
    }
   ],
   "source": [
    "// Unary operators are prefix operators\n",
    "// unary operators are + - !, ~. Other characters are not allowed\n",
    "// to define unary operator, \n",
    "// create a method called unary_{!|-|!|~}\n",
    "\n",
    "class Temperature(val celcius: Int)  { //extends AnyVal {\n",
    "    def unary_- : Temperature = new Temperature(-this.celcius)    \n",
    "    def apply(): Int = this.celcius\n",
    "}\n",
    "\n",
    "val temp = new Temperature(100)\n",
    "println(temp())\n",
    "val negTemp = -temp\n",
    "println(negTemp())"
   ]
  },
  {
   "cell_type": "markdown",
   "metadata": {},
   "source": [
    "**NOTE**: Avoid using operators with postfix notation. `obj op` is the\n",
    "postfix notation which is equivalent to `obj.op`\n"
   ]
  },
  {
   "cell_type": "markdown",
   "metadata": {},
   "source": [
    "## Compound assignment"
   ]
  },
  {
   "cell_type": "markdown",
   "metadata": {},
   "source": [
    "* Operators of the form `operator=` are compound assignment operators.\n",
    "* Compound assignment is commonly used with arithmetic operators."
   ]
  },
  {
   "cell_type": "markdown",
   "metadata": {},
   "source": [
    "## Operator precedence"
   ]
  },
  {
   "cell_type": "markdown",
   "metadata": {},
   "source": [
    "* `Prec(postfix) < Prec(infix) < Prec(Prefix)`\n",
    "* `a infix b postfix` is same as `(a infix b) postfix)`\n",
    "* For operator precedence table refer the book."
   ]
  },
  {
   "cell_type": "markdown",
   "metadata": {},
   "source": [
    "## Associativity"
   ]
  },
  {
   "cell_type": "markdown",
   "metadata": {},
   "source": [
    "* Operators that end with `:` and assignment operators are right\n",
    "associative, all others are left associative.\n",
    "\n",
    "* Right associative operators are methods of the right operand in the\n",
    "infix notation. Ex `a right_assoc_op b` is `b.right_assoc_op(a)`"
   ]
  },
  {
   "cell_type": "markdown",
   "metadata": {},
   "source": [
    "## `apply` and `update` methods"
   ]
  },
  {
   "cell_type": "markdown",
   "metadata": {},
   "source": [
    "* class or instance of a class with `apply` methods make them look\n",
    "like functions, meaning they can be invoked like a function call.\n",
    "* `update` method helps assignment like `obj(x) = y`"
   ]
  },
  {
   "cell_type": "code",
   "execution_count": 8,
   "metadata": {},
   "outputs": [
    {
     "name": "stdout",
     "output_type": "stream",
     "text": [
      "Some(Item(Kitkat, 1.0, 2))\n",
      "Item(Snickers, 2.0, 1)\n",
      "Item(Kitkat, 1.0, 5)\n"
     ]
    },
    {
     "data": {
      "text/plain": [
       "defined \u001b[32mclass\u001b[39m \u001b[36mItem\u001b[39m\n",
       "defined \u001b[32mobject\u001b[39m \u001b[36mBag\u001b[39m\n",
       "defined \u001b[32mclass\u001b[39m \u001b[36mBag\u001b[39m\n",
       "\u001b[36mitems\u001b[39m: \u001b[32mList\u001b[39m[\u001b[32mItem\u001b[39m] = \u001b[33mList\u001b[39m(Item(Snickers, 2.0, 1), Item(Kitkat, 1.0, 5))\n",
       "\u001b[36mchocoBag\u001b[39m: \u001b[32mBag\u001b[39m = ammonite.$sess.cmd7$Helper$Bag@41b6439e"
      ]
     },
     "execution_count": 8,
     "metadata": {},
     "output_type": "execute_result"
    }
   ],
   "source": [
    "class Item(val name: String,\n",
    "           val price: Double,\n",
    "           var quantity: Int = 0) {\n",
    "    override def toString = s\"Item($name, $price, $quantity)\"\n",
    "}\n",
    "\n",
    "object Bag {\n",
    "    // This apply method can help us instantiate item\n",
    "    // without using new keyword\n",
    "    def apply(items: Iterable[Item]): Bag = {\n",
    "        new Bag(items.toList)\n",
    "    }\n",
    "}\n",
    "\n",
    "class Bag(val items: List[Item]) {\n",
    "    private val nameToItemMap = items.map(i => (i.name, i)).toMap\n",
    "    // this will clone this item unit times.\n",
    "    def apply(name: String): Option[Item] = nameToItemMap.get(name)\n",
    "    \n",
    "    def update(name: String, quantity: Int): Unit = {\n",
    "        nameToItemMap.get(name).map(i => i.quantity = quantity)\n",
    "    }\n",
    "}\n",
    "\n",
    "// Notice we call class like function without new\n",
    "val items = List[Item](\n",
    "    new Item(\"Snickers\", 2.0, 1),\n",
    "    new Item(\"Kitkat\", 1.0, 2)\n",
    ")\n",
    "val chocoBag = Bag(items) // Class instantiated like function\n",
    "println(chocoBag(\"Kitkat\"))\n",
    "chocoBag(\"Kitkat\") = 5\n",
    "\n",
    "for (choc <- chocoBag.items)\n",
    "    println(choc)"
   ]
  },
  {
   "cell_type": "markdown",
   "metadata": {},
   "source": [
    "## Extractors"
   ]
  },
  {
   "cell_type": "markdown",
   "metadata": {},
   "source": [
    "* Opposite of `apply` method\n",
    "* `unapply` method on the instance or class present on the left side of the assignment is\n",
    "called with the object on the right side of the assignment.\n",
    "* Return value of the unapply method is assigned to the parameters\n",
    "mentioned on the left side."
   ]
  },
  {
   "cell_type": "code",
   "execution_count": 10,
   "metadata": {},
   "outputs": [
    {
     "name": "stdout",
     "output_type": "stream",
     "text": [
      "5star\n",
      "5star, 5.0\n"
     ]
    },
    {
     "data": {
      "text/plain": [
       "defined \u001b[32mobject\u001b[39m \u001b[36mItem\u001b[39m\n",
       "defined \u001b[32mclass\u001b[39m \u001b[36mItem\u001b[39m\n",
       "\u001b[36mitem\u001b[39m: \u001b[32mItem\u001b[39m = Item(5star, 5.0, 1)\n",
       "\u001b[36mname\u001b[39m: \u001b[32mString\u001b[39m = \u001b[32m\"5star\"\u001b[39m\n",
       "\u001b[36mprice\u001b[39m: \u001b[32mDouble\u001b[39m = \u001b[32m5.0\u001b[39m\n",
       "\u001b[36mquantity\u001b[39m: \u001b[32mInt\u001b[39m = \u001b[32m1\u001b[39m"
      ]
     },
     "execution_count": 10,
     "metadata": {},
     "output_type": "execute_result"
    }
   ],
   "source": [
    "object Item {\n",
    "    def apply(name: String, price: Double, quantity: Int) = {\n",
    "        new Item(name, price, quantity)\n",
    "    }\n",
    "    \n",
    "    def unapply(item: Item): Option[(String, Double, Int)]  = {\n",
    "        Some(item.name, item.price, item.quantity)\n",
    "    }\n",
    "}\n",
    "\n",
    "class Item(val name: String,\n",
    "           val price: Double,\n",
    "           var quantity: Int = 0) {\n",
    "    override def toString = s\"Item($name, $price, $quantity)\"\n",
    "}\n",
    "\n",
    "val item = Item(\"5star\", 5.0, 1)\n",
    "\n",
    "//extract fields from Item using extractor pattern\n",
    "val Item(name, price, quantity) = item\n",
    "println(name)\n",
    "\n",
    "// we could also use this in pattern matching\n",
    "// case classes come with apply and unapply methods supplied by default\n",
    "item match {\n",
    "    case Item(name, price, _) => println(s\"$name, $price\")\n",
    "    case _ => ()\n",
    "}"
   ]
  },
  {
   "cell_type": "code",
   "execution_count": 11,
   "metadata": {},
   "outputs": [
    {
     "name": "stdout",
     "output_type": "stream",
     "text": [
      "apples, 100\n"
     ]
    },
    {
     "data": {
      "text/plain": [
       "defined \u001b[32mobject\u001b[39m \u001b[36mItemQuantity\u001b[39m\n",
       "\u001b[36mname\u001b[39m: \u001b[32mString\u001b[39m = \u001b[32m\"apples\"\u001b[39m\n",
       "\u001b[36mnos\u001b[39m: \u001b[32mInt\u001b[39m = \u001b[32m100\u001b[39m"
      ]
     },
     "execution_count": 11,
     "metadata": {},
     "output_type": "execute_result"
    }
   ],
   "source": [
    "//  We can write any custom `object` to extract information \n",
    "// from any instance of a class.\n",
    "// Custom extractor object for Item objects\n",
    "object ItemQuantity {\n",
    "    def unapply(input: String): Option[(String, Int)] = {\n",
    "        val parts = input.split(\" \")\n",
    "        Some((parts(1), parts(0).toInt))\n",
    "    }\n",
    "}\n",
    "\n",
    "val ItemQuantity(name, nos) = \"100 apples\"\n",
    "println(s\"$name, $nos\")"
   ]
  },
  {
   "cell_type": "code",
   "execution_count": 14,
   "metadata": {},
   "outputs": [
    {
     "name": "stdout",
     "output_type": "stream",
     "text": [
      "(a,4.0)\n",
      "Item is not pricey\n"
     ]
    },
    {
     "data": {
      "text/plain": [
       "defined \u001b[32mclass\u001b[39m \u001b[36mItem\u001b[39m\n",
       "defined \u001b[32mobject\u001b[39m \u001b[36mPriceChecker\u001b[39m\n",
       "\u001b[36mitem\u001b[39m: \u001b[32mItem\u001b[39m = ammonite.$sess.cmd13$Helper$Item@41351a0b\n",
       "\u001b[36mname\u001b[39m: \u001b[32mString\u001b[39m = \u001b[32m\"a\"\u001b[39m\n",
       "\u001b[36mprice\u001b[39m: \u001b[32mDouble\u001b[39m = \u001b[32m4.0\u001b[39m"
      ]
     },
     "execution_count": 14,
     "metadata": {},
     "output_type": "execute_result"
    }
   ],
   "source": [
    "// This mechanism is used in extracting regex patterns which contain\n",
    "// named groups - Refer chapter-9\n",
    "class Item(val name: String, val price: Double) {\n",
    "    def unapply(item: Item): Option[(String, Double)] = {\n",
    "        Some(this.name, this.price)\n",
    "    }\n",
    "}\n",
    "\n",
    "object PriceChecker {\n",
    "    def unapply(item: Item): Boolean = {\n",
    "        item.price > 5.0\n",
    "    }\n",
    "}\n",
    "\n",
    "val item = new Item(\"a\", 10.0)\n",
    "// we can also define unapply method on instances\n",
    "val item(name, price) = item\n",
    "println(name, price)\n",
    "\n",
    "item match {\n",
    "    // extractor with no arguments\n",
    "    case PriceChecker() => println(\"Item is pricey\")\n",
    "    case _ => println(\"Item is not pricey\")\n",
    "}"
   ]
  },
  {
   "cell_type": "markdown",
   "metadata": {},
   "source": [
    "**NOTE**: When `unapply` method returns a Boolean, we can have \n",
    "the extractors with no arguments"
   ]
  },
  {
   "cell_type": "markdown",
   "metadata": {},
   "source": [
    "* If we extract a collection of values from an input object, then we should\n",
    "define `unapplySeq` to do so."
   ]
  },
  {
   "cell_type": "code",
   "execution_count": 19,
   "metadata": {},
   "outputs": [
    {
     "name": "stdout",
     "output_type": "stream",
     "text": [
      "apples, mangoes\n"
     ]
    },
    {
     "data": {
      "text/plain": [
       "defined \u001b[32mclass\u001b[39m \u001b[36mItem\u001b[39m\n",
       "defined \u001b[32mobject\u001b[39m \u001b[36mItemExtractor\u001b[39m\n",
       "\u001b[36mitem1\u001b[39m: \u001b[32mItem\u001b[39m = ammonite.$sess.cmd18$Helper$Item@2aacaad6\n",
       "\u001b[36mitem2\u001b[39m: \u001b[32mItem\u001b[39m = ammonite.$sess.cmd18$Helper$Item@ef1b641"
      ]
     },
     "execution_count": 19,
     "metadata": {},
     "output_type": "execute_result"
    }
   ],
   "source": [
    "class Item(val name: String, val quantity: Int) \n",
    "\n",
    "object ItemExtractor {\n",
    "    def unapplySeq(input: String): Option[Seq[Item]] = {\n",
    "        val items = input.split(\",\")\n",
    "        if (items.length == 0)\n",
    "            None\n",
    "        else\n",
    "            Some(items.map(i => {\n",
    "              val parts = i.trim().split(\" \")\n",
    "              new Item(parts(1), parts(0).toInt)\n",
    "            }).toSeq)\n",
    "    }\n",
    "}\n",
    "                 \n",
    "val ItemExtractor(item1, item2) = \"10 apples, 10 mangoes\"\n",
    "println(s\"${item1.name}, ${item2.name}\")"
   ]
  },
  {
   "cell_type": "markdown",
   "metadata": {},
   "source": [
    "## Dynamic Invocation"
   ]
  },
  {
   "cell_type": "markdown",
   "metadata": {},
   "source": [
    "> If a type extends the trait `scala.Dynamic`, then method\n",
    "calls, getters, and setters are rewritten as calls to special methods that can inspect\n",
    "the name of the original call and the parameters, and then take arbitrary actions\n",
    "\n",
    "* This feature has to be explicitly enabled by importing\n",
    "`import scala.language.dynamics`\n",
    "\n",
    "Dynamic works in the following way:\n",
    "* `obj.someParameterLessMethodOrField` - calls \n",
    "`obj.selectDynamic(\"someParameterLessMethodOrField)\"`\n",
    "\n",
    "* `obj.someMember(arg1, arg2)` - when all args are positional only\n",
    ", then calls `obj.applyDynamic(\"someMember\")(arg1, arg2)`\n",
    "\n",
    "* `obj.someMember(p1=arg1, p2=arg2)` - calls \n",
    "`obj.applyDynamicNamed(someMember)((p1, arg1), (p2. arg2))`\n",
    "\n",
    "* `obj.someMember = expr` - becomes rewritten to \n",
    "`obj.updateDynamic(\"someMember\")(expr)`"
   ]
  },
  {
   "cell_type": "code",
   "execution_count": 21,
   "metadata": {},
   "outputs": [
    {
     "name": "stdout",
     "output_type": "stream",
     "text": [
      "Inside updateDynamic\n",
      "Inside applyDynamic\n",
      "Hello world\n",
      "Inside selectDynamic\n",
      "foo bar\n"
     ]
    },
    {
     "data": {
      "text/plain": [
       "\u001b[32mimport \u001b[39m\u001b[36mscala.language.dynamics\n",
       "\u001b[39m\n",
       "\u001b[32mimport \u001b[39m\u001b[36mscala.collection.mutable.{Map => MutableMap}\n",
       "\n",
       "\u001b[39m\n",
       "defined \u001b[32mclass\u001b[39m \u001b[36mDynamicExample\u001b[39m\n",
       "\u001b[36mdynEx\u001b[39m: \u001b[32mDynamicExample\u001b[39m = ammonite.$sess.cmd20$Helper$DynamicExample@c66c390\n",
       "\u001b[36mres20_4\u001b[39m: \u001b[32mcollection\u001b[39m.\u001b[32mmutable\u001b[39m.\u001b[32mMap\u001b[39m[\u001b[32mString\u001b[39m, \u001b[32mString\u001b[39m => \u001b[32mUnit\u001b[39m] = \u001b[33mHashMap\u001b[39m(\n",
       "  \u001b[32m\"printMessage\"\u001b[39m -> ammonite.$sess.cmd20$Helper$$Lambda$2830/737360600@3a32f6d9\n",
       ")\n",
       "\u001b[36maction\u001b[39m: \u001b[32mOption\u001b[39m[\u001b[32mString\u001b[39m => \u001b[32mUnit\u001b[39m] = \u001b[33mSome\u001b[39m(\n",
       "  ammonite.$sess.cmd20$Helper$$Lambda$2830/737360600@3a32f6d9\n",
       ")"
      ]
     },
     "execution_count": 21,
     "metadata": {},
     "output_type": "execute_result"
    }
   ],
   "source": [
    "import scala.language.dynamics\n",
    "import scala.collection.mutable.{Map => MutableMap}\n",
    "\n",
    "// This of this like implementing __getattr__ and __setattr__ in python\n",
    "// to set and access custom attributes on the object\n",
    "\n",
    "// To make this implementation generic, we might have to extensively use\n",
    "// generic types.\n",
    "class DynamicExample extends Dynamic {\n",
    "    private val nameActionMap = MutableMap[String, (String => Unit)]()\n",
    "    \n",
    "    def selectDynamic(member: String) = {\n",
    "        println(\"Inside selectDynamic\")\n",
    "        nameActionMap.get(member)\n",
    "    }\n",
    "    \n",
    "    def applyDynamic(member: String)(arg: String) = {\n",
    "        println(\"Inside applyDynamic\")\n",
    "        nameActionMap.get(member).foreach(l => l(arg))\n",
    "    }\n",
    "    \n",
    "    def updateDynamic(member: String)(lambda: (String => Unit)) = {\n",
    "        println(\"Inside updateDynamic\")\n",
    "        nameActionMap += (member -> lambda)\n",
    "    }\n",
    "}\n",
    "\n",
    "val dynEx = new DynamicExample\n",
    "\n",
    "// calls updateDynamic\n",
    "dynEx.printMessage = (msg => println(msg))\n",
    "\n",
    "// calls applyDynamic\n",
    "dynEx.printMessage(\"Hello world\")\n",
    "\n",
    "// calls selectDynamic\n",
    "val action = dynEx.printMessage\n",
    "action.foreach(l => l(\"foo bar\"))"
   ]
  }
 ],
 "metadata": {
  "kernelspec": {
   "display_name": "Scala",
   "language": "scala",
   "name": "scala"
  },
  "language_info": {
   "codemirror_mode": "text/x-scala",
   "file_extension": ".sc",
   "mimetype": "text/x-scala",
   "name": "scala",
   "nbconvert_exporter": "script",
   "version": "2.13.3"
  }
 },
 "nbformat": 4,
 "nbformat_minor": 4
}
