{
 "cells": [
  {
   "cell_type": "markdown",
   "metadata": {},
   "source": [
    "# Higher Order Functions"
   ]
  },
  {
   "cell_type": "markdown",
   "metadata": {},
   "source": [
    "* We can store function in a variable"
   ]
  },
  {
   "cell_type": "code",
   "execution_count": 1,
   "metadata": {},
   "outputs": [
    {
     "data": {
      "text/plain": [
       "\u001b[36mceilFunction\u001b[39m: \u001b[32mDouble\u001b[39m => \u001b[32mDouble\u001b[39m = ammonite.$sess.cmd0$Helper$$Lambda$1705/1920916481@e532bd9"
      ]
     },
     "execution_count": 1,
     "metadata": {},
     "output_type": "execute_result"
    }
   ],
   "source": [
    "// using _ with method names gets us a lambda function\n",
    "// Lambda function definitions are always of the form\n",
    "// `(param types) => (return_type)`\n",
    "val ceilFunction = scala.math.ceil _"
   ]
  },
  {
   "cell_type": "code",
   "execution_count": 2,
   "metadata": {},
   "outputs": [
    {
     "data": {
      "text/plain": [
       "defined \u001b[32mfunction\u001b[39m \u001b[36mexecuteFunction\u001b[39m\n",
       "\u001b[36mres1_1\u001b[39m: \u001b[32mDouble\u001b[39m = \u001b[32m4.0\u001b[39m\n",
       "\u001b[36mres1_2\u001b[39m: \u001b[32mDouble\u001b[39m = \u001b[32m3.0\u001b[39m"
      ]
     },
     "execution_count": 2,
     "metadata": {},
     "output_type": "execute_result"
    }
   ],
   "source": [
    "// here func is a variable containing ref to function object\n",
    "def executeFunction(func: (Double) => Double)(input: Double) = {\n",
    "        func(input)\n",
    "}\n",
    "\n",
    "// when caller is expecting a function, we only need to\n",
    "// pass the function names.\n",
    "executeFunction(scala.math.ceil)(scala.math.Pi)\n",
    "\n",
    "// We could also pass functions\n",
    "executeFunction(scala.math.floor _)(scala.math.Pi)"
   ]
  },
  {
   "cell_type": "code",
   "execution_count": 3,
   "metadata": {},
   "outputs": [
    {
     "name": "stdout",
     "output_type": "stream",
     "text": [
      "H\n"
     ]
    },
    {
     "data": {
      "text/plain": [
       "\u001b[36mfindCharAt\u001b[39m: (\u001b[32mString\u001b[39m, \u001b[32mInt\u001b[39m) => \u001b[32mChar\u001b[39m = ammonite.$sess.cmd2$Helper$$Lambda$1856/1413445529@cb19ca8"
      ]
     },
     "execution_count": 3,
     "metadata": {},
     "output_type": "execute_result"
    }
   ],
   "source": [
    "// when multiple parameters have different types\n",
    "// we need to explicitly specify the types\n",
    "val findCharAt = (_: String).charAt(_: Int)\n",
    "println(findCharAt(\"Hello\", 0))"
   ]
  },
  {
   "cell_type": "code",
   "execution_count": 4,
   "metadata": {},
   "outputs": [
    {
     "data": {
      "text/plain": [
       "\u001b[36mres3\u001b[39m: \u001b[32mIndexedSeq\u001b[39m[\u001b[32mInt\u001b[39m] = \u001b[33mVector\u001b[39m(\u001b[32m2\u001b[39m, \u001b[32m4\u001b[39m, \u001b[32m6\u001b[39m, \u001b[32m8\u001b[39m, \u001b[32m10\u001b[39m, \u001b[32m12\u001b[39m, \u001b[32m14\u001b[39m, \u001b[32m16\u001b[39m, \u001b[32m18\u001b[39m, \u001b[32m20\u001b[39m)"
      ]
     },
     "execution_count": 4,
     "metadata": {},
     "output_type": "execute_result"
    }
   ],
   "source": [
    "// n => n * 2 is an anonymous function\n",
    "(1 to 10).map(n => n * 2)"
   ]
  },
  {
   "cell_type": "markdown",
   "metadata": {},
   "source": [
    "## Higher order functions"
   ]
  },
  {
   "cell_type": "markdown",
   "metadata": {},
   "source": [
    "Functions that take in another function and/or return a function\n",
    "are higher order functions."
   ]
  },
  {
   "cell_type": "code",
   "execution_count": 5,
   "metadata": {},
   "outputs": [
    {
     "name": "stdout",
     "output_type": "stream",
     "text": [
      "4.0\n",
      "1.7724538509055159\n"
     ]
    },
    {
     "data": {
      "text/plain": [
       "defined \u001b[32mfunction\u001b[39m \u001b[36mhigherOrderFunc\u001b[39m"
      ]
     },
     "execution_count": 5,
     "metadata": {},
     "output_type": "execute_result"
    }
   ],
   "source": [
    "def higherOrderFunc(f: (Double)=> Double) = f(scala.math.Pi)\n",
    "\n",
    "println(higherOrderFunc(math.ceil))\n",
    "\n",
    "//parameter type inference, type of x is automatically\n",
    "// inferred as double\n",
    "println(higherOrderFunc(x => math.sqrt(x)))"
   ]
  },
  {
   "cell_type": "markdown",
   "metadata": {},
   "source": [
    "**NOTE**: If every parameter occurs exactly once with in a lambda function,\n",
    "we can use underscore in the each of the parameter's place."
   ]
  },
  {
   "cell_type": "markdown",
   "metadata": {},
   "source": [
    "## Closures"
   ]
  },
  {
   "cell_type": "markdown",
   "metadata": {},
   "source": [
    "* Within the body of the function, we can access variables from \n",
    "the enclosing scope.\n",
    "* Closures carry with them the state of non local variables"
   ]
  },
  {
   "cell_type": "code",
   "execution_count": 6,
   "metadata": {},
   "outputs": [
    {
     "name": "stdout",
     "output_type": "stream",
     "text": [
      "Hi, John\n",
      "Hello, John\n"
     ]
    },
    {
     "data": {
      "text/plain": [
       "defined \u001b[32mfunction\u001b[39m \u001b[36menclosingMethod\u001b[39m\n",
       "\u001b[36mgreetByHi\u001b[39m: \u001b[32mString\u001b[39m => \u001b[32mString\u001b[39m = ammonite.$sess.cmd5$Helper$$Lambda$1922/461564596@1413ffc7\n",
       "\u001b[36mgreetByHello\u001b[39m: \u001b[32mString\u001b[39m => \u001b[32mString\u001b[39m = ammonite.$sess.cmd5$Helper$$Lambda$1922/461564596@7c150156"
      ]
     },
     "execution_count": 6,
     "metadata": {},
     "output_type": "execute_result"
    }
   ],
   "source": [
    "def enclosingMethod(greeting: String) = {\n",
    "    // closureFunc carries state of greeting with it.\n",
    "    val closureFunc = ((name:String) => s\"$greeting, $name\")\n",
    "    closureFunc\n",
    "}\n",
    "\n",
    "val greetByHi = enclosingMethod(\"Hi\")\n",
    "val greetByHello = enclosingMethod(\"Hello\")\n",
    "\n",
    "// These closures store the value of greeting to be\n",
    "// used at a later point in time\n",
    "println(greetByHi(\"John\"))\n",
    "println(greetByHello(\"John\"))"
   ]
  },
  {
   "cell_type": "markdown",
   "metadata": {},
   "source": [
    "**NOTE**: We can pass anonymous functions to java interfaces expecting\n",
    "a Single Abstract Method(SAM)"
   ]
  },
  {
   "cell_type": "markdown",
   "metadata": {},
   "source": [
    "## Currying"
   ]
  },
  {
   "cell_type": "code",
   "execution_count": 7,
   "metadata": {},
   "outputs": [
    {
     "data": {
      "text/plain": [
       "defined \u001b[32mfunction\u001b[39m \u001b[36mwithoutCurrying\u001b[39m\n",
       "defined \u001b[32mfunction\u001b[39m \u001b[36mcurryingFunc\u001b[39m"
      ]
     },
     "execution_count": 7,
     "metadata": {},
     "output_type": "execute_result"
    }
   ],
   "source": [
    "def withoutCurrying(operand1: Int, operand2: Int) =  operand1 + operand2\n",
    "def curryingFunc(operand1: Int) = operand1 + (_:Int)"
   ]
  },
  {
   "cell_type": "code",
   "execution_count": 8,
   "metadata": {},
   "outputs": [
    {
     "name": "stdout",
     "output_type": "stream",
     "text": [
      "3\n",
      "3\n"
     ]
    }
   ],
   "source": [
    "println(withoutCurrying(1, 2))\n",
    "// It seems like we are passing multiple parameter groups\n",
    "println(curryingFunc(1)(2))"
   ]
  },
  {
   "cell_type": "code",
   "execution_count": 9,
   "metadata": {},
   "outputs": [
    {
     "data": {
      "text/plain": [
       "defined \u001b[32mfunction\u001b[39m \u001b[36mcurriedAdder\u001b[39m\n",
       "\u001b[36maddFive\u001b[39m: \u001b[32mInt\u001b[39m => \u001b[32mInt\u001b[39m = ammonite.$sess.cmd8$Helper$$Lambda$1979/820155942@5dc06a71"
      ]
     },
     "execution_count": 9,
     "metadata": {},
     "output_type": "execute_result"
    }
   ],
   "source": [
    "// Scala has shortcut for currying by allowing us to define\n",
    "// methods that accept multiple parameter groups\n",
    "def curriedAdder(op1: Int)(op2: Int) = op1 + op2\n",
    "\n",
    "// we can then store curried function with partially\n",
    "//populated parameters and use them later\n",
    "val addFive = curriedAdder(5)(_)"
   ]
  },
  {
   "cell_type": "code",
   "execution_count": 10,
   "metadata": {},
   "outputs": [
    {
     "name": "stdout",
     "output_type": "stream",
     "text": [
      "15\n"
     ]
    }
   ],
   "source": [
    "println(addFive(10))"
   ]
  },
  {
   "cell_type": "markdown",
   "metadata": {},
   "source": [
    "## Control abstractions"
   ]
  },
  {
   "cell_type": "markdown",
   "metadata": {},
   "source": [
    "* `break` and `continue` are also implemented as control\n",
    "abstractions."
   ]
  },
  {
   "cell_type": "code",
   "execution_count": 12,
   "metadata": {},
   "outputs": [
    {
     "name": "stdout",
     "output_type": "stream",
     "text": [
      "Hello World\n",
      "Hello World\n",
      "Hello World\n",
      "Hello World\n",
      "Hello World\n"
     ]
    },
    {
     "data": {
      "text/plain": [
       "defined \u001b[32mfunction\u001b[39m \u001b[36mevalExpression\u001b[39m"
      ]
     },
     "execution_count": 12,
     "metadata": {},
     "output_type": "execute_result"
    }
   ],
   "source": [
    "// call by name notation\n",
    "// Here we pass expression by name\n",
    "// every time we refer to the name, the expression\n",
    "// gets evaluated\n",
    "def evalExpression(n: Int)(expr: => Unit) {\n",
    "    for (i <- 1 to n) {\n",
    "        expr\n",
    "    }\n",
    "}\n",
    "\n",
    "evalExpression(5) { \n",
    "    println(\"Hello World\")\n",
    "}"
   ]
  },
  {
   "cell_type": "code",
   "execution_count": 14,
   "metadata": {},
   "outputs": [
    {
     "name": "stdout",
     "output_type": "stream",
     "text": [
      "This statement will be executed\n"
     ]
    },
    {
     "data": {
      "text/plain": [
       "defined \u001b[32mfunction\u001b[39m \u001b[36munless\u001b[39m"
      ]
     },
     "execution_count": 14,
     "metadata": {},
     "output_type": "execute_result"
    }
   ],
   "source": [
    "// using call by name notation, we can build control abstractions\n",
    "// like unless\n",
    "// unless executes a statement when the condition is false\n",
    "// lets assume for now, that until return Unit\n",
    "def unless(cond: => Boolean)(body: => Unit) = {\n",
    "    if (!cond)\n",
    "        body\n",
    "}\n",
    "\n",
    "unless (5 > 10) {\n",
    "    println(\"This statement will be executed\")\n",
    "}\n",
    "\n",
    "unless (true) {\n",
    "    println(\"This statement will not be printed\")\n",
    "}"
   ]
  },
  {
   "cell_type": "markdown",
   "metadata": {},
   "source": [
    "## `return` expression"
   ]
  },
  {
   "cell_type": "markdown",
   "metadata": {},
   "source": [
    "* `return` is optional\n",
    "* `return` is useful to return value from anonymous\n",
    "function to the enclosing named function. Value returned by the\n",
    "anonymous function becomes the return value of the enclosing function."
   ]
  },
  {
   "cell_type": "code",
   "execution_count": 17,
   "metadata": {},
   "outputs": [
    {
     "name": "stdout",
     "output_type": "stream",
     "text": [
      "Returning threshold\n",
      "10\n",
      "5 is lesser than 10\n",
      "5\n"
     ]
    },
    {
     "data": {
      "text/plain": [
       "defined \u001b[32mfunction\u001b[39m \u001b[36mclipValue\u001b[39m"
      ]
     },
     "execution_count": 17,
     "metadata": {},
     "output_type": "execute_result"
    }
   ],
   "source": [
    "def clipValue(n: Int): Int = {\n",
    "    val threshold = 10\n",
    "    // clip value if the value is greater than threshold\n",
    "    unless (n > threshold) {\n",
    "        println(s\"$n is lesser than $threshold\")\n",
    "        return n // this will be the\n",
    "        // return value of the enclosing named function\n",
    "    }\n",
    "    \n",
    "    println(\"Returning threshold\")\n",
    "    return threshold\n",
    "}\n",
    "\n",
    "println(clipValue(100))\n",
    "println(clipValue(5))"
   ]
  }
 ],
 "metadata": {
  "kernelspec": {
   "display_name": "Scala",
   "language": "scala",
   "name": "scala"
  },
  "language_info": {
   "codemirror_mode": "text/x-scala",
   "file_extension": ".sc",
   "mimetype": "text/x-scala",
   "name": "scala",
   "nbconvert_exporter": "script",
   "version": "2.13.3"
  }
 },
 "nbformat": 4,
 "nbformat_minor": 4
}
