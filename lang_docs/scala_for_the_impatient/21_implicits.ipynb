{
 "cells": [
  {
   "cell_type": "markdown",
   "metadata": {},
   "source": [
    "# Implicits"
   ]
  },
  {
   "cell_type": "markdown",
   "metadata": {},
   "source": [
    "* Implicit conversion\n",
    "* Implicit parameters"
   ]
  },
  {
   "cell_type": "markdown",
   "metadata": {},
   "source": [
    "## Implicit conversions"
   ]
  },
  {
   "cell_type": "markdown",
   "metadata": {},
   "source": [
    "* Implicit conversion function is a function with exactly a single parameter that is also declared with the keyword `implicit`.\n",
    "\n",
    "* Implicit conversions can be used to make existing classes richer(with even more functionality)\n",
    "\n",
    "**NOTE**: To avoid compiler warning when using implicit conversions,\n",
    "import `import scala.language.implicitConversions` or the compiler option\n",
    "`-language:implicitConversions`\n"
   ]
  },
  {
   "cell_type": "code",
   "execution_count": 2,
   "metadata": {},
   "outputs": [
    {
     "data": {
      "text/plain": [
       "\u001b[32mimport \u001b[39m\u001b[36mscala.language.implicitConversions\u001b[39m"
      ]
     },
     "execution_count": 2,
     "metadata": {},
     "output_type": "execute_result"
    }
   ],
   "source": [
    "import scala.language.implicitConversions"
   ]
  },
  {
   "cell_type": "code",
   "execution_count": 1,
   "metadata": {},
   "outputs": [
    {
     "name": "stdout",
     "output_type": "stream",
     "text": [
      "32.0\n"
     ]
    },
    {
     "data": {
      "text/plain": [
       "defined \u001b[32mclass\u001b[39m \u001b[36mTemperature\u001b[39m\n",
       "defined \u001b[32mfunction\u001b[39m \u001b[36mtemperatureConverter\u001b[39m"
      ]
     },
     "execution_count": 1,
     "metadata": {},
     "output_type": "execute_result"
    }
   ],
   "source": [
    "case class Temperature(celcius: Double) {\n",
    "    def toFarenheit: Double = celcius * (9.0/5) + 32.0\n",
    "}\n",
    "\n",
    "implicit def temperatureConverter(celcius: Double): Temperature =\n",
    "    Temperature(celcius)\n",
    "\n",
    "// toFarenheit is a member of Temperature.\n",
    "// compiler will look for types with this method\n",
    "// and an implicit conversion function that is in scope\n",
    "// to convert double to Temperature\n",
    "println((0.0).toFarenheit)"
   ]
  },
  {
   "cell_type": "markdown",
   "metadata": {},
   "source": [
    "Uses of implicit conversion\n",
    "* To enrich existing type, we first implement a type that accepts the\n",
    "type to be enriched as its constructor argument and provides those rich\n",
    "methods. Then we need to add an implicit conversion function to convert\n",
    "the existing type to the rich type."
   ]
  },
  {
   "cell_type": "code",
   "execution_count": 7,
   "metadata": {},
   "outputs": [
    {
     "name": "stdout",
     "output_type": "stream",
     "text": [
      "Vector(1, 2, 3, 4, 5, 6, 7, 8, 9, 10)\n",
      "Vector(1, 2, 3, 4, 5, 6, 7, 8, 9)\n"
     ]
    },
    {
     "data": {
      "text/plain": [
       "defined \u001b[32mclass\u001b[39m \u001b[36mMyRichInt\u001b[39m\n",
       "defined \u001b[32mfunction\u001b[39m \u001b[36menrichInt\u001b[39m"
      ]
     },
     "execution_count": 7,
     "metadata": {},
     "output_type": "execute_result"
    }
   ],
   "source": [
    "// Approach-1\n",
    "// provide conversion function from existing type to rich type\n",
    "class MyRichInt(val value: Int) {\n",
    "    def upto(end: Int): Seq[Int] = {\n",
    "        Stream.iterate(value)(v => v + 1).take(end).toVector\n",
    "    }\n",
    "    \n",
    "    def till(end: Int): Seq[Int] = {\n",
    "        Stream.iterate(value)(v => v + 1).take(end-1).toVector\n",
    "    }\n",
    "}\n",
    "\n",
    "implicit def enrichInt(value: Int): MyRichInt = new MyRichInt(value)\n",
    "\n",
    "println(1 upto 10)\n",
    "println(1 till 10)"
   ]
  },
  {
   "cell_type": "code",
   "execution_count": 8,
   "metadata": {},
   "outputs": [
    {
     "name": "stdout",
     "output_type": "stream",
     "text": [
      "Vector(1, 2, 3, 4, 5, 6, 7, 8, 9, 10)\n",
      "Vector(1, 2, 3, 4, 5, 6, 7, 8, 9)\n"
     ]
    },
    {
     "data": {
      "text/plain": [
       "defined \u001b[32mclass\u001b[39m \u001b[36mMyRichInt2\u001b[39m"
      ]
     },
     "execution_count": 8,
     "metadata": {},
     "output_type": "execute_result"
    }
   ],
   "source": [
    "// Approach-2\n",
    "// Make the new rich type itself implicit\n",
    "// Implicit class should have a primary constructor with exactly \n",
    "// a single parameter.\n",
    "// But in jupyter notebooks, We cannot use AnyVal since almond scala kernel\n",
    "// wraps this cell code in some internal class.\n",
    "// Here I renamed to MyRichInt2, otherwise I would get\n",
    "// ambiguous error as we would have both implicit class\n",
    "// and the implicit function from the above cell in the same\n",
    "// scope to do the implicit conversion.\n",
    "implicit class MyRichInt2(val value: Int) {\n",
    "    def upto2(end: Int): Seq[Int] = {\n",
    "        Stream.iterate(value)(v => v + 1).take(end).toVector\n",
    "    }\n",
    "    \n",
    "    def till2(end: Int): Seq[Int] = {\n",
    "        Stream.iterate(value)(v => v + 1).take(end-1).toVector\n",
    "    }\n",
    "}\n",
    "\n",
    "println(1 upto2 10)\n",
    "println(1 till2 10)"
   ]
  },
  {
   "cell_type": "markdown",
   "metadata": {},
   "source": [
    "NOTE\n",
    "* Its recommended that implicit classes extend `AnyVal` because it eliminates instance creation overhead. [Value classes scala docs](https://docs.scala-lang.org/overviews/core/value-classes.html#summary_of_limitations)\n",
    "* Implicit classes cannot be top level classes. But both implicit and value classes can be placed inside an `object`."
   ]
  },
  {
   "cell_type": "markdown",
   "metadata": {},
   "source": [
    "Rules for importing implicits\n",
    "\n",
    "* Look for implicit functions/classes inside the companion object of the source or the target type\n",
    "* Implicit functions or classes in scope.\n",
    "* For implicit conversions to be in scope, we should import them without the prefixes.\n",
    "Implicits should be imported only at required places(localized importing)\n"
   ]
  },
  {
   "cell_type": "markdown",
   "metadata": {},
   "source": [
    "Rules for implicit conversions\n",
    "* If type of an expression differs from expected type\n",
    "* If an object accesses a nonexistent member(ex: `1 to 10`)\n",
    "* If an object invokes a method whose parameters don't match the given arguments\n",
    "\n",
    "When implicit conversions **are not attempted**\n",
    "* If code compiles without implicit conversions\n",
    "* Multiple levels of implicit conversions are not performed.\n",
    "* Ambiguous conversions cause error.\n",
    "\n",
    "NOTE: Dump the implicit conversion used by the compiler using `scalac -Xprint:typer MyProg.scala`"
   ]
  },
  {
   "cell_type": "markdown",
   "metadata": {},
   "source": [
    "## Implicit parameters"
   ]
  },
  {
   "cell_type": "markdown",
   "metadata": {},
   "source": [
    "* Function and method arguments can be declared as implicits.\n",
    "In such cases, the compiler looks for val/def defined in the current scope\n",
    "that are marked as implicit and automatically passes those values to the function/method call.\n",
    "\n",
    "* There can be only one implicit value for a given data type.\n",
    "\n",
    "Compiler looks for val/def in the following places:\n",
    "* First a val/def in the current scope without a prefix otherwise,\n",
    "* In the companion object of a type that is associated with the desired type."
   ]
  },
  {
   "cell_type": "code",
   "execution_count": 10,
   "metadata": {},
   "outputs": [
    {
     "name": "stdout",
     "output_type": "stream",
     "text": [
      "Hello, John\n"
     ]
    },
    {
     "data": {
      "text/plain": [
       "defined \u001b[32mobject\u001b[39m \u001b[36mSomeObject\u001b[39m\n",
       "\u001b[32mimport \u001b[39m\u001b[36mSomeObject.greet\n",
       "\n",
       "// Here the greetWord is picked up from vals in the scope\n",
       "\u001b[39m\n",
       "defined \u001b[32mfunction\u001b[39m \u001b[36mgreetPerson\u001b[39m"
      ]
     },
     "execution_count": 10,
     "metadata": {},
     "output_type": "execute_result"
    }
   ],
   "source": [
    "object SomeObject {\n",
    "    implicit val greet: String = \"Hello\"\n",
    "}\n",
    "\n",
    "import SomeObject.greet\n",
    "\n",
    "// Here the greetWord is picked up from vals in the scope\n",
    "def greetPerson(name: String)(implicit greetWord: String) = {\n",
    "    println(s\"$greetWord, $name\")\n",
    "}\n",
    "\n",
    "greetPerson(\"John\")"
   ]
  },
  {
   "cell_type": "code",
   "execution_count": 14,
   "metadata": {},
   "outputs": [
    {
     "name": "stdout",
     "output_type": "stream",
     "text": [
      "Hi, John\n"
     ]
    },
    {
     "data": {
      "text/plain": [
       "defined \u001b[32mclass\u001b[39m \u001b[36mGreetWord\u001b[39m\n",
       "defined \u001b[32mobject\u001b[39m \u001b[36mGreetWord\u001b[39m\n",
       "defined \u001b[32mfunction\u001b[39m \u001b[36mgreetPerson2\u001b[39m"
      ]
     },
     "execution_count": 14,
     "metadata": {},
     "output_type": "execute_result"
    }
   ],
   "source": [
    "case class GreetWord(word: String)\n",
    "\n",
    "object GreetWord {\n",
    "    // this implicit type should match the type of the implicit parameter.\n",
    "    implicit val defaultGreetWord = GreetWord(\"Hi\")\n",
    "}\n",
    "\n",
    "// If this variable is in scope, it would be picked up\n",
    "// since it is commented, compiler will look for implicit inside\n",
    "// the companion object of GreetWord\n",
    "// implicit val anotherGreetInScope = GreetWord(\"Hey\")\n",
    "\n",
    "// Here the greetWord is picked up from vals in the scope\n",
    "def greetPerson2(name: String)(implicit greetWord: GreetWord) = {\n",
    "    println(s\"${greetWord.word}, $name\")\n",
    "}\n",
    "\n",
    "greetPerson2(\"John\")"
   ]
  },
  {
   "cell_type": "markdown",
   "metadata": {},
   "source": [
    "**NOTE**: Implicit parameters can be a lambda function as well (`def smaller[T](a: T, b: T)(implicit order: T => Ordered[T])`) which helps in type conversion, thereby acting as an implicit conversion that is in the scope of the function/method body. Refer 21.6 for example."
   ]
  }
 ],
 "metadata": {
  "kernelspec": {
   "display_name": "Scala",
   "language": "scala",
   "name": "scala"
  },
  "language_info": {
   "codemirror_mode": "text/x-scala",
   "file_extension": ".sc",
   "mimetype": "text/x-scala",
   "name": "scala",
   "nbconvert_exporter": "script",
   "version": "2.13.3"
  }
 },
 "nbformat": 4,
 "nbformat_minor": 4
}
