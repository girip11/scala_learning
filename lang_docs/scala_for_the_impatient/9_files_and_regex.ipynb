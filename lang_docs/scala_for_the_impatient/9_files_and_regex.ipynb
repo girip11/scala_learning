{
 "cells": [
  {
   "cell_type": "markdown",
   "metadata": {},
   "source": [
    "# Files and Regular Expressions"
   ]
  },
  {
   "cell_type": "markdown",
   "metadata": {},
   "source": [
    "## Reading files"
   ]
  },
  {
   "cell_type": "code",
   "execution_count": 1,
   "metadata": {},
   "outputs": [
    {
     "data": {
      "text/plain": [
       "\u001b[32mimport \u001b[39m\u001b[36mscala.io.Source\u001b[39m"
      ]
     },
     "execution_count": 1,
     "metadata": {},
     "output_type": "execute_result"
    }
   ],
   "source": [
    "import scala.io.Source"
   ]
  },
  {
   "cell_type": "code",
   "execution_count": 6,
   "metadata": {},
   "outputs": [
    {
     "data": {
      "text/plain": [
       "\u001b[36mfile\u001b[39m: \u001b[32mio\u001b[39m.\u001b[32mBufferedSource\u001b[39m = \u001b[32mnon-empty iterator\u001b[39m"
      ]
     },
     "execution_count": 6,
     "metadata": {},
     "output_type": "execute_result"
    }
   ],
   "source": [
    "val file = Source.fromFile(\"test.csv\")"
   ]
  },
  {
   "cell_type": "code",
   "execution_count": 7,
   "metadata": {},
   "outputs": [
    {
     "data": {
      "text/plain": [
       "\u001b[36mlines\u001b[39m: \u001b[32mIterator\u001b[39m[\u001b[32mString\u001b[39m] = \u001b[32mempty iterator\u001b[39m\n",
       "\u001b[36mres6_1\u001b[39m: \u001b[32mInt\u001b[39m = \u001b[32m419\u001b[39m"
      ]
     },
     "execution_count": 7,
     "metadata": {},
     "output_type": "execute_result"
    }
   ],
   "source": [
    "val lines = file.getLines\n",
    "lines.length"
   ]
  },
  {
   "cell_type": "code",
   "execution_count": 8,
   "metadata": {},
   "outputs": [],
   "source": [
    "file.close()"
   ]
  },
  {
   "cell_type": "markdown",
   "metadata": {},
   "source": [
    "* Iterating over `Source` object directly iterates through one\n",
    "character at a time.\n",
    "* `Source.buffered` returns Iterator that has the capability to\n",
    "peek without moving the iterator.\n",
    "* Small files contents to string using `Source.mkString`"
   ]
  },
  {
   "cell_type": "markdown",
   "metadata": {},
   "source": [
    "* `Source.fromURL`, `Source.fromString`, `Source.stdin` can be used to\n",
    "read inputs from various sources.\n",
    "\n",
    "* Scala's io is very limited. Looks like most often we need\n",
    "to use java standard packages like `java.io`, `java.nio`\n",
    "\n",
    "* For reading binary files, we have to use java class `FileInputStream`\n",
    "\n",
    "* For writing files, we have to use `java.io.PrintWriter`"
   ]
  },
  {
   "cell_type": "markdown",
   "metadata": {},
   "source": [
    "## Serialization"
   ]
  },
  {
   "cell_type": "markdown",
   "metadata": {},
   "source": [
    "* Extend `scala.Serializable` trait\n",
    "* Scala collections are serializable.\n",
    "* To serialize and deserialize we use `ObjectOutputStream`\n",
    "and `ObjectInputStream` respectively (binary serialization).\n"
   ]
  },
  {
   "cell_type": "markdown",
   "metadata": {},
   "source": [
    "## Process control"
   ]
  },
  {
   "cell_type": "markdown",
   "metadata": {},
   "source": [
    "* `scala.sys.process` package provides shell utilities."
   ]
  },
  {
   "cell_type": "code",
   "execution_count": 9,
   "metadata": {},
   "outputs": [
    {
     "name": "stdout",
     "output_type": "stream",
     "text": [
      "Hello\n"
     ]
    },
    {
     "data": {
      "text/plain": [
       "\u001b[32mimport \u001b[39m\u001b[36mscala.sys.process._\n",
       "\n",
       "// below shell command strings are converted to ProcessBuilder objects\n",
       "// process package uses scala's implicit feature\n",
       "// ! - returns the exit code of the the program\n",
       "// 0 - success and non zero - failure\n",
       "\u001b[39m\n",
       "\u001b[36mres8_1\u001b[39m: \u001b[32mInt\u001b[39m = \u001b[32m0\u001b[39m"
      ]
     },
     "execution_count": 9,
     "metadata": {},
     "output_type": "execute_result"
    }
   ],
   "source": [
    "import scala.sys.process._\n",
    "\n",
    "// below shell command strings are converted to ProcessBuilder objects\n",
    "// process package uses scala's implicit feature\n",
    "// ! - returns the exit code of the the program\n",
    "// 0 - success and non zero - failure\n",
    "\"echo 'Hello'\".!"
   ]
  },
  {
   "cell_type": "code",
   "execution_count": 10,
   "metadata": {},
   "outputs": [
    {
     "name": "stdout",
     "output_type": "stream",
     "text": [
      "hello\n",
      "\n"
     ]
    },
    {
     "data": {
      "text/plain": [
       "\u001b[36mout\u001b[39m: \u001b[32mString\u001b[39m = \u001b[32m\"\"\"hello\n",
       "\"\"\"\u001b[39m"
      ]
     },
     "execution_count": 10,
     "metadata": {},
     "output_type": "execute_result"
    }
   ],
   "source": [
    "// to get the output as string use !!\n",
    "val out = \"echo 'hello'\".!!\n",
    "println(out)"
   ]
  },
  {
   "cell_type": "code",
   "execution_count": 11,
   "metadata": {},
   "outputs": [
    {
     "name": "stdout",
     "output_type": "stream",
     "text": [
      "Hello\n",
      "Hello\n",
      "World\n",
      "Hello\n",
      "world\n"
     ]
    },
    {
     "data": {
      "text/plain": [
       "\u001b[36mres10_0\u001b[39m: \u001b[32mInt\u001b[39m = \u001b[32m0\u001b[39m\n",
       "\u001b[36mres10_1\u001b[39m: \u001b[32mInt\u001b[39m = \u001b[32m0\u001b[39m\n",
       "\u001b[36mres10_2\u001b[39m: \u001b[32mInt\u001b[39m = \u001b[32m0\u001b[39m\n",
       "\u001b[36mres10_3\u001b[39m: \u001b[32mInt\u001b[39m = \u001b[32m0\u001b[39m\n",
       "\u001b[36mres10_4\u001b[39m: \u001b[32mInt\u001b[39m = \u001b[32m0\u001b[39m"
      ]
     },
     "execution_count": 11,
     "metadata": {},
     "output_type": "execute_result"
    }
   ],
   "source": [
    "// since |, >>, > all are known to be used as operators(bitwise, relational)\n",
    "// we prefix those with # when we need to use them in the shell context\n",
    "//pipe\n",
    "\"echo 'Hello'\".#|(\"cat\").!\n",
    "\n",
    "// redirect to file\n",
    "\"echo 'Hello'\".#>(new java.io.File(\"output.txt\")).!\n",
    "\n",
    "// append to file\n",
    "\"echo 'World'\".#>>(new java.io.File(\"output.txt\")).!\n",
    "\n",
    "// redirect to stdin\n",
    "// append to file\n",
    "\"cat\".#<(new java.io.File(\"output.txt\")).!\n",
    "\n",
    "// combine shell command execution using &&\n",
    "\"echo 'Hello'\".#&&(\"echo 'world'\").!"
   ]
  },
  {
   "cell_type": "code",
   "execution_count": 20,
   "metadata": {},
   "outputs": [
    {
     "name": "stdout",
     "output_type": "stream",
     "text": [
      "hello\n"
     ]
    },
    {
     "data": {
      "text/plain": [
       "\u001b[36menvs\u001b[39m: \u001b[32mList\u001b[39m[(\u001b[32mString\u001b[39m, \u001b[32mString\u001b[39m)] = \u001b[33mList\u001b[39m((\u001b[32m\"MY_ENV\"\u001b[39m, \u001b[32m\"123456789\"\u001b[39m))\n",
       "\u001b[36mp\u001b[39m: \u001b[32mProcessBuilder\u001b[39m = [echo, hello]\n",
       "\u001b[36mres19_2\u001b[39m: \u001b[32mInt\u001b[39m = \u001b[32m0\u001b[39m"
      ]
     },
     "execution_count": 20,
     "metadata": {},
     "output_type": "execute_result"
    }
   ],
   "source": [
    "// Using Process object directly\n",
    "val envs = List[(String, String)](\n",
    "    (\"MY_ENV\", \"123456789\")\n",
    ")\n",
    "val p = Process(\"\"\"\n",
    "echo \"hello\"\n",
    "\"\"\", cwd=None, envs:_*)\n",
    "p.!"
   ]
  },
  {
   "cell_type": "markdown",
   "metadata": {},
   "source": [
    "## Regular Expressions"
   ]
  },
  {
   "cell_type": "markdown",
   "metadata": {},
   "source": [
    "* `scala.util.matching.Regex` is the regex class\n",
    "* `\"some_regex_pattern\".r` returns regex object.\n",
    "* Prefer using **raw** strings(triple quoted) for regex with backslashes.\n",
    "* `findAllIn`, `findFirstIn`, `replaceFirstIn`, `replaceAllIn` are\n",
    "some of the useful methods."
   ]
  },
  {
   "cell_type": "code",
   "execution_count": 22,
   "metadata": {},
   "outputs": [
    {
     "name": "stdout",
     "output_type": "stream",
     "text": [
      "1\n",
      "20\n",
      "10\n",
      "Some(1)\n"
     ]
    },
    {
     "data": {
      "text/plain": [
       "\u001b[36mcontent\u001b[39m: \u001b[32mString\u001b[39m = \u001b[32m\"1 apple, 20 banana, 10 watermelons\"\u001b[39m\n",
       "\u001b[36mregexPattern\u001b[39m: \u001b[32mscala\u001b[39m.\u001b[32mutil\u001b[39m.\u001b[32mmatching\u001b[39m.\u001b[32mRegex\u001b[39m = [0-9]+\n",
       "\u001b[36mfirstMatch\u001b[39m: \u001b[32mOption\u001b[39m[\u001b[32mString\u001b[39m] = \u001b[33mSome\u001b[39m(\u001b[32m\"1\"\u001b[39m)"
      ]
     },
     "execution_count": 22,
     "metadata": {},
     "output_type": "execute_result"
    }
   ],
   "source": [
    "val content = \"1 apple, 20 banana, 10 watermelons\"\n",
    "\n",
    "// find quantities\n",
    "val regexPattern = \"\"\"[0-9]+\"\"\".r\n",
    "\n",
    "for (m <- regexPattern.findAllIn(content))\n",
    "    println(m)\n",
    "\n",
    "val firstMatch: Option[String] = regexPattern.findFirstIn(content)\n",
    "println(firstMatch)"
   ]
  },
  {
   "cell_type": "code",
   "execution_count": 23,
   "metadata": {},
   "outputs": [
    {
     "name": "stdout",
     "output_type": "stream",
     "text": [
      "XX apple, XX banana, XX watermelons\n",
      "2 apple, 40 banana, 20 watermelons\n"
     ]
    },
    {
     "data": {
      "text/plain": [
       "\u001b[36mnewContent\u001b[39m: \u001b[32mString\u001b[39m = \u001b[32m\"2 apple, 40 banana, 20 watermelons\"\u001b[39m"
      ]
     },
     "execution_count": 23,
     "metadata": {},
     "output_type": "execute_result"
    }
   ],
   "source": [
    "// Suppose we need to mask all the quantities with XX\n",
    "println(regexPattern.replaceAllIn(content, \"XX\"))\n",
    "\n",
    "// suppose we need to double the quantities of every fruit\n",
    "val newContent = regexPattern.replaceSomeIn(content,\n",
    "    m => Some(s\"${m.matched.toInt * 2}\"))\n",
    "\n",
    "println(newContent)"
   ]
  },
  {
   "cell_type": "markdown",
   "metadata": {},
   "source": [
    "## Regex groups"
   ]
  },
  {
   "cell_type": "code",
   "execution_count": 24,
   "metadata": {},
   "outputs": [
    {
     "name": "stdout",
     "output_type": "stream",
     "text": [
      "1 apple\n",
      "20 banana\n",
      "10 watermelons\n"
     ]
    },
    {
     "data": {
      "text/plain": [
       "\u001b[36mpattern\u001b[39m: \u001b[32mscala\u001b[39m.\u001b[32mutil\u001b[39m.\u001b[32mmatching\u001b[39m.\u001b[32mRegex\u001b[39m = ([0-9]+)\\s+([a-zA-Z]+)"
      ]
     },
     "execution_count": 24,
     "metadata": {},
     "output_type": "execute_result"
    }
   ],
   "source": [
    "val pattern = \"\"\"([0-9]+)\\s+([a-zA-Z]+)\"\"\".r\n",
    "\n",
    "for (matchedText <- pattern.findAllIn(content))\n",
    "    println(matchedText)"
   ]
  },
  {
   "cell_type": "code",
   "execution_count": 26,
   "metadata": {},
   "outputs": [
    {
     "name": "stdout",
     "output_type": "stream",
     "text": [
      "1 apple\n",
      "(1 apple,0,7)\n",
      "(1,0,1)\n",
      "(apple,2,7)\n",
      "20 banana\n",
      "(20 banana,9,18)\n",
      "(20,9,11)\n",
      "(banana,12,18)\n",
      "10 watermelons\n",
      "(10 watermelons,20,34)\n",
      "(10,20,22)\n",
      "(watermelons,23,34)\n"
     ]
    }
   ],
   "source": [
    "// to fetch the matched groups we need to use findFirstMatchIn\n",
    "// and findAllMatchIn methods\n",
    "for (m <- pattern.findAllMatchIn(content)) {\n",
    "    println(m.matched) // entire match\n",
    "    println(m.group(0), m.start(0), m.end(0)) // zeroth group is entire match\n",
    "    println(m.group(1), m.start(1), m.end(1)) // first group\n",
    "    println(m.group(2), m.start(2), m.end(2)) // second group\n",
    "}"
   ]
  }
 ],
 "metadata": {
  "kernelspec": {
   "display_name": "Scala",
   "language": "scala",
   "name": "scala"
  },
  "language_info": {
   "codemirror_mode": "text/x-scala",
   "file_extension": ".sc",
   "mimetype": "text/x-scala",
   "name": "scala",
   "nbconvert_exporter": "script",
   "version": "2.13.3"
  }
 },
 "nbformat": 4,
 "nbformat_minor": 4
}
