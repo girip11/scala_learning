{
 "cells": [
  {
   "cell_type": "code",
   "execution_count": 7,
   "metadata": {},
   "outputs": [
    {
     "name": "stderr",
     "output_type": "stream",
     "text": [
      "Scala code runner version 2.13.4 -- Copyright 2002-2020, LAMP/EPFL and Lightbend, Inc.\n"
     ]
    },
    {
     "name": "stdout",
     "output_type": "stream",
     "text": [
      "0\n"
     ]
    },
    {
     "data": {
      "text/plain": [
       "\u001b[32mimport \u001b[39m\u001b[36mscala.sys.process._\n",
       "\u001b[39m"
      ]
     },
     "execution_count": 7,
     "metadata": {},
     "output_type": "execute_result"
    }
   ],
   "source": [
    "import scala.sys.process._\n",
    "println(\"scala -version\".!)"
   ]
  },
  {
   "cell_type": "markdown",
   "metadata": {},
   "source": [
    "# Packages and imports"
   ]
  },
  {
   "cell_type": "markdown",
   "metadata": {},
   "source": [
    "## Packages"
   ]
  },
  {
   "cell_type": "markdown",
   "metadata": {},
   "source": [
    "* Package provides the functionality of a namespace.\n",
    "* Package can be defined in multiple files. A single source file\n",
    "can also have elements belonging to many packages.\n",
    "* It is not a rule that the directory names should become\n",
    "the package structure. But it helps for better organization of code."
   ]
  },
  {
   "cell_type": "code",
   "execution_count": 0,
   "metadata": {},
   "outputs": [],
   "source": [
    "package com {\n",
    "    package app {\n",
    "        package helloWorld {\n",
    "            // Driver class belongs to com.scala.helloWorld package\n",
    "            class Driver {\n",
    "                // class definition\n",
    "            }\n",
    "        }\n",
    "    }\n",
    "}"
   ]
  },
  {
   "cell_type": "markdown",
   "metadata": {},
   "source": [
    "## Scope rules"
   ]
  },
  {
   "cell_type": "markdown",
   "metadata": {},
   "source": [
    "* Packages nest like classes\n",
    "* Packages can be addressed using relative paths.\n",
    "* Names in the enclosing scopes are available to the nested packages"
   ]
  },
  {
   "cell_type": "code",
   "execution_count": 0,
   "metadata": {},
   "outputs": [],
   "source": [
    "package com {\n",
    "    object ComConstants  {\n",
    "        val insideCom = \"Foo\"\n",
    "    }\n",
    "    package app {\n",
    "\n",
    "        object AppConstants  {\n",
    "            val insideApp = \"Bar\"\n",
    "        }\n",
    "\n",
    "        package hello {\n",
    "            object Utils {\n",
    "                //I can access names from packages com and scala\n",
    "                println(ComConstants.insideCom)\n",
    "                println(AppConstants.insideApp)\n",
    "                def sayHello(name:String): Unit = println(s\"Hello, $name\")\n",
    "            }\n",
    "        }\n",
    "        \n",
    "        package world {\n",
    "            object Main extends App {\n",
    "                // relative package names.\n",
    "                hello.Utils.sayHello(\"world\")\n",
    "            }\n",
    "        }\n",
    "    }\n",
    "}"
   ]
  },
  {
   "cell_type": "markdown",
   "metadata": {},
   "source": [
    "With above curly braces way of nesting packages, we have a drawback.\n",
    "A namespace could hide names from builtin namespace like scala, Predef, java.lang\n",
    "or names from one of the enclosing packages.\n"
   ]
  },
  {
   "cell_type": "markdown",
   "metadata": {},
   "source": [
    "* In scala, we use absolute package names starting from `_root_` package.\n",
    "Ex: `_root_.scala.collection.mutable.ArrayBuffer`.\n",
    "* `_root_` package can be omitted in absolute path as long as we dont have\n",
    "packages named `scala`, `java`, `com` for nested packages."
   ]
  },
  {
   "cell_type": "markdown",
   "metadata": {},
   "source": [
    "## Chaining packages"
   ]
  },
  {
   "cell_type": "code",
   "execution_count": null,
   "metadata": {},
   "outputs": [],
   "source": [
    "// With this notation, names inside com and app are not\n",
    "// available to the nested package hello.\n",
    "package com.app.hello {\n",
    "    object Main extends App {\n",
    "        println(\"Hello\")\n",
    "    }\n",
    "}\n",
    "\n",
    "package com.app.world {\n",
    "    object Main extends App {\n",
    "        println(\"world\")\n",
    "    }\n",
    "}"
   ]
  },
  {
   "cell_type": "code",
   "execution_count": null,
   "metadata": {},
   "outputs": [],
   "source": [
    "// top of the file notation\n",
    "// In this notation, all classes, objects defined in the\n",
    "// source file would belong to the package com.app.hello\n",
    "package com.app.hello\n",
    "\n",
    "//file contents"
   ]
  },
  {
   "cell_type": "markdown",
   "metadata": {},
   "source": [
    "```Scala\n",
    "package com.app\n",
    "package hello\n",
    "```\n",
    "\n",
    "is same as \n",
    "\n",
    "```Scala\n",
    "package com.app {\n",
    "    package hello {\n",
    "    }\n",
    "}\n",
    "```\n",
    "\n",
    "Note that the names in the package `com.app` are made available to\n",
    "the nested package `hello`."
   ]
  },
  {
   "cell_type": "markdown",
   "metadata": {},
   "source": [
    "## Package objects"
   ]
  },
  {
   "cell_type": "markdown",
   "metadata": {},
   "source": [
    "* A Package can only contain class, object and traits. Functions or variable\n",
    "definitions cannot be placed directly in a package.\n",
    "\n",
    "* Every package can have one package object which is commonly\n",
    "defined within the package as a source file named **package.scala**."
   ]
  },
  {
   "cell_type": "code",
   "execution_count": 0,
   "metadata": {},
   "outputs": [],
   "source": [
    "//Inside hello folder with file names package.scala\n",
    "package object hello {\n",
    "    // here we can define the variables, constants and functions directly\n",
    "}"
   ]
  },
  {
   "cell_type": "markdown",
   "metadata": {},
   "source": [
    "**NOTE**: Package object is compiled to a class by the scala compiler with all\n",
    "variables and functions as the class's static members."
   ]
  },
  {
   "cell_type": "markdown",
   "metadata": {},
   "source": [
    "## Package visibility"
   ]
  },
  {
   "cell_type": "code",
   "execution_count": null,
   "metadata": {},
   "outputs": [],
   "source": [
    "package com.app.hello \n",
    "\n",
    "// package level visibility to members\n",
    "class SimpleClass {\n",
    "    // package private\n",
    "    // we can give the appropriate package name to which\n",
    "    // the members should be visible\n",
    "    private[hello] def sayHello() = ???\n",
    "}"
   ]
  },
  {
   "cell_type": "markdown",
   "metadata": {},
   "source": [
    "## Imports"
   ]
  },
  {
   "cell_type": "markdown",
   "metadata": {},
   "source": [
    "Imports help us make use of short names instead of fully\n",
    "qualified names"
   ]
  },
  {
   "cell_type": "code",
   "execution_count": 1,
   "metadata": {},
   "outputs": [
    {
     "data": {
      "text/plain": [
       "\u001b[32mimport \u001b[39m\u001b[36mscala.collection.mutable.ArrayBuffer\n",
       "\n",
       "// we can directly use the names\n",
       "\u001b[39m\n",
       "\u001b[36mlist\u001b[39m: \u001b[32mArrayBuffer\u001b[39m[\u001b[32mString\u001b[39m] = \u001b[33mArrayBuffer\u001b[39m()"
      ]
     },
     "execution_count": 1,
     "metadata": {},
     "output_type": "execute_result"
    }
   ],
   "source": [
    "//If we import ArrayBuffer\n",
    "import scala.collection.mutable.ArrayBuffer\n",
    "\n",
    "// we can directly use the names\n",
    "val list = ArrayBuffer[String]()"
   ]
  },
  {
   "cell_type": "code",
   "execution_count": 2,
   "metadata": {},
   "outputs": [
    {
     "data": {
      "text/plain": [
       "\u001b[32mimport \u001b[39m\u001b[36mscala.jdk.CollectionConverters._\n",
       "\u001b[39m\n",
       "\u001b[32mimport \u001b[39m\u001b[36mscala.collection.mutable._\u001b[39m"
      ]
     },
     "execution_count": 2,
     "metadata": {},
     "output_type": "execute_result"
    }
   ],
   "source": [
    "// import all the members of CollectionConverters\n",
    "// similarly we can import all members of a package\n",
    "// This is referred to as wildcard imports\n",
    "import scala.jdk.CollectionConverters._\n",
    "import scala.collection.mutable._"
   ]
  },
  {
   "cell_type": "markdown",
   "metadata": {},
   "source": [
    "**NOTE**: Import statements can be placed anywhere. Scope of the import\n",
    "statement is end of the enclosing block."
   ]
  },
  {
   "cell_type": "code",
   "execution_count": 8,
   "metadata": {},
   "outputs": [
    {
     "data": {
      "text/plain": [
       "\u001b[32mimport \u001b[39m\u001b[36mscala.util.{Try, Random}\u001b[39m"
      ]
     },
     "execution_count": 8,
     "metadata": {},
     "output_type": "execute_result"
    }
   ],
   "source": [
    "// import more names/members from a package/class using { }\n",
    "import scala.util.{Try, Random}"
   ]
  },
  {
   "cell_type": "code",
   "execution_count": 9,
   "metadata": {},
   "outputs": [
    {
     "data": {
      "text/plain": [
       "\u001b[32mimport \u001b[39m\u001b[36mscala.collection.mutable.{Map => MutableMap}\u001b[39m"
      ]
     },
     "execution_count": 9,
     "metadata": {},
     "output_type": "execute_result"
    }
   ],
   "source": [
    "//assigning alias or renaming member\n",
    "import scala.collection.mutable.{Map => MutableMap}"
   ]
  },
  {
   "cell_type": "code",
   "execution_count": 10,
   "metadata": {},
   "outputs": [
    {
     "data": {
      "text/plain": [
       "\u001b[32mimport \u001b[39m\u001b[36mjava.util.{HashMap => _}\u001b[39m"
      ]
     },
     "execution_count": 10,
     "metadata": {},
     "output_type": "execute_result"
    }
   ],
   "source": [
    "// hiding a member from a package\n",
    "// HashMap from java.util is hidden now\n",
    "import java.util.{HashMap => _}"
   ]
  },
  {
   "cell_type": "markdown",
   "metadata": {},
   "source": [
    "## Implicit imports"
   ]
  },
  {
   "cell_type": "markdown",
   "metadata": {},
   "source": [
    "The following packages are imported implicitly in every scala program.\n",
    "\n",
    "```Scala\n",
    "import java.lang._\n",
    "import scala._\n",
    "import Predef._\n",
    "```\n",
    "\n",
    "When importing subpackages inside `scala` package, we can omit the `scala` prefix"
   ]
  },
  {
   "cell_type": "code",
   "execution_count": 11,
   "metadata": {},
   "outputs": [
    {
     "data": {
      "text/plain": [
       "\u001b[32mimport \u001b[39m\u001b[36mcollection.mutable.ListBuffer\u001b[39m"
      ]
     },
     "execution_count": 11,
     "metadata": {},
     "output_type": "execute_result"
    }
   ],
   "source": [
    "// we can import like below instead of scala.util.Random\n",
    "import collection.mutable.ListBuffer"
   ]
  }
 ],
 "metadata": {
  "kernelspec": {
   "display_name": "Scala",
   "language": "scala",
   "name": "scala"
  },
  "language_info": {
   "codemirror_mode": "text/x-scala",
   "file_extension": ".sc",
   "mimetype": "text/x-scala",
   "name": "scala",
   "nbconvert_exporter": "script",
   "version": "2.13.3"
  }
 },
 "nbformat": 4,
 "nbformat_minor": 4
}
