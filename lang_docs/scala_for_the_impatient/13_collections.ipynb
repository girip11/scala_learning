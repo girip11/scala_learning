{
 "cells": [
  {
   "cell_type": "markdown",
   "metadata": {},
   "source": [
    "# Collections in Scala"
   ]
  },
  {
   "cell_type": "markdown",
   "metadata": {},
   "source": [
    "* Iterable - collection that can yield an iterator.\n",
    "* Iterator has methods like `hasNext` and `next`"
   ]
  },
  {
   "cell_type": "markdown",
   "metadata": {},
   "source": [
    "* Seq - ordered sequence of values. Ex: Array, List\n",
    "* IndexedSeq - integer indices ex: ArrayBuffer\n",
    "* Set - collection of unique items. No duplicates.\n",
    "* Map - collection of key value pairs."
   ]
  },
  {
   "cell_type": "markdown",
   "metadata": {},
   "source": [
    "* All scala collections have companion objects with `apply` method.\n",
    "* Methods like `toSeq`, `toSet`, `toMap` are available.\n",
    "* Collections of similar kinds can be compared using `=="
   ]
  },
  {
   "cell_type": "markdown",
   "metadata": {},
   "source": [
    "## Mutable and Immutable collections"
   ]
  },
  {
   "cell_type": "code",
   "execution_count": 1,
   "metadata": {},
   "outputs": [
    {
     "data": {
      "text/plain": [
       "\u001b[32mimport \u001b[39m\u001b[36mscala.collection.immutable.{Set, Map}\n",
       "\u001b[39m\n",
       "\u001b[32mimport \u001b[39m\u001b[36mscala.collection.mutable.{\n",
       "                                Set => MutableSet,\n",
       "                                Map => MutableMap\n",
       "                                }\u001b[39m"
      ]
     },
     "execution_count": 1,
     "metadata": {},
     "output_type": "execute_result"
    }
   ],
   "source": [
    "// scala.collection.Map is the supertype of mutable and immutable Map\n",
    "import scala.collection.immutable.{Set, Map}\n",
    "import scala.collection.mutable.{\n",
    "                                Set => MutableSet,\n",
    "                                Map => MutableMap\n",
    "                                }"
   ]
  },
  {
   "cell_type": "markdown",
   "metadata": {},
   "source": [
    "* In Scala, apply methods of companion objects return immutable collections by\n",
    "default."
   ]
  },
  {
   "cell_type": "markdown",
   "metadata": {},
   "source": [
    "## Sequences"
   ]
  },
  {
   "cell_type": "markdown",
   "metadata": {},
   "source": [
    "Hierarchy for immutable sequences\n",
    "\n",
    "* Seq is the supertype. It has IndexedSeq trait, then List, Stream, Stack, Queue.\n",
    "* Vector and Range are IndexedSeq\n",
    "\n",
    "\n",
    "Hierarchy for mutable sequences\n",
    "* Seq is the super type. contains IndexedSeq, Stack, Queue,\n",
    "ListBuffer, PriorityQueue.\n",
    "* IndexedSeq is the supertype of ArrayBuffer.\n",
    "\n",
    "Vector provides extremely fast random access."
   ]
  },
  {
   "cell_type": "markdown",
   "metadata": {},
   "source": [
    "## Lists"
   ]
  },
  {
   "cell_type": "markdown",
   "metadata": {},
   "source": [
    "* Nil is empty List. List has head and tail fields.\n",
    "* we can create lists using `::` class"
   ]
  },
  {
   "cell_type": "code",
   "execution_count": 4,
   "metadata": {},
   "outputs": [
    {
     "name": "stdout",
     "output_type": "stream",
     "text": [
      "1\n"
     ]
    },
    {
     "data": {
      "text/plain": [
       "\u001b[36mlist\u001b[39m: \u001b[32mList\u001b[39m[\u001b[32mInt\u001b[39m] = \u001b[33mList\u001b[39m(\u001b[32m1\u001b[39m)"
      ]
     },
     "execution_count": 4,
     "metadata": {},
     "output_type": "execute_result"
    }
   ],
   "source": [
    "// :: is a case class. So we can write case classese with\n",
    "// two parameters using infix notation\n",
    "// 1 :: Nil becomes ::(1, Nil)\n",
    "val list = 1 :: Nil\n",
    "for (i <- list)\n",
    "    println(i)"
   ]
  },
  {
   "cell_type": "code",
   "execution_count": 7,
   "metadata": {},
   "outputs": [
    {
     "name": "stdout",
     "output_type": "stream",
     "text": [
      "1\n",
      "2\n",
      "3\n",
      "4\n",
      "5\n"
     ]
    },
    {
     "data": {
      "text/plain": [
       "\u001b[32mimport \u001b[39m\u001b[36mscala.annotation.tailrec\n",
       "\n",
       "\u001b[39m\n",
       "defined \u001b[32mfunction\u001b[39m \u001b[36mprintList\u001b[39m"
      ]
     },
     "execution_count": 7,
     "metadata": {},
     "output_type": "execute_result"
    }
   ],
   "source": [
    "import scala.annotation.tailrec\n",
    "\n",
    "@tailrec\n",
    "//tail is either a list or Nil\n",
    "def printList(list: List[Int]): Unit = {\n",
    "    if (list != Nil) {\n",
    "        println(list.head)\n",
    "        printList(list.tail)\n",
    "    }\n",
    "}\n",
    "\n",
    "printList(List((1 to 5): _*))"
   ]
  },
  {
   "cell_type": "code",
   "execution_count": 11,
   "metadata": {},
   "outputs": [
    {
     "name": "stdout",
     "output_type": "stream",
     "text": [
      "1\n",
      "2\n",
      "3\n",
      "4\n",
      "5\n"
     ]
    },
    {
     "data": {
      "text/plain": [
       "defined \u001b[32mfunction\u001b[39m \u001b[36mprintListUsingPatternMatch\u001b[39m"
      ]
     },
     "execution_count": 11,
     "metadata": {},
     "output_type": "execute_result"
    }
   ],
   "source": [
    "def printListUsingPatternMatch(list: List[Int]): Unit = {\n",
    "    list match {\n",
    "        case Nil => ()\n",
    "        case head :: tail => {\n",
    "            println(head)\n",
    "            printListUsingPatternMatch(tail)\n",
    "        }\n",
    "    }\n",
    "}\n",
    "\n",
    "printListUsingPatternMatch(List((1 to 5): _*))"
   ]
  },
  {
   "cell_type": "markdown",
   "metadata": {},
   "source": [
    "## Sets"
   ]
  },
  {
   "cell_type": "markdown",
   "metadata": {},
   "source": [
    "* Set contains distinct elements only\n",
    "* Set by default is unordered. SortedSet contains elements in\n",
    "order and LinkedHashSet retains the order in which the\n",
    "items were added to the Set. These are available under \n",
    "`collection.mutable` package.\n",
    "\n",
    "* BitSet for small set containing only nonnegative integers."
   ]
  },
  {
   "cell_type": "markdown",
   "metadata": {},
   "source": [
    "Useful methods on set are\n",
    "* contains\n",
    "* subsetOf\n",
    "* union or `|` or `++`\n",
    "* intersect or `&`\n",
    "* diff or `--`"
   ]
  },
  {
   "cell_type": "markdown",
   "metadata": {},
   "source": [
    "Operations on immutable collections\n",
    "\n",
    "* `+` - add to unordered collection\n",
    "\n",
    "Ordered collection addition\n",
    "* `+:` - add to beginning (+ at the start means at start)\n",
    "* `:+` - adds to the end\n",
    "\n",
    "* `-` to remove the element\n",
    "* `++`, `--` for bulk addition and removal"
   ]
  },
  {
   "cell_type": "markdown",
   "metadata": {},
   "source": [
    "Operations on mutable collections\n",
    "* `+=` - adds element to the collection\n",
    "* `++=` and `--=` - bulk addition and removal"
   ]
  },
  {
   "cell_type": "markdown",
   "metadata": {},
   "source": [
    "## Important operations"
   ]
  },
  {
   "cell_type": "markdown",
   "metadata": {},
   "source": [
    "* map - 1 to 1 transformation\n",
    "* transform - inplace equivalent that can be used on mutable collections\n",
    "* flatmap - 1 to many transformation followed by flattening\n",
    "* filter - prune collection\n",
    "* foreach - iterate through each item in the collection \n",
    "* groupBy -key to collection of grouped elements\n",
    "* zip - collections to collection of pairs.\n",
    "* zipAll\n",
    "* zipWithIndex - like enumerate in Python, elements with their index.\n",
    "* sum, min, max, count"
   ]
  },
  {
   "cell_type": "markdown",
   "metadata": {},
   "source": [
    "* reduceLeft, reduceRight\n",
    "* foldLeft, foldRight - offers initial value to be passed.\n",
    "* scanLeft, scanRight - combines folding and mapping."
   ]
  },
  {
   "cell_type": "code",
   "execution_count": 12,
   "metadata": {},
   "outputs": [
    {
     "data": {
      "text/plain": [
       "\u001b[36mres11\u001b[39m: \u001b[32mIndexedSeq\u001b[39m[\u001b[32mInt\u001b[39m] = \u001b[33mVector\u001b[39m(\u001b[32m0\u001b[39m, \u001b[32m1\u001b[39m, \u001b[32m3\u001b[39m, \u001b[32m6\u001b[39m, \u001b[32m10\u001b[39m, \u001b[32m15\u001b[39m, \u001b[32m21\u001b[39m, \u001b[32m28\u001b[39m, \u001b[32m36\u001b[39m, \u001b[32m45\u001b[39m, \u001b[32m55\u001b[39m)"
      ]
     },
     "execution_count": 12,
     "metadata": {},
     "output_type": "execute_result"
    }
   ],
   "source": [
    "// returns all the intermediate results\n",
    "// inaddition to folding\n",
    "(1 to 10).scanLeft(0)(_ + _)"
   ]
  },
  {
   "cell_type": "markdown",
   "metadata": {},
   "source": [
    "## Iterators"
   ]
  },
  {
   "cell_type": "markdown",
   "metadata": {},
   "source": [
    "* Calling `.iterator` on any collection returns an iterator that can\n",
    "be iterated exactly once.\n",
    "\n",
    "* Iterators can be used with for loop or can use methods like map, filter etc."
   ]
  },
  {
   "cell_type": "markdown",
   "metadata": {},
   "source": [
    "## Streams"
   ]
  },
  {
   "cell_type": "markdown",
   "metadata": {},
   "source": [
    "* Each call to Iterator changes its state internally. Streams offer immutable\n",
    "alternative.\n",
    "* Streams offer lazy tail evaluation.\n",
    "* We can convert iterator to Stream using iterator's `toStream`\n",
    "method."
   ]
  },
  {
   "cell_type": "code",
   "execution_count": 19,
   "metadata": {},
   "outputs": [
    {
     "data": {
      "text/plain": [
       "\u001b[32mimport \u001b[39m\u001b[36mscala.collection.immutable.Stream\n",
       "\n",
       "\u001b[39m\n",
       "defined \u001b[32mfunction\u001b[39m \u001b[36mgetIntegers\u001b[39m"
      ]
     },
     "execution_count": 19,
     "metadata": {},
     "output_type": "execute_result"
    }
   ],
   "source": [
    "import scala.collection.immutable.Stream\n",
    "\n",
    "def getIntegers(min: Int, max: Int): Stream[Int] = {\n",
    "    if(min > max)\n",
    "        Stream.empty[Int]\n",
    "    else\n",
    "        min #:: getIntegers(min + 1, max)\n",
    "}"
   ]
  },
  {
   "cell_type": "code",
   "execution_count": 24,
   "metadata": {},
   "outputs": [
    {
     "name": "stdout",
     "output_type": "stream",
     "text": [
      "Stream(10, <not computed>)\n"
     ]
    },
    {
     "data": {
      "text/plain": [
       "\u001b[36mintStream\u001b[39m: \u001b[32mStream\u001b[39m[\u001b[32mInt\u001b[39m] = \u001b[33mStream\u001b[39m(\n",
       "  \u001b[32m10\u001b[39m,\n",
       "  \u001b[32m11\u001b[39m,\n",
       "  \u001b[32m12\u001b[39m,\n",
       "  \u001b[32m13\u001b[39m,\n",
       "  \u001b[32m14\u001b[39m,\n",
       "  \u001b[32m15\u001b[39m,\n",
       "  \u001b[32m16\u001b[39m,\n",
       "  \u001b[32m17\u001b[39m,\n",
       "  \u001b[32m18\u001b[39m,\n",
       "  \u001b[32m19\u001b[39m,\n",
       "  \u001b[32m20\u001b[39m,\n",
       "  \u001b[32m21\u001b[39m,\n",
       "  \u001b[32m22\u001b[39m,\n",
       "  \u001b[32m23\u001b[39m,\n",
       "  \u001b[32m24\u001b[39m,\n",
       "  \u001b[32m25\u001b[39m,\n",
       "  \u001b[32m26\u001b[39m,\n",
       "  \u001b[32m27\u001b[39m,\n",
       "  \u001b[32m28\u001b[39m,\n",
       "  \u001b[32m29\u001b[39m,\n",
       "  \u001b[32m30\u001b[39m,\n",
       "  \u001b[32m31\u001b[39m,\n",
       "  \u001b[32m32\u001b[39m,\n",
       "  \u001b[32m33\u001b[39m,\n",
       "  \u001b[32m34\u001b[39m,\n",
       "  \u001b[32m35\u001b[39m,\n",
       "  \u001b[32m36\u001b[39m,\n",
       "  \u001b[32m37\u001b[39m,\n",
       "  \u001b[32m38\u001b[39m,\n",
       "  \u001b[32m39\u001b[39m,\n",
       "  \u001b[32m40\u001b[39m,\n",
       "  \u001b[32m41\u001b[39m,\n",
       "  \u001b[32m42\u001b[39m,\n",
       "  \u001b[32m43\u001b[39m,\n",
       "  \u001b[32m44\u001b[39m,\n",
       "  \u001b[32m45\u001b[39m,\n",
       "  \u001b[32m46\u001b[39m,\n",
       "  \u001b[32m47\u001b[39m,\n",
       "..."
      ]
     },
     "execution_count": 24,
     "metadata": {},
     "output_type": "execute_result"
    }
   ],
   "source": [
    "val intStream = getIntegers(10, 10000)\n",
    "// notice the stream's tail is lazily computed\n",
    "println(intStream)"
   ]
  },
  {
   "cell_type": "code",
   "execution_count": 25,
   "metadata": {},
   "outputs": [
    {
     "name": "stdout",
     "output_type": "stream",
     "text": [
      "Stream(10, <not computed>)\n",
      "Stream(10, 11, 12, 13, 14, 15, 16, 17, 18, 19)\n"
     ]
    },
    {
     "data": {
      "text/plain": [
       "\u001b[36mintStreamPart\u001b[39m: \u001b[32mStream\u001b[39m[\u001b[32mInt\u001b[39m] = \u001b[33mStream\u001b[39m(\u001b[32m10\u001b[39m, \u001b[32m11\u001b[39m, \u001b[32m12\u001b[39m, \u001b[32m13\u001b[39m, \u001b[32m14\u001b[39m, \u001b[32m15\u001b[39m, \u001b[32m16\u001b[39m, \u001b[32m17\u001b[39m, \u001b[32m18\u001b[39m, \u001b[32m19\u001b[39m)\n",
       "\u001b[36mres24_2\u001b[39m: \u001b[32mStream\u001b[39m[\u001b[32mInt\u001b[39m] = \u001b[33mStream\u001b[39m(\u001b[32m10\u001b[39m, \u001b[32m11\u001b[39m, \u001b[32m12\u001b[39m, \u001b[32m13\u001b[39m, \u001b[32m14\u001b[39m, \u001b[32m15\u001b[39m, \u001b[32m16\u001b[39m, \u001b[32m17\u001b[39m, \u001b[32m18\u001b[39m, \u001b[32m19\u001b[39m)"
      ]
     },
     "execution_count": 25,
     "metadata": {},
     "output_type": "execute_result"
    }
   ],
   "source": [
    "// get a subset of a stream\n",
    "// take returns a stream\n",
    "// to materialize the stream we need to call force method\n",
    "val intStreamPart = intStream.take(10)\n",
    "println(intStreamPart)\n",
    "\n",
    "intStreamPart.force\n",
    "println(intStreamPart) // materialized"
   ]
  },
  {
   "cell_type": "code",
   "execution_count": 26,
   "metadata": {},
   "outputs": [
    {
     "name": "stdout",
     "output_type": "stream",
     "text": [
      "Stream(10, 11, 12, 13, 14, 15, 16, 17, 18, 19, 20, 21, 22, 23, 24, 25, 26, 27, 28, 29, 30, 31, 32, 33, 34, 35, 36, 37, 38, 39, 40, 41, 42, 43, 44, 45, 46, 47, 48, 49, 50, 51, 52, 53, 54, 55, 56, 57, 58, 59, 60, 61, 62, 63, 64, 65, 66, 67, 68, 69, 70, 71, 72, 73, 74, 75, 76, 77, 78, 79, 80, 81, 82, 83, 84, 85, 86, 87, 88, 89, 90, 91, 92, 93, 94, 95, 96, 97, 98, 99, 100, 101, 102, 103, 104, 105, 106, 107, 108, 109, 110, <not computed>)\n"
     ]
    }
   ],
   "source": [
    "// here we iteratre over the stream\n",
    "for (i <- 1 to 100) {\n",
    "    intStream(i)\n",
    "}\n",
    "\n",
    "for (i <- 1 to 100) {\n",
    "    intStream(i)\n",
    "}\n",
    "\n",
    "\n",
    "// Once a part of the stream is computed, it is stored\n",
    "// its not recomputed.\n",
    "println(intStream)"
   ]
  },
  {
   "cell_type": "markdown",
   "metadata": {},
   "source": [
    "## Lazy views"
   ]
  },
  {
   "cell_type": "markdown",
   "metadata": {},
   "source": [
    "* Lazy views are equivalent to Streams in Java 8.\n",
    "* Calling `view` method on the collections returns a lazy view.\n",
    "* No elements are precomputed in the lazy view. Save CPU and memory.(kind of similar to generators in Python)\n",
    "* Lazy views do not cache values. Every time the computation starts over.\n",
    "* To convert a view to a concrete collection we need to use `.to` method on\n",
    "the view.\n",
    "* Never call `force` on a lazy view particularly when the view is backed up by a very large collection. It defeats the whole purpose of using the view."
   ]
  },
  {
   "cell_type": "code",
   "execution_count": 27,
   "metadata": {},
   "outputs": [
    {
     "name": "stdout",
     "output_type": "stream",
     "text": [
      "View(<not computed>)\n"
     ]
    },
    {
     "data": {
      "text/plain": [
       "\u001b[36mlazyViewColl\u001b[39m: \u001b[32mcollection\u001b[39m.\u001b[32mView\u001b[39m[\u001b[32mInt\u001b[39m] = \u001b[33mView\u001b[39m(\n",
       "  \u001b[32m1\u001b[39m,\n",
       "  \u001b[32m9\u001b[39m,\n",
       "  \u001b[32m25\u001b[39m,\n",
       "  \u001b[32m49\u001b[39m,\n",
       "  \u001b[32m81\u001b[39m,\n",
       "  \u001b[32m121\u001b[39m,\n",
       "  \u001b[32m169\u001b[39m,\n",
       "  \u001b[32m225\u001b[39m,\n",
       "  \u001b[32m289\u001b[39m,\n",
       "  \u001b[32m361\u001b[39m,\n",
       "  \u001b[32m441\u001b[39m,\n",
       "  \u001b[32m529\u001b[39m,\n",
       "  \u001b[32m625\u001b[39m,\n",
       "  \u001b[32m729\u001b[39m,\n",
       "  \u001b[32m841\u001b[39m,\n",
       "  \u001b[32m961\u001b[39m,\n",
       "  \u001b[32m1089\u001b[39m,\n",
       "  \u001b[32m1225\u001b[39m,\n",
       "  \u001b[32m1369\u001b[39m,\n",
       "  \u001b[32m1521\u001b[39m,\n",
       "  \u001b[32m1681\u001b[39m,\n",
       "  \u001b[32m1849\u001b[39m,\n",
       "  \u001b[32m2025\u001b[39m,\n",
       "  \u001b[32m2209\u001b[39m,\n",
       "  \u001b[32m2401\u001b[39m,\n",
       "  \u001b[32m2601\u001b[39m,\n",
       "  \u001b[32m2809\u001b[39m,\n",
       "  \u001b[32m3025\u001b[39m,\n",
       "  \u001b[32m3249\u001b[39m,\n",
       "  \u001b[32m3481\u001b[39m,\n",
       "  \u001b[32m3721\u001b[39m,\n",
       "  \u001b[32m3969\u001b[39m,\n",
       "  \u001b[32m4225\u001b[39m,\n",
       "  \u001b[32m4489\u001b[39m,\n",
       "  \u001b[32m4761\u001b[39m,\n",
       "  \u001b[32m5041\u001b[39m,\n",
       "  \u001b[32m5329\u001b[39m,\n",
       "  \u001b[32m5625\u001b[39m,\n",
       "..."
      ]
     },
     "execution_count": 27,
     "metadata": {},
     "output_type": "execute_result"
    }
   ],
   "source": [
    "// Here the RangeVector(1 to 10000) is the underlying collection\n",
    "// and view is a lazy iterator over the underlying\n",
    "// collection\n",
    "// NOTE: Any transformation like map, filter etc also return a view\n",
    "// Hence those operations are invoked only when an action is encountered\n",
    "// like mkString, force, to etc\n",
    "val lazyViewColl = (1 to 10000).view\n",
    ".map(x => x * x)\n",
    ".filter(_ % 2 == 1)\n",
    "// notice even the first element is not computed\n",
    "println(lazyViewColl)"
   ]
  },
  {
   "cell_type": "code",
   "execution_count": 31,
   "metadata": {},
   "outputs": [
    {
     "name": "stdout",
     "output_type": "stream",
     "text": [
      "View(<not computed>)\n",
      "1_9_25_49_81_121_169_225_289_361\n",
      "View(<not computed>)\n",
      "1_9_25_49_81_121_169_225_289_361\n"
     ]
    },
    {
     "data": {
      "text/plain": [
       "\u001b[36mlazyViewSubset\u001b[39m: \u001b[32mcollection\u001b[39m.\u001b[32mView\u001b[39m[\u001b[32mInt\u001b[39m] = \u001b[33mView\u001b[39m(\n",
       "  \u001b[32m1\u001b[39m,\n",
       "  \u001b[32m9\u001b[39m,\n",
       "  \u001b[32m25\u001b[39m,\n",
       "  \u001b[32m49\u001b[39m,\n",
       "  \u001b[32m81\u001b[39m,\n",
       "  \u001b[32m121\u001b[39m,\n",
       "  \u001b[32m169\u001b[39m,\n",
       "  \u001b[32m225\u001b[39m,\n",
       "  \u001b[32m289\u001b[39m,\n",
       "  \u001b[32m361\u001b[39m\n",
       ")"
      ]
     },
     "execution_count": 31,
     "metadata": {},
     "output_type": "execute_result"
    }
   ],
   "source": [
    "val lazyViewSubset = lazyViewColl.take(10)\n",
    "println(lazyViewSubset)\n",
    "\n",
    "// actions like mkString causes the lazy view to materialize\n",
    "println(lazyViewSubset.mkString(\"_\"))\n",
    "\n",
    "// values are not cached\n",
    "println(lazyViewSubset)\n",
    "\n",
    "// computation starts over\n",
    "println(lazyViewSubset.mkString(\"_\"))"
   ]
  },
  {
   "cell_type": "code",
   "execution_count": 32,
   "metadata": {},
   "outputs": [
    {
     "name": "stdout",
     "output_type": "stream",
     "text": [
      "Vector(1, 9, 25, 49, 81, 121, 169, 225, 289, 361)\n",
      "View(<not computed>)\n"
     ]
    }
   ],
   "source": [
    "// force is an action to materialize the view\n",
    "// force returns materialized view\n",
    "println(lazyViewSubset.force)\n",
    "\n",
    "// but views dont cache value, so this prints not-computed\n",
    "println(lazyViewSubset)"
   ]
  },
  {
   "cell_type": "markdown",
   "metadata": {},
   "source": [
    "## Java Interoperability"
   ]
  },
  {
   "cell_type": "markdown",
   "metadata": {},
   "source": [
    "* `import scala.jdk.CollectionConverters._` and call `asScala`\n",
    "and `asJava` to convert java to scala and scala to java."
   ]
  },
  {
   "cell_type": "markdown",
   "metadata": {},
   "source": [
    "## Parallel collections"
   ]
  },
  {
   "cell_type": "markdown",
   "metadata": {},
   "source": [
    "* From 2.13 onwards, parallel collections have been moved out of\n",
    "scala standard library.\n",
    "\n",
    "* To depend on scala-parallel-collections in sbt, \n",
    "add this to your **build.sbt**\n",
    "```Scala\n",
    "libraryDependencies +=\n",
    "  \"org.scala-lang.modules\" %% \"scala-parallel-collections\" % \"1.0.1\"\n",
    "```\n",
    "\n",
    "* Parallelize computation on large collections.\n",
    "\n",
    "* Parallel collections extend `ParSeq`, `ParSet` and `ParMap` traits\n",
    "\n",
    "* [Parallel collections](https://alvinalexander.com/scala/how-to-use-parallel-collections-in-scala-performance/) are explained in this tutorial.\n",
    "\n",
    "* [Parallel collections in Scala 2.13](http://allaboutscala.com/tutorials/chapter-8-beginner-tutorial-using-scala-collection-functions/par-function-2-13/)"
   ]
  },
  {
   "cell_type": "code",
   "execution_count": 13,
   "metadata": {},
   "outputs": [
    {
     "name": "stderr",
     "output_type": "stream",
     "text": [
      "Downloading https://repo1.maven.org/maven2/org/scala-lang/modules/scala-parallel-collections_2.13/1.0.1/scala-parallel-collections_2.13-1.0.1.pom\n",
      "Downloaded https://repo1.maven.org/maven2/org/scala-lang/modules/scala-parallel-collections_2.13/1.0.1/scala-parallel-collections_2.13-1.0.1.pom\n",
      "Downloading https://repo1.maven.org/maven2/org/scala-lang/modules/scala-parallel-collections_2.13/1.0.1/scala-parallel-collections_2.13-1.0.1-sources.jar\n",
      "Downloading https://repo1.maven.org/maven2/org/scala-lang/modules/scala-parallel-collections_2.13/1.0.1/scala-parallel-collections_2.13-1.0.1.jar\n",
      "Downloaded https://repo1.maven.org/maven2/org/scala-lang/modules/scala-parallel-collections_2.13/1.0.1/scala-parallel-collections_2.13-1.0.1-sources.jar\n",
      "Downloaded https://repo1.maven.org/maven2/org/scala-lang/modules/scala-parallel-collections_2.13/1.0.1/scala-parallel-collections_2.13-1.0.1.jar\n"
     ]
    },
    {
     "data": {
      "text/plain": [
       "\u001b[32mimport \u001b[39m\u001b[36m$ivy.$                                                         \n",
       "\u001b[39m\n",
       "\u001b[32mimport \u001b[39m\u001b[36mscala.collection.parallel.CollectionConverters._\n",
       "\n",
       "\u001b[39m\n",
       "\u001b[36mtotal\u001b[39m: \u001b[32mInt\u001b[39m = \u001b[32m50005000\u001b[39m"
      ]
     },
     "execution_count": 13,
     "metadata": {},
     "output_type": "execute_result"
    }
   ],
   "source": [
    "//adds the maven dependency\n",
    "import $ivy.`org.scala-lang.modules::scala-parallel-collections:1.0.1`\n",
    "\n",
    "// We should import this to access par attribute on collections\n",
    "import scala.collection.parallel.CollectionConverters._\n",
    "\n",
    "val total = (1 to 10000).par.sum"
   ]
  },
  {
   "cell_type": "code",
   "execution_count": 15,
   "metadata": {},
   "outputs": [
    {
     "name": "stdout",
     "output_type": "stream",
     "text": [
      "1\n",
      "2\n",
      "6\n",
      "4\n",
      "5\n",
      "3\n",
      "7\n",
      "8\n",
      "9\n",
      "10\n"
     ]
    }
   ],
   "source": [
    "// parallelize for loop\n",
    "for (i <- (1 to 10).par)\n",
    "    println(i)"
   ]
  },
  {
   "cell_type": "code",
   "execution_count": 17,
   "metadata": {},
   "outputs": [
    {
     "data": {
      "text/plain": [
       "\u001b[36mres16\u001b[39m: \u001b[32mSet\u001b[39m[\u001b[32mChar\u001b[39m] = \u001b[33mSet\u001b[39m(\u001b[32m'H'\u001b[39m, \u001b[32m'e'\u001b[39m, \u001b[32m'l'\u001b[39m, \u001b[32m'o'\u001b[39m)"
      ]
     },
     "execution_count": 17,
     "metadata": {},
     "output_type": "execute_result"
    }
   ],
   "source": [
    "// first part contains function to process two inputs\n",
    "// next function specifies the logic to combine the results\n",
    "// In order to parallelize operation using aggregate, the operation needs to be associative\n",
    "\"Hello\".toSeq.par.aggregate(Set[Char]())(\n",
    "                                    // here we add the character to the set\n",
    "                                    _ + _,\n",
    "                                    // here we specify the logic to combine two sets\n",
    "                                   _ ++ _)"
   ]
  }
 ],
 "metadata": {
  "kernelspec": {
   "display_name": "Scala",
   "language": "scala",
   "name": "scala"
  },
  "language_info": {
   "codemirror_mode": "text/x-scala",
   "file_extension": ".sc",
   "mimetype": "text/x-scala",
   "name": "scala",
   "nbconvert_exporter": "script",
   "version": "2.13.3"
  }
 },
 "nbformat": 4,
 "nbformat_minor": 4
}
