{
 "cells": [
  {
   "cell_type": "markdown",
   "metadata": {},
   "source": [
    "# Pattern matching in Scala"
   ]
  },
  {
   "cell_type": "markdown",
   "metadata": {},
   "source": [
    "## `match` expression"
   ]
  },
  {
   "cell_type": "markdown",
   "metadata": {},
   "source": [
    "* `match` expression can be used like switch statement in C.\n",
    "* `match` does not require `break` statement like in C\n",
    "(no flow through after first match)\n",
    "* `match` is an expression that returns the value of the matching\n",
    "case statement.\n",
    "* We can use `|` to match multiple values in case condition\n",
    "* We can use variables in case statement. \n",
    "* case statements can have if guards\n",
    "* case statements can match based on variable types."
   ]
  },
  {
   "cell_type": "code",
   "execution_count": 2,
   "metadata": {},
   "outputs": [
    {
     "name": "stdout",
     "output_type": "stream",
     "text": [
      "Enter a arithmetic operator\n",
      "+\n",
      "+, 2\n"
     ]
    },
    {
     "data": {
      "text/plain": [
       "\u001b[36mch\u001b[39m: \u001b[32mChar\u001b[39m = \u001b[32m'+'\u001b[39m\n",
       "\u001b[36mprecedence\u001b[39m: \u001b[32mInt\u001b[39m = \u001b[32m2\u001b[39m"
      ]
     },
     "execution_count": 2,
     "metadata": {},
     "output_type": "execute_result"
    }
   ],
   "source": [
    "println(\"Enter a arithmetic operator\")\n",
    "val ch = scala.io.StdIn.readChar()\n",
    "\n",
    "val precedence = ch match {\n",
    "    case '+' | '-' => 2\n",
    "    case '*' | '/' | '%' => 1\n",
    "    // _ can be used like a wild card\n",
    "    case _ => 3\n",
    "}\n",
    "\n",
    "println(s\"$ch, $precedence\")"
   ]
  },
  {
   "cell_type": "code",
   "execution_count": 3,
   "metadata": {},
   "outputs": [
    {
     "name": "stdout",
     "output_type": "stream",
     "text": [
      "apple\n",
      "10\n",
      "100.0\n",
      "true\n"
     ]
    },
    {
     "data": {
      "text/plain": [
       "\u001b[36mbag\u001b[39m: \u001b[32mList\u001b[39m[\u001b[32mAny\u001b[39m] = \u001b[33mList\u001b[39m(\u001b[32m\"apple\"\u001b[39m, \u001b[32m10\u001b[39m, \u001b[32m100.0\u001b[39m, true)"
      ]
     },
     "execution_count": 3,
     "metadata": {},
     "output_type": "execute_result"
    }
   ],
   "source": [
    "// match using variable types\n",
    "val bag: List[Any] = List[Any](\"apple\", 10, 100.0, true)\n",
    "\n",
    "for (item <- bag) {\n",
    "    item match {\n",
    "        // match using variable and their types\n",
    "        case fruit: String => println(fruit)\n",
    "        // use if guards\n",
    "        case quantity: Int if quantity > 0 => println(quantity)\n",
    "        case price: Double => println(price)\n",
    "        case stockAvailable: Boolean => println(stockAvailable)\n",
    "        \n",
    "        // wildcard can be any variable name or underscore\n",
    "        // * use underscore when  you dont want to use the name\n",
    "        // in the case expression\n",
    "        // * use a variable with a name when you want to do something\n",
    "        // with the name inside the case expression.\n",
    "        case _ => ()\n",
    "    }\n",
    "}\n"
   ]
  },
  {
   "cell_type": "markdown",
   "metadata": {},
   "source": [
    "**NOTE**: Variable names used in case statement should always follow lower camel case.\n",
    "If we use PascalCase, then scala treats those identifiers as constants."
   ]
  },
  {
   "cell_type": "markdown",
   "metadata": {},
   "source": [
    "**NOTE**: If case statement's variable name has collision with\n",
    "names from the import statement, enclose the variable name of the\n",
    "case statement in back ticks."
   ]
  },
  {
   "cell_type": "markdown",
   "metadata": {},
   "source": [
    "**NOTE**: Whenever possible use pattern matching to decide variable\n",
    "type instead of using `isInstanceOf` multiple times.\n",
    "\n",
    "* We cannot use generic types in case like `case x: List[String]` due\n",
    "to type erasure done when compiling to JVM bytecode."
   ]
  },
  {
   "cell_type": "markdown",
   "metadata": {},
   "source": [
    "**NOTE**: If a pattern has alternatives using `|`, then pattern expressions\n",
    "cannot use any other variable other than underscore. Ex: `(0, _) | (_, 0)`"
   ]
  },
  {
   "cell_type": "markdown",
   "metadata": {},
   "source": [
    "## Matching collections"
   ]
  },
  {
   "cell_type": "code",
   "execution_count": 7,
   "metadata": {},
   "outputs": [
    {
     "name": "stdout",
     "output_type": "stream",
     "text": [
      "(0,1)\n"
     ]
    },
    {
     "data": {
      "text/plain": [
       "\u001b[36marr\u001b[39m: \u001b[32mArray\u001b[39m[\u001b[32mInt\u001b[39m] = \u001b[33mArray\u001b[39m(\u001b[32m0\u001b[39m, \u001b[32m1\u001b[39m)"
      ]
     },
     "execution_count": 7,
     "metadata": {},
     "output_type": "execute_result"
    }
   ],
   "source": [
    "// arrays\n",
    "val arr = Array(0, 1)\n",
    "\n",
    "// we can use extractors in case patterns\n",
    "arr match {\n",
    "    // match array of required length\n",
    "    case Array(x, y) => println(x, y)\n",
    "    \n",
    "    // match by array content at position\n",
    "    case Array(0, _) | Array(_, 0) => println(\"Array starts or ends with 0\")\n",
    "    \n",
    "    // match array of any length\n",
    "    case Array(1, rest @ _*) => println(\"Array starts with 1\")\n",
    "    case _ => println(\"not of interest\")\n",
    "}"
   ]
  },
  {
   "cell_type": "code",
   "execution_count": 9,
   "metadata": {},
   "outputs": [
    {
     "name": "stdout",
     "output_type": "stream",
     "text": [
      "(192.168.1.1,192.168.1.2)\n"
     ]
    },
    {
     "data": {
      "text/plain": [
       "\u001b[36mtcp_tuple\u001b[39m: (\u001b[32mString\u001b[39m, \u001b[32mString\u001b[39m, \u001b[32mInt\u001b[39m, \u001b[32mInt\u001b[39m, \u001b[32mChar\u001b[39m) = (\n",
       "  \u001b[32m\"192.168.1.1\"\u001b[39m,\n",
       "  \u001b[32m\"192.168.1.2\"\u001b[39m,\n",
       "  \u001b[32m45500\u001b[39m,\n",
       "  \u001b[32m80\u001b[39m,\n",
       "  \u001b[32m'T'\u001b[39m\n",
       ")"
      ]
     },
     "execution_count": 9,
     "metadata": {},
     "output_type": "execute_result"
    }
   ],
   "source": [
    "// tuples\n",
    "val tcp_tuple = (\"192.168.1.1\", \"192.168.1.2\", 45500, 80, 'T')\n",
    "\n",
    "// This is just to showcase the match capabilities with Tuple\n",
    "tcp_tuple match {\n",
    "    // note _* not allowed for tuples. allowed only for sequences\n",
    "    case (ip1, ip2, _, _, _) => println(ip1, ip2)\n",
    "    \n",
    "    // match by exact values\n",
    "    case(_, _, _, 80, _:Char) => println(\"communication with port 80\")\n",
    "    \n",
    "    // match by exact type\n",
    "    case x: (String, String, Int, Int, Char) => println(x)\n",
    "    //case (_:String, _:String, _:Int, _:Int, _:Char) => println(\"match\")\n",
    "}"
   ]
  },
  {
   "cell_type": "code",
   "execution_count": 13,
   "metadata": {},
   "outputs": [
    {
     "name": "stdout",
     "output_type": "stream",
     "text": [
      "(1,2)\n"
     ]
    },
    {
     "data": {
      "text/plain": [
       "\u001b[36msimpleList\u001b[39m: \u001b[32mList\u001b[39m[\u001b[32mInt\u001b[39m] = \u001b[33mList\u001b[39m(\u001b[32m1\u001b[39m, \u001b[32m2\u001b[39m, \u001b[32m3\u001b[39m, \u001b[32m4\u001b[39m, \u001b[32m5\u001b[39m)"
      ]
     },
     "execution_count": 13,
     "metadata": {},
     "output_type": "execute_result"
    }
   ],
   "source": [
    "// Lists\n",
    "val simpleList = List(1 ,2, 3, 4, 5)\n",
    "\n",
    "simpleList match {\n",
    "    case head :: tail if (tail.last > 5) => println(head, tail)\n",
    "    case first :: second :: _ :: _ :: 5 :: Nil => println(first, second)\n",
    "    case _ => ()\n",
    "}"
   ]
  },
  {
   "cell_type": "code",
   "execution_count": 14,
   "metadata": {},
   "outputs": [
    {
     "name": "stdout",
     "output_type": "stream",
     "text": [
      "(5,10)\n"
     ]
    },
    {
     "data": {
      "text/plain": [
       "\u001b[36mx\u001b[39m: \u001b[32mInt\u001b[39m = \u001b[32m5\u001b[39m\n",
       "\u001b[36my\u001b[39m: \u001b[32mInt\u001b[39m = \u001b[32m10\u001b[39m"
      ]
     },
     "execution_count": 14,
     "metadata": {},
     "output_type": "execute_result"
    }
   ],
   "source": [
    "// pattern matching in variable declarations\n",
    "val (x, y) = (5, 10)\n",
    "println(x, y)\n",
    "\n",
    "// such pattern matching is also used in for expressions"
   ]
  },
  {
   "cell_type": "markdown",
   "metadata": {},
   "source": [
    "## Case classes"
   ]
  },
  {
   "cell_type": "markdown",
   "metadata": {},
   "source": [
    "* constructor params become `val` fields of classes by default\n",
    "* Serializable\n",
    "* comes with equals, hashCode, toString, copy. apply, unapply method\n",
    "* Since unapply is already provided, they can be used in \n",
    "pattern matching"
   ]
  },
  {
   "cell_type": "markdown",
   "metadata": {},
   "source": [
    "**NOTE**:\n",
    "* It's recommended to keep all the fields as val in case classes to keep them\n",
    "immutable.\n",
    "* Do not inherit a case class from another case class. Always keep\n",
    "the base class as plain classes"
   ]
  },
  {
   "cell_type": "code",
   "execution_count": 16,
   "metadata": {},
   "outputs": [
    {
     "name": "stdout",
     "output_type": "stream",
     "text": [
      "Person(John,25)\n",
      "false\n",
      "Person named John\n",
      "Person(John,60)\n"
     ]
    },
    {
     "data": {
      "text/plain": [
       "defined \u001b[32mclass\u001b[39m \u001b[36mPerson\u001b[39m\n",
       "\u001b[36mjohn\u001b[39m: \u001b[32mPerson\u001b[39m = \u001b[33mPerson\u001b[39m(\u001b[32m\"John\"\u001b[39m, \u001b[32m25\u001b[39m)\n",
       "\u001b[36mjane\u001b[39m: \u001b[32mPerson\u001b[39m = \u001b[33mPerson\u001b[39m(\u001b[32m\"Jane\"\u001b[39m, \u001b[32m25\u001b[39m)\n",
       "\u001b[36mjohnSenior\u001b[39m: \u001b[32mPerson\u001b[39m = \u001b[33mPerson\u001b[39m(\u001b[32m\"John\"\u001b[39m, \u001b[32m60\u001b[39m)"
      ]
     },
     "execution_count": 16,
     "metadata": {},
     "output_type": "execute_result"
    }
   ],
   "source": [
    "case class Person(name: String, age: Int)\n",
    "\n",
    "// notice we need not instantiate case classes with new\n",
    "val john = Person(\"John\", 25)\n",
    "val jane = Person(\"Jane\", 25)\n",
    "\n",
    "//toString\n",
    "println(john)\n",
    "\n",
    "// equals\n",
    "println(john == jane)\n",
    "\n",
    "john match {\n",
    "    case Person(\"John\", _) => println(\"Person named John\")\n",
    "    case _ => println(\"Not named John\")\n",
    "}\n",
    "\n",
    "// using keyword parameters aka named parameters,\n",
    "// we can customize the copy.\n",
    "val johnSenior = john.copy(age=60)\n",
    "println(johnSenior)"
   ]
  },
  {
   "cell_type": "code",
   "execution_count": 16,
   "metadata": {},
   "outputs": [],
   "source": [
    "// infix notation can be used with case classes during pattern match\n",
    "// Infix notation works with any unapply method that returns a pair(2-tuple)\n",
    "// in lists where we matched head :: tail, here :: is a case class\n",
    "// Use infix notation only when case class names are operators"
   ]
  },
  {
   "cell_type": "markdown",
   "metadata": {},
   "source": [
    "* When a class is declared `sealed` all of its subclasses should reside\n",
    "in the same scala source file. Its recommended for case classes to extend\n",
    "a sealed class or trait."
   ]
  },
  {
   "cell_type": "markdown",
   "metadata": {},
   "source": [
    "## `Option` type"
   ]
  },
  {
   "cell_type": "markdown",
   "metadata": {},
   "source": [
    "* Option is a generic type that can be either Some(value) or None.\n",
    "* `isEmpty`, `isDefined`, `get` are some useful methods on options.\n",
    "* Its often recommended to treat Option as a List with either 0 or 1\n",
    "elements. Hence we could use methods like map, foreach, filter, flatMap\n",
    "for operating on Options type."
   ]
  },
  {
   "cell_type": "markdown",
   "metadata": {},
   "source": [
    "## Partial Functions"
   ]
  },
  {
   "cell_type": "markdown",
   "metadata": {},
   "source": [
    "Partial function is a block that contains a collection of \n",
    "case expressions but that does not handle all cases."
   ]
  },
  {
   "cell_type": "code",
   "execution_count": 19,
   "metadata": {},
   "outputs": [
    {
     "name": "stdout",
     "output_type": "stream",
     "text": [
      "<function1>\n"
     ]
    },
    {
     "data": {
      "text/plain": [
       "\u001b[36mpf\u001b[39m: \u001b[32mPartialFunction\u001b[39m[\u001b[32mChar\u001b[39m, \u001b[32mInt\u001b[39m] = <function1>\n",
       "\u001b[36mres18_1\u001b[39m: \u001b[32mInt\u001b[39m = \u001b[32m-1\u001b[39m\n",
       "\u001b[36mres18_2\u001b[39m: \u001b[32mBoolean\u001b[39m = false\n",
       "\u001b[36mf\u001b[39m: \u001b[32mChar\u001b[39m => \u001b[32mOption\u001b[39m[\u001b[32mInt\u001b[39m] = <function1>"
      ]
     },
     "execution_count": 19,
     "metadata": {},
     "output_type": "execute_result"
    }
   ],
   "source": [
    "val pf: PartialFunction[Char, Int] = {\n",
    "    case '+' => 1\n",
    "    case '-' => -1\n",
    "}\n",
    "// called like a function\n",
    "pf('-')\n",
    "\n",
    "// raises MatchError when input is not handled\n",
    "// we could use isDefinedAt() to check if partial function is capable of\n",
    "// handling the input\n",
    "pf.isDefinedAt('*')\n",
    "\n",
    "// partial functio to function using lift method\n",
    "// that returns Option[T]\n",
    "// any function returning Option[T] is converted to\n",
    "// partial function using Function.unlift\n",
    "val f = pf.lift\n",
    "println(f)"
   ]
  }
 ],
 "metadata": {
  "kernelspec": {
   "display_name": "Scala",
   "language": "scala",
   "name": "scala"
  },
  "language_info": {
   "codemirror_mode": "text/x-scala",
   "file_extension": ".sc",
   "mimetype": "text/x-scala",
   "name": "scala",
   "nbconvert_exporter": "script",
   "version": "2.13.3"
  }
 },
 "nbformat": 4,
 "nbformat_minor": 4
}
