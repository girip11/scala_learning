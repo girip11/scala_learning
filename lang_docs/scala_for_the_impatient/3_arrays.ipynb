{
 "cells": [
  {
   "cell_type": "markdown",
   "metadata": {},
   "source": [
    "# Working with Arrays"
   ]
  },
  {
   "cell_type": "markdown",
   "metadata": {},
   "source": [
    "## Fixed length arrays"
   ]
  },
  {
   "cell_type": "code",
   "execution_count": 1,
   "metadata": {},
   "outputs": [
    {
     "name": "stdout",
     "output_type": "stream",
     "text": [
      "10\n"
     ]
    },
    {
     "data": {
      "text/plain": [
       "\u001b[36mnums\u001b[39m: \u001b[32mArray\u001b[39m[\u001b[32mInt\u001b[39m] = \u001b[33mArray\u001b[39m(\u001b[32m0\u001b[39m, \u001b[32m0\u001b[39m, \u001b[32m0\u001b[39m, \u001b[32m0\u001b[39m, \u001b[32m0\u001b[39m, \u001b[32m0\u001b[39m, \u001b[32m0\u001b[39m, \u001b[32m0\u001b[39m, \u001b[32m0\u001b[39m, \u001b[32m0\u001b[39m)\n",
       "\u001b[36mfruits\u001b[39m: \u001b[32mArray\u001b[39m[\u001b[32mString\u001b[39m] = \u001b[33mArray\u001b[39m(\u001b[32m\"Apply\"\u001b[39m, \u001b[32m\"Watermelon\"\u001b[39m)"
      ]
     },
     "execution_count": 1,
     "metadata": {},
     "output_type": "execute_result"
    }
   ],
   "source": [
    "// we can use new to instantiate\n",
    "// here we create an array of size 10 all initialized to 0\n",
    "val nums = new Array[Int](10)\n",
    "println(nums.length)\n",
    "// we could also use the Array's apply method\n",
    "// array type is inferred implicitly\n",
    "val fruits = Array(\"Apply\", \"Watermelon\")"
   ]
  },
  {
   "cell_type": "code",
   "execution_count": 2,
   "metadata": {},
   "outputs": [],
   "source": [
    "//update existing element\n",
    "fruits(0) = \"Banana\""
   ]
  },
  {
   "cell_type": "markdown",
   "metadata": {},
   "source": [
    "## Variable length arrays"
   ]
  },
  {
   "cell_type": "code",
   "execution_count": 3,
   "metadata": {},
   "outputs": [
    {
     "name": "stdout",
     "output_type": "stream",
     "text": [
      "0\n",
      "10\n"
     ]
    },
    {
     "data": {
      "text/plain": [
       "\u001b[32mimport \u001b[39m\u001b[36mscala.collection.mutable.ArrayBuffer\n",
       "\n",
       "// expand and shrinks dynamically\n",
       "\u001b[39m\n",
       "\u001b[36mnums\u001b[39m: \u001b[32mArrayBuffer\u001b[39m[\u001b[32mInt\u001b[39m] = \u001b[33mArrayBuffer\u001b[39m(\u001b[32m1\u001b[39m, \u001b[32m2\u001b[39m, \u001b[32m3\u001b[39m, \u001b[32m4\u001b[39m, \u001b[32m5\u001b[39m, \u001b[32m6\u001b[39m, \u001b[32m7\u001b[39m, \u001b[32m8\u001b[39m, \u001b[32m9\u001b[39m, \u001b[32m10\u001b[39m)"
      ]
     },
     "execution_count": 3,
     "metadata": {},
     "output_type": "execute_result"
    }
   ],
   "source": [
    "import scala.collection.mutable.ArrayBuffer\n",
    "\n",
    "// expand and shrinks dynamically\n",
    "val nums = ArrayBuffer[Int]()\n",
    "println(nums.length)\n",
    "for (i <- 1 to 10)\n",
    "    nums += i // append operation\n",
    "println(nums.length)"
   ]
  },
  {
   "cell_type": "markdown",
   "metadata": {},
   "source": [
    "Convert Array to ArrayBuffer using `Array.toBuffer` and ArrayBuffer to Array\n",
    "using `ArrayBuffer.toArray` method"
   ]
  },
  {
   "cell_type": "markdown",
   "metadata": {},
   "source": [
    "To append single element or multiple elements at the end use `+=` and\n",
    "to append a collection use `++=`"
   ]
  },
  {
   "cell_type": "markdown",
   "metadata": {},
   "source": [
    "## Traversal"
   ]
  },
  {
   "cell_type": "code",
   "execution_count": 4,
   "metadata": {},
   "outputs": [
    {
     "name": "stdout",
     "output_type": "stream",
     "text": [
      "1\n",
      "2\n",
      "3\n",
      "4\n",
      "5\n",
      "6\n",
      "7\n",
      "8\n",
      "9\n",
      "10\n",
      "______________________\n",
      "10\n",
      "9\n",
      "8\n",
      "7\n",
      "6\n",
      "5\n",
      "4\n",
      "3\n",
      "2\n",
      "1\n",
      "10\n",
      "9\n",
      "8\n",
      "7\n",
      "6\n",
      "5\n",
      "4\n",
      "3\n",
      "2\n",
      "1\n"
     ]
    }
   ],
   "source": [
    "// USING Index\n",
    "// forward traversal\n",
    "// until excludes the last element in the range\n",
    "for (i <- 0 until nums.length by 1)\n",
    "    println(nums(i))\n",
    "println(\"______________________\")\n",
    "//backward traversal\n",
    "for (i <- nums.length - 1 until -1 by -1)\n",
    "    println(nums(i))\n",
    "// we could also use array/arrayBuffer.indices\n",
    "for (i <- nums.indices.reverse)\n",
    "    println(nums(i))"
   ]
  },
  {
   "cell_type": "code",
   "execution_count": 5,
   "metadata": {},
   "outputs": [
    {
     "name": "stdout",
     "output_type": "stream",
     "text": [
      "1\n",
      "2\n",
      "3\n",
      "4\n",
      "5\n",
      "6\n",
      "7\n",
      "8\n",
      "9\n",
      "10\n"
     ]
    }
   ],
   "source": [
    "// iterating through the collection directly\n",
    "for (i <- nums)\n",
    "    println(i)"
   ]
  },
  {
   "cell_type": "markdown",
   "metadata": {},
   "source": [
    "## Transforming arrays"
   ]
  },
  {
   "cell_type": "markdown",
   "metadata": {},
   "source": [
    "we could use the `flatMap`, `map`, `filter` methods"
   ]
  },
  {
   "cell_type": "code",
   "execution_count": 6,
   "metadata": {},
   "outputs": [
    {
     "data": {
      "text/plain": [
       "\u001b[36mres5\u001b[39m: \u001b[32mIndexedSeq\u001b[39m[\u001b[32mInt\u001b[39m] = \u001b[33mVector\u001b[39m(\u001b[32m4\u001b[39m, \u001b[32m8\u001b[39m, \u001b[32m12\u001b[39m, \u001b[32m16\u001b[39m, \u001b[32m20\u001b[39m)"
      ]
     },
     "execution_count": 6,
     "metadata": {},
     "output_type": "execute_result"
    }
   ],
   "source": [
    "// take only even numbers and double them\n",
    "(1 to 10).filter(n => n % 2 == 0).map(n => n*2) "
   ]
  },
  {
   "cell_type": "code",
   "execution_count": 7,
   "metadata": {},
   "outputs": [
    {
     "data": {
      "text/plain": [
       "\u001b[36mres6\u001b[39m: \u001b[32mIndexedSeq\u001b[39m[\u001b[32mInt\u001b[39m] = \u001b[33mVector\u001b[39m(\u001b[32m4\u001b[39m, \u001b[32m8\u001b[39m, \u001b[32m12\u001b[39m, \u001b[32m16\u001b[39m, \u001b[32m20\u001b[39m)"
      ]
     },
     "execution_count": 7,
     "metadata": {},
     "output_type": "execute_result"
    }
   ],
   "source": [
    "// Alternate way is to use for comprehension\n",
    "for (i <- 1 to 10 if i % 2 == 0) yield i * 2"
   ]
  },
  {
   "cell_type": "markdown",
   "metadata": {},
   "source": [
    "## Useful methods"
   ]
  },
  {
   "cell_type": "markdown",
   "metadata": {},
   "source": [
    "sum, max, mkString, sorted etc are commonly used methods."
   ]
  },
  {
   "cell_type": "markdown",
   "metadata": {},
   "source": [
    "## Multidimensional arrays"
   ]
  },
  {
   "cell_type": "code",
   "execution_count": 8,
   "metadata": {},
   "outputs": [
    {
     "name": "stdout",
     "output_type": "stream",
     "text": [
      "0 0 0 0 \n",
      "0 0 0 0 \n",
      "0 0 0 100 \n"
     ]
    },
    {
     "data": {
      "text/plain": [
       "\u001b[36mmatrix\u001b[39m: \u001b[32mArray\u001b[39m[\u001b[32mArray\u001b[39m[\u001b[32mInt\u001b[39m]] = \u001b[33mArray\u001b[39m(\n",
       "  \u001b[33mArray\u001b[39m(\u001b[32m0\u001b[39m, \u001b[32m0\u001b[39m, \u001b[32m0\u001b[39m, \u001b[32m0\u001b[39m),\n",
       "  \u001b[33mArray\u001b[39m(\u001b[32m0\u001b[39m, \u001b[32m0\u001b[39m, \u001b[32m0\u001b[39m, \u001b[32m0\u001b[39m),\n",
       "  \u001b[33mArray\u001b[39m(\u001b[32m0\u001b[39m, \u001b[32m0\u001b[39m, \u001b[32m0\u001b[39m, \u001b[32m100\u001b[39m)\n",
       ")"
      ]
     },
     "execution_count": 8,
     "metadata": {},
     "output_type": "execute_result"
    }
   ],
   "source": [
    "val matrix = Array.ofDim[Int](3,4)\n",
    "matrix(2)(3) = 100\n",
    "\n",
    "for {\n",
    "    row <- matrix.indices\n",
    "    col <- matrix(row).indices\n",
    "} {\n",
    "    print(s\"${matrix(row)(col)} \")\n",
    "    \n",
    "    if (col == matrix(row).length - 1)\n",
    "        println()\n",
    "}"
   ]
  },
  {
   "cell_type": "markdown",
   "metadata": {},
   "source": [
    "## Interoperating with Java Arrays"
   ]
  },
  {
   "cell_type": "code",
   "execution_count": 9,
   "metadata": {},
   "outputs": [
    {
     "name": "stdout",
     "output_type": "stream",
     "text": [
      "1\n"
     ]
    },
    {
     "data": {
      "text/plain": [
       "\u001b[32mimport \u001b[39m\u001b[36mjava.util.Arrays\n",
       "\n",
       "//Arrays.binarySearch expects Array[Object]\n",
       "\u001b[39m\n",
       "\u001b[36morangeIndex\u001b[39m: \u001b[32mInt\u001b[39m = \u001b[32m1\u001b[39m"
      ]
     },
     "execution_count": 9,
     "metadata": {},
     "output_type": "execute_result"
    }
   ],
   "source": [
    "// java array element type and scala array element type must match\n",
    "// if Java array expects Array[Object], and we have Array[String]\n",
    "// we should explicitly typecast to Array[Object] before passing to java method\n",
    "import java.util.Arrays\n",
    "\n",
    "//Arrays.binarySearch expects Array[Object]\n",
    "val orangeIndex = Arrays.binarySearch(\n",
    "    Array(\"Apple\", \"Orange\", \"Banana\").asInstanceOf[Array[Object]],\n",
    "    \"Orange\"\n",
    ")\n",
    "println(orangeIndex)"
   ]
  },
  {
   "cell_type": "code",
   "execution_count": 10,
   "metadata": {},
   "outputs": [
    {
     "data": {
      "text/plain": [
       "\u001b[32mimport \u001b[39m\u001b[36mscala.jdk.CollectionConverters._\n",
       "\n",
       "// We can perform the following conversions\n",
       "// Ref: https://docs.scala-lang.org/overviews/collections-2.13/conversions-between-java-and-scala-collections.html\n",
       "//Iterator               <=>     java.util.Iterator\n",
       "// Iterator               <=>     java.util.Enumeration\n",
       "// Iterable               <=>     java.lang.Iterable\n",
       "// Iterable               <=>     java.util.Collection\n",
       "// mutable.Buffer         <=>     java.util.List\n",
       "// mutable.Set            <=>     java.util.Set\n",
       "// mutable.Map            <=>     java.util.Map\n",
       "// mutable.ConcurrentMap  <=>     java.util.concurrent.ConcurrentMap\u001b[39m"
      ]
     },
     "execution_count": 10,
     "metadata": {},
     "output_type": "execute_result"
    }
   ],
   "source": [
    "// converting between scala and java collections\n",
    "import scala.jdk.CollectionConverters._\n",
    "\n",
    "// We can perform the following conversions\n",
    "// Ref: https://docs.scala-lang.org/overviews/collections-2.13/conversions-between-java-and-scala-collections.html\n",
    "//Iterator               <=>     java.util.Iterator\n",
    "// Iterator               <=>     java.util.Enumeration\n",
    "// Iterable               <=>     java.lang.Iterable\n",
    "// Iterable               <=>     java.util.Collection\n",
    "// mutable.Buffer         <=>     java.util.List\n",
    "// mutable.Set            <=>     java.util.Set\n",
    "// mutable.Map            <=>     java.util.Map\n",
    "// mutable.ConcurrentMap  <=>     java.util.concurrent.ConcurrentMap"
   ]
  },
  {
   "cell_type": "code",
   "execution_count": 11,
   "metadata": {},
   "outputs": [
    {
     "name": "stdout",
     "output_type": "stream",
     "text": [
      "Buffer()\n"
     ]
    },
    {
     "data": {
      "text/plain": [
       "\u001b[32mimport \u001b[39m\u001b[36mjava.util.ArrayList\n",
       "\n",
       "\u001b[39m\n",
       "\u001b[36mjlist\u001b[39m: \u001b[32mArrayList\u001b[39m[\u001b[32mInt\u001b[39m] = []\n",
       "\u001b[36mscalaBuffer\u001b[39m: \u001b[32mcollection\u001b[39m.\u001b[32mmutable\u001b[39m.\u001b[32mBuffer\u001b[39m[\u001b[32mInt\u001b[39m] = \u001b[33mBuffer\u001b[39m()"
      ]
     },
     "execution_count": 11,
     "metadata": {},
     "output_type": "execute_result"
    }
   ],
   "source": [
    "import java.util.ArrayList\n",
    "\n",
    "val jlist = new ArrayList[Int](5)\n",
    "val scalaBuffer = jlist.asScala\n",
    "println(scalaBuffer)"
   ]
  },
  {
   "cell_type": "code",
   "execution_count": 12,
   "metadata": {},
   "outputs": [
    {
     "name": "stdout",
     "output_type": "stream",
     "text": [
      "[1, 2, 3]\n"
     ]
    },
    {
     "data": {
      "text/plain": [
       "\u001b[32mimport \u001b[39m\u001b[36mscala.collection.mutable.ArrayBuffer\n",
       "\n",
       "\u001b[39m\n",
       "\u001b[36mjlist\u001b[39m: \u001b[32mjava\u001b[39m.\u001b[32mutil\u001b[39m.\u001b[32mList\u001b[39m[\u001b[32mInt\u001b[39m] = \u001b[33mMutableBufferWrapper\u001b[39m(\u001b[33mArrayBuffer\u001b[39m(\u001b[32m1\u001b[39m, \u001b[32m2\u001b[39m, \u001b[32m3\u001b[39m))"
      ]
     },
     "execution_count": 12,
     "metadata": {},
     "output_type": "execute_result"
    }
   ],
   "source": [
    "import scala.collection.mutable.ArrayBuffer\n",
    "\n",
    "val jlist = ArrayBuffer(1,2,3).asJava\n",
    "println(jlist)"
   ]
  }
 ],
 "metadata": {
  "kernelspec": {
   "display_name": "Scala",
   "language": "scala",
   "name": "scala"
  },
  "language_info": {
   "codemirror_mode": "text/x-scala",
   "file_extension": ".sc",
   "mimetype": "text/x-scala",
   "name": "scala",
   "nbconvert_exporter": "script",
   "version": "2.13.3"
  }
 },
 "nbformat": 4,
 "nbformat_minor": 4
}
