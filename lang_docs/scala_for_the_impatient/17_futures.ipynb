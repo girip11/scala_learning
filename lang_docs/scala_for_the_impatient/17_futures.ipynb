{
 "cells": [
  {
   "cell_type": "markdown",
   "metadata": {},
   "source": [
    "# Futures"
   ]
  },
  {
   "cell_type": "code",
   "execution_count": 1,
   "metadata": {},
   "outputs": [
    {
     "data": {
      "text/plain": [
       "\u001b[32mimport \u001b[39m\u001b[36mscala.concurrent.Future\n",
       "// makes the Future use a global thread pool\n",
       "\u001b[39m\n",
       "\u001b[32mimport \u001b[39m\u001b[36mscala.concurrent.ExecutionContext.Implicits.global\u001b[39m"
      ]
     },
     "execution_count": 1,
     "metadata": {},
     "output_type": "execute_result"
    }
   ],
   "source": [
    "import scala.concurrent.Future\n",
    "// makes the Future use a global thread pool\n",
    "import scala.concurrent.ExecutionContext.Implicits.global"
   ]
  },
  {
   "cell_type": "markdown",
   "metadata": {},
   "source": [
    "* Future code runs on a different thread.\n",
    "* Scala uses `ExecutionContext` trait to provide thread pool.\n",
    "* Future expects an execution context to be provided.\n",
    "* Multiple futures can execute concurrently"
   ]
  },
  {
   "cell_type": "code",
   "execution_count": 2,
   "metadata": {},
   "outputs": [
    {
     "name": "stdout",
     "output_type": "stream",
     "text": [
      "(Future(<not completed>),Future(<not completed>))\n"
     ]
    },
    {
     "data": {
      "text/html": [
       "<div class=\"jp-RenderedText\">\n",
       "<pre><code>defined <span style=\"color: rgb(0, 187, 0)\"><span class=\"ansi-green-fg\">function</span></span> <span style=\"color: rgb(0, 187, 187)\"><span class=\"ansi-cyan-fg\">getFuture</span></span>\n",
       "<span style=\"color: rgb(0, 187, 187)\"><span class=\"ansi-cyan-fg\">f1</span></span>: <span style=\"color: rgb(0, 187, 0)\"><span class=\"ansi-green-fg\">Future</span></span>[<span style=\"color: rgb(0, 187, 0)\"><span class=\"ansi-green-fg\">Int</span></span>] = <span style=\"color: rgb(0, 187, 0)\"><span class=\"ansi-green-fg\"><span style=\"color: yellow\"><span class=\"ansi-yellow-fg\">Success</span></span>(<span style=\"color: rgb(0, 187, 0)\"><span class=\"ansi-green-fg\">55</span></span>)</span></span>\n",
       "<span style=\"color: rgb(0, 187, 187)\"><span class=\"ansi-cyan-fg\">f2</span></span>: <span style=\"color: rgb(0, 187, 0)\"><span class=\"ansi-green-fg\">Future</span></span>[<span style=\"color: rgb(0, 187, 0)\"><span class=\"ansi-green-fg\">Int</span></span>] = <span style=\"color: rgb(0, 187, 0)\"><span class=\"ansi-green-fg\"><style>@keyframes fadein { from { opacity: 0; } to { opacity: 1; } }</style><span style=\"animation: fadein 2s;\"><span style=\"color: yellow\"><span class=\"ansi-yellow-fg\">Success</span></span>(<span style=\"color: rgb(0, 187, 0)\"><span class=\"ansi-green-fg\">1155</span></span>)</span></span></span></code></pre>\n",
       "</div>"
      ],
      "text/plain": [
       "defined \u001b[32mfunction\u001b[39m \u001b[36mgetFuture\u001b[39m\n",
       "\u001b[36mf1\u001b[39m: \u001b[32mFuture\u001b[39m[\u001b[32mInt\u001b[39m] = \u001b[32m\u001b[33mSuccess\u001b[39m(\u001b[32m55\u001b[39m)\u001b[39m\n",
       "\u001b[36mf2\u001b[39m: \u001b[32mFuture\u001b[39m[\u001b[32mInt\u001b[39m] = \u001b[32m\u001b[33mSuccess\u001b[39m(\u001b[32m1155\u001b[39m)\u001b[39m"
      ]
     },
     "metadata": {},
     "output_type": "display_data"
    }
   ],
   "source": [
    "// concurrent future execution\n",
    "// Notebooks could have problem in displaying the future results\n",
    "def getFuture(range: Seq[Int]): Future[Int] = \n",
    "    Future { \n",
    "        range.foldLeft(0)((s ,i) =>{\n",
    "            Thread.sleep(1000)\n",
    "            println(i)\n",
    "            s + i\n",
    "        })\n",
    "    }\n",
    "\n",
    "\n",
    "val f1 = getFuture((1 to 10))\n",
    "val f2 = getFuture((100 to 110))\n",
    "println(f1, f2)"
   ]
  },
  {
   "cell_type": "code",
   "execution_count": 3,
   "metadata": {},
   "outputs": [],
   "source": [
    "f1.foreach(println)\n",
    "f2.foreach(println)"
   ]
  },
  {
   "cell_type": "markdown",
   "metadata": {},
   "source": [
    "* Future returns a `Try` which could either be a `Success` of some\n",
    "value or `Failure` containing some exception.\n",
    "\n",
    "* Avoid updating shared objects from futures. Always compute\n",
    "the results concurrently and merge the results of all the \n",
    "futures."
   ]
  },
  {
   "cell_type": "markdown",
   "metadata": {},
   "source": [
    "## Waiting for the results"
   ]
  },
  {
   "cell_type": "code",
   "execution_count": 4,
   "metadata": {},
   "outputs": [
    {
     "name": "stdout",
     "output_type": "stream",
     "text": [
      "100\n",
      "1\n",
      "101\n",
      "2\n",
      "1\n",
      "102\n",
      "3\n",
      "2\n",
      "103\n",
      "4\n",
      "3\n",
      "104\n",
      "5\n",
      "4\n",
      "105\n",
      "6\n",
      "5\n",
      "106\n",
      "7\n",
      "6\n",
      "107\n",
      "8\n",
      "7\n",
      "108\n",
      "9\n",
      "8\n",
      "109\n",
      "10\n",
      "55\n",
      "9\n",
      "110\n",
      "1155\n",
      "10\n",
      "55\n"
     ]
    },
    {
     "data": {
      "text/html": [
       "<div class=\"jp-RenderedText\">\n",
       "<pre><code><span style=\"color: rgb(0, 187, 0)\"><span class=\"ansi-green-fg\">import </span></span><span style=\"color: rgb(0, 187, 187)\"><span class=\"ansi-cyan-fg\">scala.concurrent.Await\n",
       "</span></span>\n",
       "<span style=\"color: rgb(0, 187, 0)\"><span class=\"ansi-green-fg\">import </span></span><span style=\"color: rgb(0, 187, 187)\"><span class=\"ansi-cyan-fg\">scala.concurrent.duration._\n",
       "\n",
       "</span></span>\n",
       "<span style=\"color: rgb(0, 187, 187)\"><span class=\"ansi-cyan-fg\">sumFuture</span></span>: <span style=\"color: rgb(0, 187, 0)\"><span class=\"ansi-green-fg\">Future</span></span>[<span style=\"color: rgb(0, 187, 0)\"><span class=\"ansi-green-fg\">Int</span></span>] = <style>@keyframes fadein { from { opacity: 0; } to { opacity: 1; } }</style><span style=\"animation: fadein 2s;\"><span style=\"color: rgb(0, 187, 0)\"><span class=\"ansi-green-fg\">fe062c8f-75bf-448d-8e83-9edf5c7739d5</span></span></span>\n",
       "<span style=\"color: rgb(0, 187, 187)\"><span class=\"ansi-cyan-fg\">sum</span></span>: <span style=\"color: rgb(0, 187, 0)\"><span class=\"ansi-green-fg\">Int</span></span> = <span style=\"color: rgb(0, 187, 0)\"><span class=\"ansi-green-fg\">55</span></span></code></pre>\n",
       "</div>"
      ],
      "text/plain": [
       "\u001b[32mimport \u001b[39m\u001b[36mscala.concurrent.Await\n",
       "\u001b[39m\n",
       "\u001b[32mimport \u001b[39m\u001b[36mscala.concurrent.duration._\n",
       "\n",
       "\u001b[39m\n",
       "\u001b[36msumFuture\u001b[39m: \u001b[32mFuture\u001b[39m[\u001b[32mInt\u001b[39m] = \u001b[32mfe062c8f-75bf-448d-8e83-9edf5c7739d5\u001b[39m\n",
       "\u001b[36msum\u001b[39m: \u001b[32mInt\u001b[39m = \u001b[32m55\u001b[39m"
      ]
     },
     "metadata": {},
     "output_type": "display_data"
    }
   ],
   "source": [
    "import scala.concurrent.Await\n",
    "import scala.concurrent.duration._\n",
    "\n",
    "var sumFuture = getFuture((1 to 10))\n",
    "// seconds method on the Int comes from Implicits\n",
    "// present in scala.concurrent.duration._\n",
    "\n",
    "// This await blocks for N seconds. If the future is not\n",
    "// completed within specified duration, TimeoutException is raised\n",
    "var sum = Await.result(sumFuture, 15.seconds)\n",
    "println(sum)"
   ]
  },
  {
   "cell_type": "code",
   "execution_count": 5,
   "metadata": {},
   "outputs": [
    {
     "name": "stdout",
     "output_type": "stream",
     "text": [
      "1\n",
      "2\n",
      "3\n",
      "4\n",
      "Future timed out after [5 seconds]\n",
      "5\n"
     ]
    },
    {
     "data": {
      "text/html": [
       "<div class=\"jp-RenderedText\">\n",
       "<pre><code></code></pre>\n",
       "</div>"
      ],
      "text/plain": []
     },
     "metadata": {},
     "output_type": "display_data"
    }
   ],
   "source": [
    "try {\n",
    "   sumFuture = getFuture((1 to 10))\n",
    "   sum = Await.result(sumFuture, 5.seconds)\n",
    "} catch {\n",
    "    case ex: scala.concurrent.TimeoutException => {\n",
    "    println(ex.getMessage())\n",
    "    }\n",
    "}"
   ]
  },
  {
   "cell_type": "code",
   "execution_count": 6,
   "metadata": {},
   "outputs": [
    {
     "name": "stdout",
     "output_type": "stream",
     "text": [
      "6\n",
      "1\n",
      "7\n",
      "2\n",
      "8\n",
      "3\n",
      "9\n",
      "4\n",
      "10\n"
     ]
    },
    {
     "data": {
      "text/html": [
       "<div class=\"jp-RenderedText\">\n",
       "<pre><code></code></pre>\n",
       "</div>"
      ],
      "text/plain": []
     },
     "metadata": {},
     "output_type": "display_data"
    },
    {
     "ename": "",
     "evalue": "",
     "output_type": "error",
     "traceback": [
      "\u001b[31mjava.util.concurrent.TimeoutException: Future timed out after [5 seconds]\u001b[39m\n  scala.concurrent.impl.Promise$DefaultPromise.tryAwait0(\u001b[32mPromise.scala\u001b[39m:\u001b[32m212\u001b[39m)\n  scala.concurrent.impl.Promise$DefaultPromise.ready(\u001b[32mPromise.scala\u001b[39m:\u001b[32m219\u001b[39m)\n  scala.concurrent.impl.Promise$DefaultPromise.ready(\u001b[32mPromise.scala\u001b[39m:\u001b[32m104\u001b[39m)\n  scala.concurrent.Await$.$anonfun$ready$1(\u001b[32mpackage.scala\u001b[39m:\u001b[32m174\u001b[39m)\n  scala.concurrent.BlockContext$DefaultBlockContext$.blockOn(\u001b[32mBlockContext.scala\u001b[39m:\u001b[32m62\u001b[39m)\n  scala.concurrent.Await$.ready(\u001b[32mpackage.scala\u001b[39m:\u001b[32m124\u001b[39m)\n  ammonite.$sess.cmd5$Helper.<init>(\u001b[32mcmd5.sc\u001b[39m:\u001b[32m5\u001b[39m)\n  ammonite.$sess.cmd5$.<clinit>(\u001b[32mcmd5.sc\u001b[39m:\u001b[32m7\u001b[39m)"
     ]
    }
   ],
   "source": [
    "import scala.util.Try\n",
    "// Await.ready catches the timeout exception\n",
    "// unlike result which throws to the caller\n",
    "sumFuture = getFuture((1 to 10))\n",
    "Await.ready(sumFuture, 5.seconds)\n",
    "\n",
    "// value is Option[Try[T]]\n",
    "println(sumFuture.value == None)"
   ]
  },
  {
   "cell_type": "markdown",
   "metadata": {},
   "source": [
    " * Its recommended to use callbacks compared to Await which blocks the\n",
    " main thread."
   ]
  },
  {
   "cell_type": "markdown",
   "metadata": {},
   "source": [
    "* Try can either be `Success(value)` or `Failure(exception)`\n",
    "* We can use pattern matching to extract values\n",
    "* Try also has `.isSuccess`, `.isFailure` methods.\n",
    "* Try to Option using `toOption` - Succes in to Some and Failure to None."
   ]
  },
  {
   "cell_type": "code",
   "execution_count": 7,
   "metadata": {},
   "outputs": [
    {
     "name": "stdout",
     "output_type": "stream",
     "text": [
      "This statement is inside a try block\n",
      "1\n"
     ]
    },
    {
     "data": {
      "text/plain": [
       "\u001b[32mimport \u001b[39m\u001b[36mscala.util._\n",
       "\n",
       "\u001b[39m\n",
       "\u001b[36mrandGen\u001b[39m: \u001b[32mRandom\u001b[39m = scala.util.Random@7098f6f0\n",
       "\u001b[36mresult\u001b[39m: \u001b[32mTry\u001b[39m[\u001b[32mInt\u001b[39m] = \u001b[33mSuccess\u001b[39m(\u001b[32m1\u001b[39m)"
      ]
     },
     "execution_count": 7,
     "metadata": {},
     "output_type": "execute_result"
    }
   ],
   "source": [
    "// we can pass a block to try\n",
    "import scala.util._\n",
    "\n",
    "val randGen = new Random()\n",
    "val result = Try {\n",
    "    println(\"This statement is inside a try block\")\n",
    "    val n = randGen.nextInt(10)\n",
    "    if (n > 5)\n",
    "        throw new Exception(\"Some exception\")\n",
    "    else\n",
    "        n\n",
    "}\n",
    "\n",
    "// pattern matching with extractors to get the result\n",
    "result match {\n",
    "    case Success(value) => println(value)\n",
    "    case Failure(ex) => println(ex.getMessage())\n",
    "}"
   ]
  },
  {
   "cell_type": "markdown",
   "metadata": {},
   "source": [
    "## Callbacks"
   ]
  },
  {
   "cell_type": "markdown",
   "metadata": {},
   "source": [
    "* `Future.onComplete(Try)` - callback method.\n",
    "* Callbacks could lead to callback hell."
   ]
  },
  {
   "cell_type": "markdown",
   "metadata": {},
   "source": [
    "## Composing Future tasks"
   ]
  },
  {
   "cell_type": "code",
   "execution_count": null,
   "metadata": {},
   "outputs": [],
   "source": [
    "// When operating with multiple futures need to the result\n",
    "// to be combined or one depends on the output of the other\n",
    "// we can use methods like map, flatMap to compose those\n",
    "// futures.\n",
    "val sum1 = getFuture((1 to 10))\n",
    "val sum2 = getFuture((11 to 20))\n",
    "\n",
    "// treat future like a collection with one value.\n",
    "val result = sum1.flatMap(r1 => sum2.map(r2 => r1 + r2))\n",
    "result.foreach(println)"
   ]
  },
  {
   "cell_type": "markdown",
   "metadata": {},
   "source": [
    "* Futures contains other useful methods like `filter`, `foreach`, \n",
    "`recover`, `fallbackTo`, `zip`, `failed`, `zipWith`"
   ]
  },
  {
   "cell_type": "markdown",
   "metadata": {},
   "source": [
    "## Methods in Future companion object"
   ]
  },
  {
   "cell_type": "markdown",
   "metadata": {},
   "source": [
    "* `Future.sequence(futures_collection)` - Returns a collection of\n",
    "results of each of the future. If any one future, fails, then the \n",
    "resulting future also fails.\n",
    "\n",
    "* `Future.traverse` combines mapping of subcollection to futures\n",
    "and collecting the results of all those futures(sequence method)\n",
    "* `reduceLeft` and `foldLeft` are also available\n",
    "\n",
    "* `Future.successful(r)`, `Future.failed(r)`, `Future.unit`,\n",
    "`Future.never`, `Future.fromTry(t)`"
   ]
  },
  {
   "cell_type": "code",
   "execution_count": 9,
   "metadata": {},
   "outputs": [
    {
     "name": "stdout",
     "output_type": "stream",
     "text": [
      "55\n",
      "155\n",
      "255\n"
     ]
    },
    {
     "data": {
      "text/html": [
       "<div class=\"jp-RenderedText\">\n",
       "<pre><code><span style=\"color: rgb(0, 187, 187)\"><span class=\"ansi-cyan-fg\">ranges</span></span>: <span style=\"color: rgb(0, 187, 0)\"><span class=\"ansi-green-fg\">List</span></span>[<span style=\"color: rgb(0, 187, 0)\"><span class=\"ansi-green-fg\">Seq</span></span>[<span style=\"color: rgb(0, 187, 0)\"><span class=\"ansi-green-fg\">Int</span></span>]] = <span style=\"color: yellow\"><span class=\"ansi-yellow-fg\">List</span></span>(\n",
       "  <span style=\"color: yellow\"><span class=\"ansi-yellow-fg\">Range</span></span>(<span style=\"color: rgb(0, 187, 0)\"><span class=\"ansi-green-fg\">1</span></span>, <span style=\"color: rgb(0, 187, 0)\"><span class=\"ansi-green-fg\">2</span></span>, <span style=\"color: rgb(0, 187, 0)\"><span class=\"ansi-green-fg\">3</span></span>, <span style=\"color: rgb(0, 187, 0)\"><span class=\"ansi-green-fg\">4</span></span>, <span style=\"color: rgb(0, 187, 0)\"><span class=\"ansi-green-fg\">5</span></span>, <span style=\"color: rgb(0, 187, 0)\"><span class=\"ansi-green-fg\">6</span></span>, <span style=\"color: rgb(0, 187, 0)\"><span class=\"ansi-green-fg\">7</span></span>, <span style=\"color: rgb(0, 187, 0)\"><span class=\"ansi-green-fg\">8</span></span>, <span style=\"color: rgb(0, 187, 0)\"><span class=\"ansi-green-fg\">9</span></span>, <span style=\"color: rgb(0, 187, 0)\"><span class=\"ansi-green-fg\">10</span></span>),\n",
       "  <span style=\"color: yellow\"><span class=\"ansi-yellow-fg\">Range</span></span>(<span style=\"color: rgb(0, 187, 0)\"><span class=\"ansi-green-fg\">11</span></span>, <span style=\"color: rgb(0, 187, 0)\"><span class=\"ansi-green-fg\">12</span></span>, <span style=\"color: rgb(0, 187, 0)\"><span class=\"ansi-green-fg\">13</span></span>, <span style=\"color: rgb(0, 187, 0)\"><span class=\"ansi-green-fg\">14</span></span>, <span style=\"color: rgb(0, 187, 0)\"><span class=\"ansi-green-fg\">15</span></span>, <span style=\"color: rgb(0, 187, 0)\"><span class=\"ansi-green-fg\">16</span></span>, <span style=\"color: rgb(0, 187, 0)\"><span class=\"ansi-green-fg\">17</span></span>, <span style=\"color: rgb(0, 187, 0)\"><span class=\"ansi-green-fg\">18</span></span>, <span style=\"color: rgb(0, 187, 0)\"><span class=\"ansi-green-fg\">19</span></span>, <span style=\"color: rgb(0, 187, 0)\"><span class=\"ansi-green-fg\">20</span></span>),\n",
       "  <span style=\"color: yellow\"><span class=\"ansi-yellow-fg\">Range</span></span>(<span style=\"color: rgb(0, 187, 0)\"><span class=\"ansi-green-fg\">21</span></span>, <span style=\"color: rgb(0, 187, 0)\"><span class=\"ansi-green-fg\">22</span></span>, <span style=\"color: rgb(0, 187, 0)\"><span class=\"ansi-green-fg\">23</span></span>, <span style=\"color: rgb(0, 187, 0)\"><span class=\"ansi-green-fg\">24</span></span>, <span style=\"color: rgb(0, 187, 0)\"><span class=\"ansi-green-fg\">25</span></span>, <span style=\"color: rgb(0, 187, 0)\"><span class=\"ansi-green-fg\">26</span></span>, <span style=\"color: rgb(0, 187, 0)\"><span class=\"ansi-green-fg\">27</span></span>, <span style=\"color: rgb(0, 187, 0)\"><span class=\"ansi-green-fg\">28</span></span>, <span style=\"color: rgb(0, 187, 0)\"><span class=\"ansi-green-fg\">29</span></span>, <span style=\"color: rgb(0, 187, 0)\"><span class=\"ansi-green-fg\">30</span></span>)\n",
       ")\n",
       "<span style=\"color: rgb(0, 187, 187)\"><span class=\"ansi-cyan-fg\">futures</span></span>: <span style=\"color: rgb(0, 187, 0)\"><span class=\"ansi-green-fg\">List</span></span>[<span style=\"color: rgb(0, 187, 0)\"><span class=\"ansi-green-fg\">Future</span></span>[<span style=\"color: rgb(0, 187, 0)\"><span class=\"ansi-green-fg\">Int</span></span>]] = <span style=\"color: yellow\"><span class=\"ansi-yellow-fg\">List</span></span>(\n",
       "  <span style=\"color: rgb(0, 187, 0)\"><span class=\"ansi-green-fg\"><span style=\"color: yellow\"><span class=\"ansi-yellow-fg\">Success</span></span>(<span style=\"color: rgb(0, 187, 0)\"><span class=\"ansi-green-fg\">55</span></span>)</span></span>,\n",
       "  <span style=\"color: rgb(0, 187, 0)\"><span class=\"ansi-green-fg\"><span style=\"color: yellow\"><span class=\"ansi-yellow-fg\">Success</span></span>(<span style=\"color: rgb(0, 187, 0)\"><span class=\"ansi-green-fg\">155</span></span>)</span></span>,\n",
       "  <span style=\"color: rgb(0, 187, 0)\"><span class=\"ansi-green-fg\"><span style=\"color: yellow\"><span class=\"ansi-yellow-fg\">Success</span></span>(<span style=\"color: rgb(0, 187, 0)\"><span class=\"ansi-green-fg\">255</span></span>)</span></span>\n",
       ")\n",
       "<span style=\"color: rgb(0, 187, 187)\"><span class=\"ansi-cyan-fg\">finalFuture</span></span>: <span style=\"color: rgb(0, 187, 0)\"><span class=\"ansi-green-fg\">Future</span></span>[<span style=\"color: rgb(0, 187, 0)\"><span class=\"ansi-green-fg\">List</span></span>[<span style=\"color: rgb(0, 187, 0)\"><span class=\"ansi-green-fg\">Int</span></span>]] = <span style=\"color: rgb(0, 187, 0)\"><span class=\"ansi-green-fg\"><span style=\"color: yellow\"><span class=\"ansi-yellow-fg\">Success</span></span>(<span style=\"color: yellow\"><span class=\"ansi-yellow-fg\">List</span></span>(<span style=\"color: rgb(0, 187, 0)\"><span class=\"ansi-green-fg\">55</span></span>, <span style=\"color: rgb(0, 187, 0)\"><span class=\"ansi-green-fg\">155</span></span>, <span style=\"color: rgb(0, 187, 0)\"><span class=\"ansi-green-fg\">255</span></span>))</span></span></code></pre>\n",
       "</div>"
      ],
      "text/plain": [
       "\u001b[36mranges\u001b[39m: \u001b[32mList\u001b[39m[\u001b[32mSeq\u001b[39m[\u001b[32mInt\u001b[39m]] = \u001b[33mList\u001b[39m(\n",
       "  \u001b[33mRange\u001b[39m(\u001b[32m1\u001b[39m, \u001b[32m2\u001b[39m, \u001b[32m3\u001b[39m, \u001b[32m4\u001b[39m, \u001b[32m5\u001b[39m, \u001b[32m6\u001b[39m, \u001b[32m7\u001b[39m, \u001b[32m8\u001b[39m, \u001b[32m9\u001b[39m, \u001b[32m10\u001b[39m),\n",
       "  \u001b[33mRange\u001b[39m(\u001b[32m11\u001b[39m, \u001b[32m12\u001b[39m, \u001b[32m13\u001b[39m, \u001b[32m14\u001b[39m, \u001b[32m15\u001b[39m, \u001b[32m16\u001b[39m, \u001b[32m17\u001b[39m, \u001b[32m18\u001b[39m, \u001b[32m19\u001b[39m, \u001b[32m20\u001b[39m),\n",
       "  \u001b[33mRange\u001b[39m(\u001b[32m21\u001b[39m, \u001b[32m22\u001b[39m, \u001b[32m23\u001b[39m, \u001b[32m24\u001b[39m, \u001b[32m25\u001b[39m, \u001b[32m26\u001b[39m, \u001b[32m27\u001b[39m, \u001b[32m28\u001b[39m, \u001b[32m29\u001b[39m, \u001b[32m30\u001b[39m)\n",
       ")\n",
       "\u001b[36mfutures\u001b[39m: \u001b[32mList\u001b[39m[\u001b[32mFuture\u001b[39m[\u001b[32mInt\u001b[39m]] = \u001b[33mList\u001b[39m(\n",
       "  \u001b[32m\u001b[33mSuccess\u001b[39m(\u001b[32m55\u001b[39m)\u001b[39m,\n",
       "  \u001b[32m\u001b[33mSuccess\u001b[39m(\u001b[32m155\u001b[39m)\u001b[39m,\n",
       "  \u001b[32m\u001b[33mSuccess\u001b[39m(\u001b[32m255\u001b[39m)\u001b[39m\n",
       ")\n",
       "\u001b[36mfinalFuture\u001b[39m: \u001b[32mFuture\u001b[39m[\u001b[32mList\u001b[39m[\u001b[32mInt\u001b[39m]] = \u001b[32m\u001b[33mSuccess\u001b[39m(\u001b[33mList\u001b[39m(\u001b[32m55\u001b[39m, \u001b[32m155\u001b[39m, \u001b[32m255\u001b[39m))\u001b[39m"
      ]
     },
     "metadata": {},
     "output_type": "display_data"
    }
   ],
   "source": [
    "val ranges = List[Seq[Int]](\n",
    "    (1 to 10),\n",
    "    (11 to 20),\n",
    "    (21 to 30)\n",
    ")\n",
    "\n",
    "val futures: List[Future[Int]] = ranges.map(r => Future {\n",
    "    r.sum\n",
    "})\n",
    "\n",
    "// sequence accepts a collection of futures\n",
    "// and returns a future of list of results\n",
    "val finalFuture: Future[List[Int]] = Future.sequence(futures)\n",
    "finalFuture.foreach(results => results.foreach(println))"
   ]
  },
  {
   "cell_type": "code",
   "execution_count": 10,
   "metadata": {},
   "outputs": [
    {
     "data": {
      "text/html": [
       "<div class=\"jp-RenderedText\">\n",
       "<pre><code><span style=\"color: rgb(0, 187, 187)\"><span class=\"ansi-cyan-fg\">res9</span></span>: <span style=\"color: rgb(0, 187, 0)\"><span class=\"ansi-green-fg\">Future</span></span>[<span style=\"color: rgb(0, 187, 0)\"><span class=\"ansi-green-fg\">List</span></span>[<span style=\"color: rgb(0, 187, 0)\"><span class=\"ansi-green-fg\">Int</span></span>]] = <span style=\"color: rgb(0, 187, 0)\"><span class=\"ansi-green-fg\"><span style=\"color: yellow\"><span class=\"ansi-yellow-fg\">Success</span></span>(<span style=\"color: yellow\"><span class=\"ansi-yellow-fg\">List</span></span>(<span style=\"color: rgb(0, 187, 0)\"><span class=\"ansi-green-fg\">55</span></span>, <span style=\"color: rgb(0, 187, 0)\"><span class=\"ansi-green-fg\">155</span></span>, <span style=\"color: rgb(0, 187, 0)\"><span class=\"ansi-green-fg\">255</span></span>))</span></span></code></pre>\n",
       "</div>"
      ],
      "text/plain": [
       "\u001b[36mres9\u001b[39m: \u001b[32mFuture\u001b[39m[\u001b[32mList\u001b[39m[\u001b[32mInt\u001b[39m]] = \u001b[32m\u001b[33mSuccess\u001b[39m(\u001b[33mList\u001b[39m(\u001b[32m55\u001b[39m, \u001b[32m155\u001b[39m, \u001b[32m255\u001b[39m))\u001b[39m"
      ]
     },
     "metadata": {},
     "output_type": "display_data"
    }
   ],
   "source": [
    "//traverse\n",
    "Future.traverse(ranges)(range => Future { range.sum} )"
   ]
  },
  {
   "cell_type": "markdown",
   "metadata": {},
   "source": [
    "## Promise"
   ]
  },
  {
   "cell_type": "markdown",
   "metadata": {},
   "source": [
    "* In promise, the result can be set explicitly unlike Future whose\n",
    "result can only be set by the underlying task.\n",
    "* Producer can do other useful stuff in the same future after setting the\n",
    "promise.\n",
    "\n",
    "* We can also have multiple futures trying to complete a single promise.\n",
    "In such cases we need to use `trySuccess` method."
   ]
  },
  {
   "cell_type": "code",
   "execution_count": 13,
   "metadata": {},
   "outputs": [
    {
     "data": {
      "text/html": [
       "<div class=\"jp-RenderedText\">\n",
       "<pre><code><span style=\"color: rgb(0, 187, 0)\"><span class=\"ansi-green-fg\">import </span></span><span style=\"color: rgb(0, 187, 187)\"><span class=\"ansi-cyan-fg\">scala.concurrent.Promise\n",
       "\n",
       "</span></span>\n",
       "defined <span style=\"color: rgb(0, 187, 0)\"><span class=\"ansi-green-fg\">function</span></span> <span style=\"color: rgb(0, 187, 187)\"><span class=\"ansi-cyan-fg\">computeSum</span></span>\n",
       "<span style=\"color: rgb(0, 187, 187)\"><span class=\"ansi-cyan-fg\">f</span></span>: <span style=\"color: rgb(0, 187, 0)\"><span class=\"ansi-green-fg\">Future</span></span>[<span style=\"color: rgb(0, 187, 0)\"><span class=\"ansi-green-fg\">Int</span></span>] = <span style=\"color: rgb(0, 187, 0)\"><span class=\"ansi-green-fg\"><style>@keyframes fadein { from { opacity: 0; } to { opacity: 1; } }</style><span style=\"animation: fadein 2s;\"><span style=\"color: yellow\"><span class=\"ansi-yellow-fg\">Success</span></span>(<span style=\"color: rgb(0, 187, 0)\"><span class=\"ansi-green-fg\">5050</span></span>)</span></span></span></code></pre>\n",
       "</div>"
      ],
      "text/plain": [
       "\u001b[32mimport \u001b[39m\u001b[36mscala.concurrent.Promise\n",
       "\n",
       "\u001b[39m\n",
       "defined \u001b[32mfunction\u001b[39m \u001b[36mcomputeSum\u001b[39m\n",
       "\u001b[36mf\u001b[39m: \u001b[32mFuture\u001b[39m[\u001b[32mInt\u001b[39m] = \u001b[32m\u001b[33mSuccess\u001b[39m(\u001b[32m5050\u001b[39m)\u001b[39m"
      ]
     },
     "metadata": {},
     "output_type": "display_data"
    }
   ],
   "source": [
    "import scala.concurrent.Promise\n",
    "\n",
    "def computeSum(input: Seq[Int]) = {\n",
    "    // create a promise, use this promise \n",
    "    // within some future\n",
    "    val p = Promise[Int]()\n",
    "    Future {\n",
    "        val sum = input.sum\n",
    "        p.success(sum) // here we set the promise\n",
    "        // a promise can exactly be set once\n",
    "        // by calling either success or failure(ex)\n",
    "    }\n",
    "    // return a future instance from the promise\n",
    "    // this future will be set when the above future\n",
    "    // task sets the promise value\n",
    "    p.future\n",
    "}\n",
    "\n",
    "val f = computeSum((1 to 100))\n",
    "f.foreach(println)"
   ]
  },
  {
   "cell_type": "markdown",
   "metadata": {},
   "source": [
    "* For IO intensive tasks, we should use `Executors.CachedThreadPool`\n",
    "instead of global thread pool."
   ]
  }
 ],
 "metadata": {
  "kernelspec": {
   "display_name": "Scala",
   "language": "scala",
   "name": "scala"
  },
  "language_info": {
   "codemirror_mode": "text/x-scala",
   "file_extension": ".sc",
   "mimetype": "text/x-scala",
   "name": "scala",
   "nbconvert_exporter": "script",
   "version": "2.13.3"
  }
 },
 "nbformat": 4,
 "nbformat_minor": 4
}
