{
 "cells": [
  {
   "cell_type": "markdown",
   "metadata": {},
   "source": [
    "# Type parameters"
   ]
  },
  {
   "cell_type": "markdown",
   "metadata": {},
   "source": [
    "* Type parameters are placed inside square brackets following the\n",
    "name of the class, trait, function/method."
   ]
  },
  {
   "cell_type": "code",
   "execution_count": 1,
   "metadata": {},
   "outputs": [
    {
     "data": {
      "text/plain": [
       "defined \u001b[32mclass\u001b[39m \u001b[36mGenericClass\u001b[39m\n",
       "defined \u001b[32mfunction\u001b[39m \u001b[36msomeMethod\u001b[39m"
      ]
     },
     "execution_count": 1,
     "metadata": {},
     "output_type": "execute_result"
    }
   ],
   "source": [
    "// generic classes\n",
    "class GenericClass[T](val arg: T)\n",
    "\n",
    "// function/method with type parameters\n",
    "def someMethod[T](arg: List[T]) = ???"
   ]
  },
  {
   "cell_type": "code",
   "execution_count": 2,
   "metadata": {},
   "outputs": [
    {
     "data": {
      "text/plain": [
       "defined \u001b[32mclass\u001b[39m \u001b[36mPair\u001b[39m"
      ]
     },
     "execution_count": 2,
     "metadata": {},
     "output_type": "execute_result"
    }
   ],
   "source": [
    "//Constraints on type parameters\n",
    "// upperbound - Type parameter is a subclass of the type constraint\n",
    "class Pair[T <: Comparable[T]](val first: T, val second: T) {\n",
    "    // here the first and second are expected to have\n",
    "    // compareTo method implemented\n",
    "    def compare = first.compareTo(second)\n",
    "}"
   ]
  },
  {
   "cell_type": "code",
   "execution_count": null,
   "metadata": {},
   "outputs": [],
   "source": [
    "// Defining lower bound (because we are defining the lower bound\n",
    "// in the type hierarchy tree)\n",
    "class Pair[T](val first: T, val second: T) {\n",
    "    // here the first and second are expected to have\n",
    "    // compareTo method implemented\n",
    "    def replaceFirst[R >: T](newFirst: R) = new Pair[R](newFirst, second)\n",
    "}"
   ]
  },
  {
   "cell_type": "markdown",
   "metadata": {},
   "source": [
    "We can have class with both upper and lower bounds `T>: lower <: Upper`"
   ]
  },
  {
   "cell_type": "markdown",
   "metadata": {},
   "source": [
    "## View bound"
   ]
  },
  {
   "cell_type": "markdown",
   "metadata": {},
   "source": [
    "View bound - Here the generic type can be converted to another type(implicit conversions)\n",
    "that satisfies the upper bound constraint.\n",
    "\n",
    "NOTE: Use of view bounds is not encouraged. Instead we should use\n",
    "implicit type constraints."
   ]
  },
  {
   "cell_type": "code",
   "execution_count": 4,
   "metadata": {},
   "outputs": [
    {
     "data": {
      "text/plain": [
       "defined \u001b[32mclass\u001b[39m \u001b[36mPair\u001b[39m\n",
       "\u001b[36mp\u001b[39m: \u001b[32mPair\u001b[39m[\u001b[32mInt\u001b[39m] = ammonite.$sess.cmd3$Helper$Pair@174a2d7b"
      ]
     },
     "execution_count": 4,
     "metadata": {},
     "output_type": "execute_result"
    }
   ],
   "source": [
    "class Pair[T <% Comparable[T]](val first: T, val second: T)\n",
    "\n",
    "// Int does not implement Comparable directly, but RichInt\n",
    "// implements comparable. So we use view bound here.\n",
    "val p = new Pair(4,2)"
   ]
  },
  {
   "cell_type": "code",
   "execution_count": 6,
   "metadata": {},
   "outputs": [
    {
     "data": {
      "text/plain": [
       "defined \u001b[32mclass\u001b[39m \u001b[36mPair\u001b[39m"
      ]
     },
     "execution_count": 6,
     "metadata": {},
     "output_type": "execute_result"
    }
   ],
   "source": [
    "// alternate way to express the idea of a view bound using implicit\n",
    "class Pair[T](val first: T, \n",
    "              val second: T)(implicit ev: T => Comparable[T]) "
   ]
  },
  {
   "cell_type": "markdown",
   "metadata": {},
   "source": [
    "## Context Bounds"
   ]
  },
  {
   "cell_type": "markdown",
   "metadata": {},
   "source": [
    "* `class SomeClass[T : M]` - Here M is a generic type. Methods of this\n",
    "class requires implicit values of type `M[T]` as its implicit paramters.\n"
   ]
  },
  {
   "cell_type": "code",
   "execution_count": 7,
   "metadata": {},
   "outputs": [
    {
     "data": {
      "text/plain": [
       "defined \u001b[32mclass\u001b[39m \u001b[36mPair\u001b[39m"
      ]
     },
     "execution_count": 7,
     "metadata": {},
     "output_type": "execute_result"
    }
   ],
   "source": [
    "// note context bound type needs to be a generic type\n",
    "class Pair[T: Ordering](val first: T, val second: T) {\n",
    "    // notice the usage of implicit value\n",
    "    def smaller(implicit ord: Ordering[T]) = {\n",
    "        if (ord.compare(first, second) < 0)\n",
    "            first\n",
    "        else\n",
    "            second\n",
    "    }\n",
    "}"
   ]
  },
  {
   "cell_type": "markdown",
   "metadata": {},
   "source": [
    "* More than one context bound is allowed. `T :M: N`"
   ]
  },
  {
   "cell_type": "markdown",
   "metadata": {},
   "source": [
    "## Variance"
   ]
  },
  {
   "cell_type": "markdown",
   "metadata": {},
   "source": [
    "* Variance allows use to define how the base and derived \n",
    "relationship translates to generic types of base and parent.\n",
    "(i.e) Can `SomeClass[T]` hold reference to `SomeClass[U]` given \n",
    "`U` is a subtype of `T`\n",
    "\n",
    "* Covariance - Denoted as `+T`. Indicates the generic type relationship\n",
    "moves in the same direction as the underlying types. `U` is a type of `T`,\n",
    "and similarly `SomeClass[U]` is also a type of `SomeClass[T]`. Often used for output\n",
    "data types.\n",
    "\n",
    "* Contravariance -Denoted using `-T`. Here the base and derived relationship of generics move in the opposite direction. Suppose `D` is the subtype of `B`, but in generic types\n",
    "`SomeClass[D]` will become the supertype of `SomeClass[B]`. Often used for input\n",
    "data types.\n",
    "\n",
    "* We can have both covariant and contravariant types in a single definition.\n",
    "Example `Function1[-A, +R]`"
   ]
  },
  {
   "cell_type": "markdown",
   "metadata": {},
   "source": [
    "> Parameters are contravariant positions, and return types are covariant\n",
    "> However, inside a \"function parameter\", the variance flips—its parameters are\n",
    "covariant. "
   ]
  },
  {
   "cell_type": "code",
   "execution_count": 2,
   "metadata": {},
   "outputs": [
    {
     "data": {
      "text/plain": [
       "defined \u001b[32mclass\u001b[39m \u001b[36mPair\u001b[39m"
      ]
     },
     "execution_count": 2,
     "metadata": {},
     "output_type": "execute_result"
    }
   ],
   "source": [
    "// Invariant generic type\n",
    "class Pair[T](val first: T, val second: T) {\n",
    "    def replaceFirst(newFirst: T) = new Pair[T](newFirst, second) // Error\n",
    "}\n"
   ]
  },
  {
   "cell_type": "code",
   "execution_count": 2,
   "metadata": {},
   "outputs": [
    {
     "name": "stderr",
     "output_type": "stream",
     "text": [
      "cmd2.sc:2: covariant type T occurs in contravariant position in type T of value newFirst\n",
      "def replaceFirst(newFirst: T) = new Pair[T](newFirst, second) // Error\n",
      "                 ^Compilation Failed"
     ]
    },
    {
     "ename": "",
     "evalue": "",
     "output_type": "error",
     "traceback": [
      "Compilation Failed"
     ]
    }
   ],
   "source": [
    "// Raises compilation error\n",
    "// covariant in contravariant position\n",
    "class Pair[+T](val first: T, val second: T) {\n",
    "def replaceFirst(newFirst: T) = new Pair[T](newFirst, second) // Error\n",
    "}\n"
   ]
  },
  {
   "cell_type": "code",
   "execution_count": 3,
   "metadata": {},
   "outputs": [
    {
     "data": {
      "text/plain": [
       "defined \u001b[32mclass\u001b[39m \u001b[36mPair\u001b[39m"
      ]
     },
     "execution_count": 3,
     "metadata": {},
     "output_type": "execute_result"
    }
   ],
   "source": [
    "// compiles fine.\n",
    "// This is the pattern that we follow to convert covariant type to be put in the\n",
    "// contravariant position\n",
    "class Pair[+T](val first: T, val second: T) {\n",
    "    def replaceFirst[R >: T](newFirst: R) = new Pair[R](newFirst, second)\n",
    "}"
   ]
  },
  {
   "cell_type": "markdown",
   "metadata": {},
   "source": [
    "## References\n",
    "\n",
    "* [Scala generics knoldus](https://blog.knoldus.com/covariance-and-contravariance-in-scala/)\n",
    "* [Scala generics in detail](http://blog.kamkor.me/Covariance-And-Contravariance-In-Scala/)"
   ]
  }
 ],
 "metadata": {
  "kernelspec": {
   "display_name": "Scala",
   "language": "scala",
   "name": "scala"
  },
  "language_info": {
   "codemirror_mode": "text/x-scala",
   "file_extension": ".sc",
   "mimetype": "text/x-scala",
   "name": "scala",
   "nbconvert_exporter": "script",
   "version": "2.13.3"
  }
 },
 "nbformat": 4,
 "nbformat_minor": 4
}
