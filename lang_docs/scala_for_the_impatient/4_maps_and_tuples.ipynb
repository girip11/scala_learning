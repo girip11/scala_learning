{
 "cells": [
  {
   "cell_type": "markdown",
   "metadata": {},
   "source": [
    "# Maps and Tuples"
   ]
  },
  {
   "cell_type": "code",
   "execution_count": 2,
   "metadata": {},
   "outputs": [
    {
     "name": "stdout",
     "output_type": "stream",
     "text": [
      "Map(a -> 1, b -> 2)\n"
     ]
    },
    {
     "data": {
      "text/plain": [
       "\u001b[36msimpleMap\u001b[39m: \u001b[32mMap\u001b[39m[\u001b[32mString\u001b[39m, \u001b[32mInt\u001b[39m] = \u001b[33mMap\u001b[39m(\u001b[32m\"a\"\u001b[39m -> \u001b[32m1\u001b[39m, \u001b[32m\"b\"\u001b[39m -> \u001b[32m2\u001b[39m)"
      ]
     },
     "execution_count": 2,
     "metadata": {},
     "output_type": "execute_result"
    }
   ],
   "source": [
    "// Map by default is scala.collection.immutable.Map\n",
    "// mutable map is available at scala.collection.mutable.Map\n",
    "val simpleMap = Map(\n",
    "    \"a\" -> 1,\n",
    "    \"b\" -> 2\n",
    ")\n",
    "println(simpleMap)"
   ]
  },
  {
   "cell_type": "code",
   "execution_count": 3,
   "metadata": {},
   "outputs": [
    {
     "name": "stdout",
     "output_type": "stream",
     "text": [
      "(John,1)\n"
     ]
    },
    {
     "data": {
      "text/plain": [
       "\u001b[36mpair\u001b[39m: (\u001b[32mString\u001b[39m, \u001b[32mInt\u001b[39m) = (\u001b[32m\"John\"\u001b[39m, \u001b[32m1\u001b[39m)"
      ]
     },
     "execution_count": 3,
     "metadata": {},
     "output_type": "execute_result"
    }
   ],
   "source": [
    "// Its a 2-tuple\n",
    "val pair = (\"John\", 1)\n",
    "println(pair)"
   ]
  },
  {
   "cell_type": "code",
   "execution_count": 4,
   "metadata": {},
   "outputs": [
    {
     "name": "stdout",
     "output_type": "stream",
     "text": [
      "Map(a -> 1, b -> 2)\n"
     ]
    },
    {
     "data": {
      "text/plain": [
       "\u001b[36mpairs\u001b[39m: \u001b[32mList\u001b[39m[(\u001b[32mString\u001b[39m, \u001b[32mInt\u001b[39m)] = \u001b[33mList\u001b[39m((\u001b[32m\"a\"\u001b[39m, \u001b[32m1\u001b[39m), (\u001b[32m\"b\"\u001b[39m, \u001b[32m2\u001b[39m))\n",
       "\u001b[36msimpleMapUsingPairs\u001b[39m: \u001b[32mMap\u001b[39m[\u001b[32mString\u001b[39m, \u001b[32mInt\u001b[39m] = \u001b[33mMap\u001b[39m(\u001b[32m\"a\"\u001b[39m -> \u001b[32m1\u001b[39m, \u001b[32m\"b\"\u001b[39m -> \u001b[32m2\u001b[39m)"
      ]
     },
     "execution_count": 4,
     "metadata": {},
     "output_type": "execute_result"
    }
   ],
   "source": [
    "// we could also pass list of pairs to Map\n",
    "// Map.apply accepts var args on 2-tuples\n",
    "val pairs = List[(String, Int)](\n",
    "(\"a\", 1),\n",
    "(\"b\", 2)\n",
    ")\n",
    "val simpleMapUsingPairs = Map(pairs: _*)\n",
    "println(simpleMapUsingPairs)"
   ]
  },
  {
   "cell_type": "markdown",
   "metadata": {},
   "source": [
    "## Accesssing map values"
   ]
  },
  {
   "cell_type": "code",
   "execution_count": 5,
   "metadata": {},
   "outputs": [
    {
     "data": {
      "text/plain": [
       "\u001b[32mimport \u001b[39m\u001b[36mscala.collection.mutable.{Map => MutableMap}\n",
       "\n",
       "\u001b[39m\n",
       "\u001b[36msimpleMutableMap\u001b[39m: \u001b[32mcollection\u001b[39m.\u001b[32mmutable\u001b[39m.\u001b[32mMap\u001b[39m[\u001b[32mString\u001b[39m, \u001b[32mInt\u001b[39m] = \u001b[33mHashMap\u001b[39m(\n",
       "  \u001b[32m\"a\"\u001b[39m -> \u001b[32m1\u001b[39m,\n",
       "  \u001b[32m\"b\"\u001b[39m -> \u001b[32m2\u001b[39m\n",
       ")\n",
       "\u001b[36mres4_2\u001b[39m: \u001b[32mInt\u001b[39m = \u001b[32m1\u001b[39m"
      ]
     },
     "execution_count": 5,
     "metadata": {},
     "output_type": "execute_result"
    }
   ],
   "source": [
    "import scala.collection.mutable.{Map => MutableMap}\n",
    "\n",
    "val simpleMutableMap = MutableMap(pairs:_*)\n",
    "simpleMutableMap(\"a\")"
   ]
  },
  {
   "cell_type": "code",
   "execution_count": 6,
   "metadata": {},
   "outputs": [
    {
     "name": "stdout",
     "output_type": "stream",
     "text": [
      "HashMap(a -> 1, b -> 2, c -> 3)\n"
     ]
    }
   ],
   "source": [
    "simpleMutableMap(\"c\") = 3\n",
    "println(simpleMutableMap)"
   ]
  },
  {
   "cell_type": "code",
   "execution_count": 7,
   "metadata": {},
   "outputs": [
    {
     "data": {
      "text/plain": [
       "\u001b[36mres6\u001b[39m: \u001b[32mBoolean\u001b[39m = true"
      ]
     },
     "execution_count": 7,
     "metadata": {},
     "output_type": "execute_result"
    }
   ],
   "source": [
    "simpleMutableMap.contains(\"c\")"
   ]
  },
  {
   "cell_type": "code",
   "execution_count": 8,
   "metadata": {},
   "outputs": [
    {
     "data": {
      "text/plain": [
       "\u001b[36mres7\u001b[39m: \u001b[32mInt\u001b[39m = \u001b[32m-1\u001b[39m"
      ]
     },
     "execution_count": 8,
     "metadata": {},
     "output_type": "execute_result"
    }
   ],
   "source": [
    "simpleMutableMap.getOrElse(\"d\", -1)"
   ]
  },
  {
   "cell_type": "code",
   "execution_count": 9,
   "metadata": {},
   "outputs": [
    {
     "data": {
      "text/plain": [
       "\u001b[36mres8_0\u001b[39m: \u001b[32mOption\u001b[39m[\u001b[32mInt\u001b[39m] = \u001b[33mSome\u001b[39m(\u001b[32m1\u001b[39m)\n",
       "\u001b[36mres8_1\u001b[39m: \u001b[32mOption\u001b[39m[\u001b[32mInt\u001b[39m] = \u001b[32mNone\u001b[39m"
      ]
     },
     "execution_count": 9,
     "metadata": {},
     "output_type": "execute_result"
    }
   ],
   "source": [
    "//returns Option which is either Some(value) or None\n",
    "simpleMutableMap.get(\"a\") // Some(1)\n",
    "simpleMutableMap.get(\"d\") // None"
   ]
  },
  {
   "cell_type": "code",
   "execution_count": 11,
   "metadata": {},
   "outputs": [
    {
     "data": {
      "text/plain": [
       "\u001b[36mmapWithDefaultConfigured\u001b[39m: \u001b[32mMap\u001b[39m[\u001b[32mString\u001b[39m, \u001b[32mInt\u001b[39m] = \u001b[33mMap\u001b[39m(\u001b[32m\"a\"\u001b[39m -> \u001b[32m1\u001b[39m, \u001b[32m\"b\"\u001b[39m -> \u001b[32m2\u001b[39m)\n",
       "\u001b[36mres10_1\u001b[39m: \u001b[32mInt\u001b[39m = \u001b[32m-1\u001b[39m"
      ]
     },
     "execution_count": 11,
     "metadata": {},
     "output_type": "execute_result"
    }
   ],
   "source": [
    "// we use withDefaultValue with immutable maps\n",
    "val mapWithDefaultConfigured = simpleMap.withDefaultValue(-1)\n",
    "// returns default value\n",
    "mapWithDefaultConfigured(\"c\")"
   ]
  },
  {
   "cell_type": "code",
   "execution_count": 13,
   "metadata": {},
   "outputs": [
    {
     "data": {
      "text/plain": [
       "\u001b[36mmapWithDefaultFunction\u001b[39m: \u001b[32mMap\u001b[39m[\u001b[32mString\u001b[39m, \u001b[32mInt\u001b[39m] = \u001b[33mMap\u001b[39m(\u001b[32m\"a\"\u001b[39m -> \u001b[32m1\u001b[39m, \u001b[32m\"b\"\u001b[39m -> \u001b[32m2\u001b[39m)\n",
       "\u001b[36mres12_1\u001b[39m: \u001b[32mInt\u001b[39m = \u001b[32m1\u001b[39m\n",
       "\u001b[36mres12_2\u001b[39m: \u001b[32mInt\u001b[39m = \u001b[32m-1\u001b[39m"
      ]
     },
     "execution_count": 13,
     "metadata": {},
     "output_type": "execute_result"
    }
   ],
   "source": [
    "// we can also pass a function to return a default value\n",
    "val mapWithDefaultFunction = \n",
    "simpleMap.withDefault( _ => -1)\n",
    "mapWithDefaultFunction(\"a\")\n",
    "mapWithDefaultFunction(\"d\") // returns -1"
   ]
  },
  {
   "cell_type": "markdown",
   "metadata": {},
   "source": [
    "## Updating Map values"
   ]
  },
  {
   "cell_type": "code",
   "execution_count": 14,
   "metadata": {},
   "outputs": [
    {
     "name": "stdout",
     "output_type": "stream",
     "text": [
      "HashMap(a -> 0, b -> 2, c -> 3, x -> 24, y -> 25, z -> 26)\n"
     ]
    },
    {
     "data": {
      "text/plain": [
       "\u001b[36mres13_1\u001b[39m: \u001b[32mcollection\u001b[39m.\u001b[32mmutable\u001b[39m.\u001b[32mMap\u001b[39m[\u001b[32mString\u001b[39m, \u001b[32mInt\u001b[39m] = \u001b[33mHashMap\u001b[39m(\n",
       "  \u001b[32m\"a\"\u001b[39m -> \u001b[32m0\u001b[39m,\n",
       "  \u001b[32m\"b\"\u001b[39m -> \u001b[32m2\u001b[39m,\n",
       "  \u001b[32m\"c\"\u001b[39m -> \u001b[32m3\u001b[39m,\n",
       "  \u001b[32m\"x\"\u001b[39m -> \u001b[32m24\u001b[39m,\n",
       "  \u001b[32m\"y\"\u001b[39m -> \u001b[32m25\u001b[39m,\n",
       "  \u001b[32m\"z\"\u001b[39m -> \u001b[32m26\u001b[39m\n",
       ")\n",
       "\u001b[36mres13_2\u001b[39m: \u001b[32mcollection\u001b[39m.\u001b[32mmutable\u001b[39m.\u001b[32mMap\u001b[39m[\u001b[32mString\u001b[39m, \u001b[32mInt\u001b[39m] = \u001b[33mHashMap\u001b[39m(\n",
       "  \u001b[32m\"a\"\u001b[39m -> \u001b[32m0\u001b[39m,\n",
       "  \u001b[32m\"b\"\u001b[39m -> \u001b[32m2\u001b[39m,\n",
       "  \u001b[32m\"c\"\u001b[39m -> \u001b[32m3\u001b[39m,\n",
       "  \u001b[32m\"x\"\u001b[39m -> \u001b[32m24\u001b[39m,\n",
       "  \u001b[32m\"y\"\u001b[39m -> \u001b[32m25\u001b[39m,\n",
       "  \u001b[32m\"z\"\u001b[39m -> \u001b[32m26\u001b[39m\n",
       ")"
      ]
     },
     "execution_count": 14,
     "metadata": {},
     "output_type": "execute_result"
    }
   ],
   "source": [
    "// Mutable maps can be updated\n",
    "simpleMutableMap(\"a\") = 0\n",
    "simpleMutableMap += (\"z\" -> 26)\n",
    "simpleMutableMap += ((\"y\", 25), (\"x\", 24))\n",
    "println(simpleMutableMap)"
   ]
  },
  {
   "cell_type": "markdown",
   "metadata": {},
   "source": [
    "Any addition or removal of keys from immutable map results in\n",
    "new map with the operation performed."
   ]
  },
  {
   "cell_type": "code",
   "execution_count": 15,
   "metadata": {},
   "outputs": [
    {
     "data": {
      "text/plain": [
       "\u001b[36mres14\u001b[39m: \u001b[32mcollection\u001b[39m.\u001b[32mmutable\u001b[39m.\u001b[32mMap\u001b[39m[\u001b[32mString\u001b[39m, \u001b[32mInt\u001b[39m] = \u001b[33mHashMap\u001b[39m(\n",
       "  \u001b[32m\"b\"\u001b[39m -> \u001b[32m2\u001b[39m,\n",
       "  \u001b[32m\"c\"\u001b[39m -> \u001b[32m3\u001b[39m,\n",
       "  \u001b[32m\"x\"\u001b[39m -> \u001b[32m24\u001b[39m,\n",
       "  \u001b[32m\"y\"\u001b[39m -> \u001b[32m25\u001b[39m,\n",
       "  \u001b[32m\"z\"\u001b[39m -> \u001b[32m26\u001b[39m\n",
       ")"
      ]
     },
     "execution_count": 15,
     "metadata": {},
     "output_type": "execute_result"
    }
   ],
   "source": [
    "// remove key\n",
    "simpleMutableMap -= \"a\""
   ]
  },
  {
   "cell_type": "markdown",
   "metadata": {},
   "source": [
    "## Iterating over maps"
   ]
  },
  {
   "cell_type": "code",
   "execution_count": 16,
   "metadata": {},
   "outputs": [
    {
     "name": "stdout",
     "output_type": "stream",
     "text": [
      "(a,1)\n",
      "(b,2)\n"
     ]
    }
   ],
   "source": [
    "// Unlike python, iterating over map gives a tuple of key and value\n",
    "for ((k,v) <- simpleMap) {\n",
    "    println(k,v)\n",
    "}"
   ]
  },
  {
   "cell_type": "code",
   "execution_count": 19,
   "metadata": {},
   "outputs": [
    {
     "data": {
      "text/plain": [
       "\u001b[36mres18\u001b[39m: \u001b[32mIterable\u001b[39m[\u001b[32mString\u001b[39m] = \u001b[33mSet\u001b[39m(\u001b[32m\"a\"\u001b[39m, \u001b[32m\"b\"\u001b[39m)"
      ]
     },
     "execution_count": 19,
     "metadata": {},
     "output_type": "execute_result"
    }
   ],
   "source": [
    "// Only list of keys\n",
    "simpleMap.keys"
   ]
  },
  {
   "cell_type": "code",
   "execution_count": 18,
   "metadata": {},
   "outputs": [
    {
     "data": {
      "text/plain": [
       "\u001b[36mres17\u001b[39m: \u001b[32mIterable\u001b[39m[\u001b[32mInt\u001b[39m] = \u001b[33mIterable\u001b[39m(\u001b[32m1\u001b[39m, \u001b[32m2\u001b[39m)"
      ]
     },
     "execution_count": 18,
     "metadata": {},
     "output_type": "execute_result"
    }
   ],
   "source": [
    "simpleMap.values"
   ]
  },
  {
   "cell_type": "markdown",
   "metadata": {},
   "source": [
    "`SortedMap` is used to traverse the keys in sorted order. For\n",
    "ordered dictionary, use `LinkedHashMap` found in `scala.collection.mutable`"
   ]
  },
  {
   "cell_type": "markdown",
   "metadata": {},
   "source": [
    "## Interoperating with Java"
   ]
  },
  {
   "cell_type": "code",
   "execution_count": 21,
   "metadata": {},
   "outputs": [
    {
     "data": {
      "text/plain": [
       "\u001b[32mimport \u001b[39m\u001b[36mscala.jdk.CollectionConverters._\n",
       "\u001b[39m\n",
       "\u001b[32mimport \u001b[39m\u001b[36mjava.util.HashMap\n",
       "\n",
       "\u001b[39m\n",
       "\u001b[36mscalaMap\u001b[39m: \u001b[32mMap\u001b[39m[\u001b[32mString\u001b[39m, \u001b[32mInt\u001b[39m] = \u001b[33mMap\u001b[39m(\u001b[32m\"a\"\u001b[39m -> \u001b[32m1\u001b[39m, \u001b[32m\"b\"\u001b[39m -> \u001b[32m2\u001b[39m)\n",
       "\u001b[36mjavaMap\u001b[39m: \u001b[32mjava\u001b[39m.\u001b[32mutil\u001b[39m.\u001b[32mMap\u001b[39m[\u001b[32mString\u001b[39m, \u001b[32mInt\u001b[39m] = {a=1, b=2}"
      ]
     },
     "execution_count": 21,
     "metadata": {},
     "output_type": "execute_result"
    }
   ],
   "source": [
    "import scala.jdk.CollectionConverters._\n",
    "import java.util.HashMap\n",
    "\n",
    "val scalaMap =Map[String, Int](\"a\" -> 1, \"b\" -> 2)\n",
    "val javaMap = scalaMap.asJava"
   ]
  },
  {
   "cell_type": "code",
   "execution_count": 22,
   "metadata": {},
   "outputs": [
    {
     "data": {
      "text/plain": [
       "\u001b[36mnewScalaMap\u001b[39m: \u001b[32mcollection\u001b[39m.\u001b[32mmutable\u001b[39m.\u001b[32mMap\u001b[39m[\u001b[32mString\u001b[39m, \u001b[32mInt\u001b[39m] = \u001b[33mMap\u001b[39m(\u001b[32m\"a\"\u001b[39m -> \u001b[32m1\u001b[39m, \u001b[32m\"b\"\u001b[39m -> \u001b[32m2\u001b[39m)"
      ]
     },
     "execution_count": 22,
     "metadata": {},
     "output_type": "execute_result"
    }
   ],
   "source": [
    "val newScalaMap = javaMap.asScala"
   ]
  },
  {
   "cell_type": "markdown",
   "metadata": {},
   "source": [
    "## Tuples"
   ]
  },
  {
   "cell_type": "code",
   "execution_count": 23,
   "metadata": {},
   "outputs": [
    {
     "data": {
      "text/plain": [
       "\u001b[36mthreeTuple\u001b[39m: (\u001b[32mString\u001b[39m, \u001b[32mInt\u001b[39m, \u001b[32mFloat\u001b[39m) = (\u001b[32m\"a\"\u001b[39m, \u001b[32m1\u001b[39m, \u001b[32m0.1F\u001b[39m)"
      ]
     },
     "execution_count": 23,
     "metadata": {},
     "output_type": "execute_result"
    }
   ],
   "source": [
    "val threeTuple: Tuple3[String, Int, Float] = (\"a\", 1, 0.1f)"
   ]
  },
  {
   "cell_type": "code",
   "execution_count": 24,
   "metadata": {},
   "outputs": [
    {
     "data": {
      "text/plain": [
       "\u001b[36mres23_0\u001b[39m: \u001b[32mString\u001b[39m = \u001b[32m\"a\"\u001b[39m\n",
       "\u001b[36mres23_1\u001b[39m: \u001b[32mInt\u001b[39m = \u001b[32m1\u001b[39m"
      ]
     },
     "execution_count": 24,
     "metadata": {},
     "output_type": "execute_result"
    }
   ],
   "source": [
    "threeTuple._1\n",
    "threeTuple._2"
   ]
  },
  {
   "cell_type": "code",
   "execution_count": 27,
   "metadata": {},
   "outputs": [
    {
     "name": "stdout",
     "output_type": "stream",
     "text": [
      "(a,1)\n"
     ]
    },
    {
     "data": {
      "text/plain": [
       "\u001b[36ma\u001b[39m: \u001b[32mString\u001b[39m = \u001b[32m\"a\"\u001b[39m\n",
       "\u001b[36mb\u001b[39m: \u001b[32mInt\u001b[39m = \u001b[32m1\u001b[39m"
      ]
     },
     "execution_count": 27,
     "metadata": {},
     "output_type": "execute_result"
    }
   ],
   "source": [
    "// unpacking tuple values\n",
    "// during unpacking the variables should be enclosed within\n",
    "// paranthesis\n",
    "val (a, b, _) = threeTuple\n",
    "println(a, b)"
   ]
  },
  {
   "cell_type": "markdown",
   "metadata": {},
   "source": [
    "## Zipping"
   ]
  },
  {
   "cell_type": "code",
   "execution_count": 28,
   "metadata": {},
   "outputs": [
    {
     "name": "stdout",
     "output_type": "stream",
     "text": [
      "(Apple,Carrot)\n",
      "(Orange,Beans)\n",
      "(Banana,Beetroot)\n"
     ]
    },
    {
     "data": {
      "text/plain": [
       "\u001b[36mfruits\u001b[39m: \u001b[32mArray\u001b[39m[\u001b[32mString\u001b[39m] = \u001b[33mArray\u001b[39m(\u001b[32m\"Apple\"\u001b[39m, \u001b[32m\"Orange\"\u001b[39m, \u001b[32m\"Banana\"\u001b[39m, \u001b[32m\"Pineapple\"\u001b[39m)\n",
       "\u001b[36mvegetables\u001b[39m: \u001b[32mArray\u001b[39m[\u001b[32mString\u001b[39m] = \u001b[33mArray\u001b[39m(\u001b[32m\"Carrot\"\u001b[39m, \u001b[32m\"Beans\"\u001b[39m, \u001b[32m\"Beetroot\"\u001b[39m)"
      ]
     },
     "execution_count": 28,
     "metadata": {},
     "output_type": "execute_result"
    }
   ],
   "source": [
    "val fruits = Array(\"Apple\", \"Orange\", \"Banana\", \"Pineapple\")\n",
    "val vegetables = Array(\"Carrot\", \"Beans\", \"Beetroot\")\n",
    "\n",
    "// by default zip stops till the length of the shortest Iterable\n",
    "for ((f,v) <- fruits.zip(vegetables)) {\n",
    "    println(f,v)\n",
    "}"
   ]
  },
  {
   "cell_type": "code",
   "execution_count": 30,
   "metadata": {},
   "outputs": [
    {
     "data": {
      "text/plain": [
       "\u001b[36mres29\u001b[39m: \u001b[32mMap\u001b[39m[\u001b[32mString\u001b[39m, \u001b[32mString\u001b[39m] = \u001b[33mMap\u001b[39m(\n",
       "  \u001b[32m\"Apple\"\u001b[39m -> \u001b[32m\"Carrot\"\u001b[39m,\n",
       "  \u001b[32m\"Orange\"\u001b[39m -> \u001b[32m\"Beans\"\u001b[39m,\n",
       "  \u001b[32m\"Banana\"\u001b[39m -> \u001b[32m\"Beetroot\"\u001b[39m\n",
       ")"
      ]
     },
     "execution_count": 30,
     "metadata": {},
     "output_type": "execute_result"
    }
   ],
   "source": [
    "// zip returns a collection of pair\n",
    "// using toMap we can get Map out of the zipped values\n",
    "fruits.zip(vegetables).toMap"
   ]
  },
  {
   "cell_type": "code",
   "execution_count": 31,
   "metadata": {},
   "outputs": [
    {
     "data": {
      "text/plain": [
       "\u001b[36mres30\u001b[39m: \u001b[32mArray\u001b[39m[(\u001b[32mString\u001b[39m, \u001b[32mInt\u001b[39m)] = \u001b[33mArray\u001b[39m(\n",
       "  (\u001b[32m\"Apple\"\u001b[39m, \u001b[32m0\u001b[39m),\n",
       "  (\u001b[32m\"Orange\"\u001b[39m, \u001b[32m1\u001b[39m),\n",
       "  (\u001b[32m\"Banana\"\u001b[39m, \u001b[32m2\u001b[39m),\n",
       "  (\u001b[32m\"Pineapple\"\u001b[39m, \u001b[32m3\u001b[39m)\n",
       ")"
      ]
     },
     "execution_count": 31,
     "metadata": {},
     "output_type": "execute_result"
    }
   ],
   "source": [
    "//equivalent to enumerate in python\n",
    "fruits.zipWithIndex"
   ]
  },
  {
   "cell_type": "code",
   "execution_count": null,
   "metadata": {},
   "outputs": [],
   "source": []
  }
 ],
 "metadata": {
  "kernelspec": {
   "display_name": "Scala",
   "language": "scala",
   "name": "scala"
  },
  "language_info": {
   "codemirror_mode": "text/x-scala",
   "file_extension": ".sc",
   "mimetype": "text/x-scala",
   "name": "scala",
   "nbconvert_exporter": "script",
   "version": "2.13.3"
  }
 },
 "nbformat": 4,
 "nbformat_minor": 4
}
