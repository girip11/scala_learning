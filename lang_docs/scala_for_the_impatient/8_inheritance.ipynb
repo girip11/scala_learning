{
 "cells": [
  {
   "cell_type": "markdown",
   "metadata": {},
   "source": [
    "# Inheritance"
   ]
  },
  {
   "cell_type": "code",
   "execution_count": 1,
   "metadata": {},
   "outputs": [
    {
     "data": {
      "text/plain": [
       "defined \u001b[32mclass\u001b[39m \u001b[36mBase\u001b[39m\n",
       "defined \u001b[32mclass\u001b[39m \u001b[36mChild\u001b[39m"
      ]
     },
     "execution_count": 1,
     "metadata": {},
     "output_type": "execute_result"
    }
   ],
   "source": [
    "// Class inherited using extends keyword\n",
    "class Base {\n",
    "    \n",
    "}\n",
    "\n",
    "class Child extends Base {\n",
    "    \n",
    "}\n"
   ]
  },
  {
   "cell_type": "markdown",
   "metadata": {},
   "source": [
    "* Adding `final` keyword to a class prevents it from being extended\n",
    "* Methods and fields can also be declared final to prevent overriding."
   ]
  },
  {
   "cell_type": "code",
   "execution_count": 2,
   "metadata": {},
   "outputs": [
    {
     "data": {
      "text/plain": [
       "defined \u001b[32mclass\u001b[39m \u001b[36mBase\u001b[39m\n",
       "defined \u001b[32mclass\u001b[39m \u001b[36mDerived\u001b[39m"
      ]
     },
     "execution_count": 2,
     "metadata": {},
     "output_type": "execute_result"
    }
   ],
   "source": [
    "// non abstract methods require override keyword\n",
    "class Base {\n",
    "    def greet(name: String): Unit = {\n",
    "        println(s\"Hello, $name\")\n",
    "    }\n",
    "}\n",
    "\n",
    "class Derived extends Base {\n",
    "    override def greet(name: String): Unit = {\n",
    "        println(s\"Hi, $name\")\n",
    "    }\n",
    "}"
   ]
  },
  {
   "cell_type": "markdown",
   "metadata": {},
   "source": [
    "To invoke methods of the parent class, we use `super` keyword."
   ]
  },
  {
   "cell_type": "markdown",
   "metadata": {},
   "source": [
    "## Type checks and casts"
   ]
  },
  {
   "cell_type": "markdown",
   "metadata": {},
   "source": [
    "* `isInstanceOf` and `asInstanceOf` are used for type checking and casting\n",
    "respectively. `isInstanceOf` returns true if the even if a subclass\n",
    "instance is checked against superclass"
   ]
  },
  {
   "cell_type": "code",
   "execution_count": 3,
   "metadata": {},
   "outputs": [
    {
     "name": "stdout",
     "output_type": "stream",
     "text": [
      "true\n"
     ]
    },
    {
     "data": {
      "text/plain": [
       "\u001b[36md\u001b[39m: \u001b[32mDerived\u001b[39m = ammonite.$sess.cmd1$Helper$Derived@32224d7d"
      ]
     },
     "execution_count": 3,
     "metadata": {},
     "output_type": "execute_result"
    }
   ],
   "source": [
    "val d = new Derived()\n",
    "println(d.isInstanceOf[Base])"
   ]
  },
  {
   "cell_type": "code",
   "execution_count": 4,
   "metadata": {},
   "outputs": [
    {
     "data": {
      "text/plain": [
       "\u001b[36mres3\u001b[39m: \u001b[32mBoolean\u001b[39m = true"
      ]
     },
     "execution_count": 4,
     "metadata": {},
     "output_type": "execute_result"
    }
   ],
   "source": [
    "// To check against exact class type\n",
    "d.getClass == classOf[Derived]"
   ]
  },
  {
   "cell_type": "code",
   "execution_count": 5,
   "metadata": {},
   "outputs": [
    {
     "name": "stdout",
     "output_type": "stream",
     "text": [
      "Hi, John\n"
     ]
    }
   ],
   "source": [
    "// we can also use pattern matching for type checking\n",
    "d match {\n",
    "    case b: Base => b.greet(\"John\")\n",
    "    case _ => ()\n",
    "}"
   ]
  },
  {
   "cell_type": "markdown",
   "metadata": {},
   "source": [
    "* `protected` members are accessible to subclasses"
   ]
  },
  {
   "cell_type": "markdown",
   "metadata": {},
   "source": [
    "## Superclass construction"
   ]
  },
  {
   "cell_type": "markdown",
   "metadata": {},
   "source": [
    "* Auxiliary constructors of derived classes should never invoke\n",
    "the superclass constructor directly. \n",
    "This means we cannot use `super` keyword inside auxiliary constructor\n",
    "to call the superclas constructor. Only the primary constructor\n",
    "can call the superclass constructor."
   ]
  },
  {
   "cell_type": "code",
   "execution_count": 6,
   "metadata": {},
   "outputs": [
    {
     "data": {
      "text/plain": [
       "defined \u001b[32mclass\u001b[39m \u001b[36mPerson\u001b[39m\n",
       "defined \u001b[32mclass\u001b[39m \u001b[36mEmployee\u001b[39m"
      ]
     },
     "execution_count": 6,
     "metadata": {},
     "output_type": "execute_result"
    }
   ],
   "source": [
    "class Person(val name: String, val age: Int)\n",
    "\n",
    "class Employee(name: String, \n",
    "               age: Int, \n",
    "               val salary : Double) extends Person(name, age)"
   ]
  },
  {
   "cell_type": "markdown",
   "metadata": {},
   "source": [
    "## Overriding Fields"
   ]
  },
  {
   "cell_type": "markdown",
   "metadata": {},
   "source": [
    "* val or a parameterless def in base can be overridden with a val in derived\n",
    "* parameterized def can be overridden only with def\n",
    "* var can override only abstract var.\n",
    "\n",
    "**NOTE**: We should be very cautious when exposing a var\n",
    "as a public field, because then we are stuck with the compiler\n",
    "generated getter and setter in all subclasses. If we want to\n",
    "customize the setter logic, then we are in trouble because we cannot\n",
    "override a var that's not abstract in the base."
   ]
  },
  {
   "cell_type": "markdown",
   "metadata": {},
   "source": [
    "## Anonymous subclasses"
   ]
  },
  {
   "cell_type": "code",
   "execution_count": 7,
   "metadata": {},
   "outputs": [
    {
     "name": "stdout",
     "output_type": "stream",
     "text": [
      "Hello, John\n"
     ]
    },
    {
     "data": {
      "text/plain": [
       "\u001b[36mstudent\u001b[39m: \u001b[32mPerson\u001b[39m{def greet: Unit} = ammonite.$sess.cmd6$Helper$$anon$1@6c4d2a19"
      ]
     },
     "execution_count": 7,
     "metadata": {},
     "output_type": "execute_result"
    }
   ],
   "source": [
    "val student = new Person(\"John\", 25) {\n",
    "    def greet: Unit = println(s\"Hello, $name\")\n",
    "}\n",
    "student.greet"
   ]
  },
  {
   "cell_type": "markdown",
   "metadata": {},
   "source": [
    "## Abstract classes"
   ]
  },
  {
   "cell_type": "markdown",
   "metadata": {},
   "source": [
    "* classes made abstract using `abstract` keyword. Abstract classes\n",
    "cannot be instantiated.\n",
    "* Abstract classes have fields or methods declaration but no definition.\n",
    "* To override abstract members, `override` keyword is not required.\n",
    "* We can create anonymous subclasses from abstract base classes by\n",
    "providing implementation for all abstract members."
   ]
  },
  {
   "cell_type": "code",
   "execution_count": 8,
   "metadata": {},
   "outputs": [
    {
     "data": {
      "text/plain": [
       "defined \u001b[32mclass\u001b[39m \u001b[36mSimpleClass\u001b[39m"
      ]
     },
     "execution_count": 8,
     "metadata": {},
     "output_type": "execute_result"
    }
   ],
   "source": [
    "// abstract fields are uninitialized\n",
    "abstract class SimpleClass {\n",
    "    //abstract field\n",
    "    val id: Int\n",
    "\n",
    "    // abstract field\n",
    "    var name: String\n",
    "    \n",
    "    //abstract method\n",
    "    def description: String\n",
    "}"
   ]
  },
  {
   "cell_type": "markdown",
   "metadata": {},
   "source": [
    "## Construction Order"
   ]
  },
  {
   "cell_type": "markdown",
   "metadata": {},
   "source": [
    "* Superclass constructor is executed before the subclass one.\n",
    "* We can debug construction order using `-Xcheckinit` compiler flag.\n",
    "* Using **early definition** we can initialize val fields in subclass before\n",
    "the superclass."
   ]
  },
  {
   "cell_type": "markdown",
   "metadata": {},
   "source": [
    "## Scala type hierarchy"
   ]
  },
  {
   "cell_type": "markdown",
   "metadata": {},
   "source": [
    "* Any is the root type\n",
    "* AnyVal is the root of all value types(primitives in Java)\n",
    "* AnyRef is the base of all reference types\n",
    "* Null type has only instance which is null. Null is a subtype\n",
    "of all reference types.\n",
    "* Nothing type has no instance. Nothing is a subtype of all types."
   ]
  },
  {
   "cell_type": "markdown",
   "metadata": {},
   "source": [
    "## Object equality"
   ]
  },
  {
   "cell_type": "markdown",
   "metadata": {},
   "source": [
    "* Override the `equals` method to compare equality of two objects\n",
    "* To compare reference of the two objects, use the `eq` method \n",
    "provided by `AnyRef`. This is similar to `is` operator in python."
   ]
  },
  {
   "cell_type": "code",
   "execution_count": 12,
   "metadata": {},
   "outputs": [
    {
     "name": "stdout",
     "output_type": "stream",
     "text": [
      "true\n",
      "obj1.eq(obj2) -> true\n",
      "obj1.eq(obj3) -> true\n",
      "obj1.eq(obj4) -> false\n"
     ]
    },
    {
     "data": {
      "text/plain": [
       "\u001b[32mimport \u001b[39m\u001b[36mscala.util.Random\n",
       "\n",
       "// eq method on AnyRef is used to check if the object\n",
       "// references are the same\n",
       "// As we know null is the only instance of Null type \n",
       "// we can check like this below\n",
       "\u001b[39m\n",
       "\u001b[36mobj1\u001b[39m: \u001b[32mString\u001b[39m = \u001b[32m\"Hello\"\u001b[39m\n",
       "\u001b[36mobj2\u001b[39m: \u001b[32mString\u001b[39m = \u001b[32m\"Hello\"\u001b[39m\n",
       "\u001b[36mobj3\u001b[39m: \u001b[32mString\u001b[39m = \u001b[32m\"Hello\"\u001b[39m\n",
       "\u001b[36mobj4\u001b[39m: \u001b[32mString\u001b[39m = \u001b[32m\"Hello\"\u001b[39m"
      ]
     },
     "execution_count": 12,
     "metadata": {},
     "output_type": "execute_result"
    }
   ],
   "source": [
    "// eq method on AnyRef is used to check if the object\n",
    "// references are the same\n",
    "// As we know null is the only instance of Null type \n",
    "// we can check like this below\n",
    "println(null.eq(null))\n",
    "\n",
    "val obj1 = \"Hello\"\n",
    "val obj2 = \"Hello\" // performs compile time optimization\n",
    "val obj3 = obj1\n",
    "val obj4 = List[Char]('H', 'e', 'l', 'l', 'o').mkString\n",
    "println(s\"obj1.eq(obj2) -> ${obj1.eq(obj2)}\")\n",
    "println(s\"obj1.eq(obj3) -> ${obj1.eq(obj3)}\")\n",
    "println(s\"obj1.eq(obj4) -> ${obj1.eq(obj4)}\")"
   ]
  },
  {
   "cell_type": "code",
   "execution_count": 15,
   "metadata": {},
   "outputs": [
    {
     "name": "stdout",
     "output_type": "stream",
     "text": [
      "true\n",
      "true\n",
      "false\n"
     ]
    },
    {
     "data": {
      "text/plain": [
       "defined \u001b[32mclass\u001b[39m \u001b[36mItem\u001b[39m\n",
       "\u001b[36mitem1\u001b[39m: \u001b[32mItem\u001b[39m = ammonite.$sess.cmd14$Helper$Item@1161dc44\n",
       "\u001b[36mitem2\u001b[39m: \u001b[32mItem\u001b[39m = ammonite.$sess.cmd14$Helper$Item@1161dc44\n",
       "\u001b[36mitem3\u001b[39m: \u001b[32mItem\u001b[39m = ammonite.$sess.cmd14$Helper$Item@65d5d92f"
      ]
     },
     "execution_count": 15,
     "metadata": {},
     "output_type": "execute_result"
    }
   ],
   "source": [
    "// We define equals and hashCode together\n",
    "// so that we could use the hashCode for comparison\n",
    "// two objects with same hashcode can be treated as equal\n",
    "class Item(val name: String, val price: Double) {\n",
    "    \n",
    "    // parameter type should be Any because we\n",
    "    // are overriding equals method provided by Any\n",
    "    // Its not recommended to have a method named ==\n",
    "    override def equals(that: Any): Boolean = {\n",
    "        var other: Option[Item] = None\n",
    "        if (that.isInstanceOf[Item]) {\n",
    "            other = Some(that.asInstanceOf[Item])\n",
    "        }\n",
    "        \n",
    "        other.isDefined && (this.name == other.get.name && \n",
    "                            this.price == other.get.price)\n",
    "    }\n",
    "    \n",
    "    \n",
    "    // 1. hashCode should use the same fields used for equality\n",
    "    // 2. ## is a null safe version.\n",
    "    override def hashCode = (name, price).##\n",
    "}\n",
    "\n",
    "val item1 = new Item(\"a\", 100.0)\n",
    "val item2 = new Item(\"a\", 100.0)\n",
    "val item3 = new Item(\"b\", 10.0)\n",
    "\n",
    "println(item1 == item2)\n",
    "println(item1.equals(item2))\n",
    "println(item1 == item3)"
   ]
  },
  {
   "cell_type": "code",
   "execution_count": 16,
   "metadata": {},
   "outputs": [
    {
     "data": {
      "text/plain": [
       "\u001b[36mres15\u001b[39m: \u001b[32mInt\u001b[39m = \u001b[32m0\u001b[39m"
      ]
     },
     "execution_count": 16,
     "metadata": {},
     "output_type": "execute_result"
    }
   ],
   "source": [
    "// returns 0 as the hash for null\n",
    "null.##"
   ]
  },
  {
   "cell_type": "markdown",
   "metadata": {},
   "source": [
    "## Value types"
   ]
  },
  {
   "cell_type": "markdown",
   "metadata": {},
   "source": [
    "* custom value types can be created by extending AnyVal\n",
    "* Primary constructor should have only one parameter.\n",
    "* The class should not have any other fields or constructor, but it can\n",
    "provided parameterless and parameterized methods.\n",
    "* `equals` and `hashcode` are automatically provided.\n",
    "* Class can implement only those traits that explicitly extends Any"
   ]
  },
  {
   "cell_type": "code",
   "execution_count": 16,
   "metadata": {},
   "outputs": [],
   "source": [
    "// This snippet won't work on this almond scala kernel\n",
    "// You might need to execute this in a separate scala src file\n",
    "\n",
    "class StockNos(val units: Int) extends AnyVal {\n",
    "    // providing method for multiplication\n",
    "    def *(other: Int): StockNos = new StockNos(this.units * other)\n",
    "    \n",
    "    override def toString = s\"StockNos(${this.units})\"\n",
    "}\n",
    "\n",
    "val stockNos = new StockNos(5)\n",
    "println(stockNos * 2)"
   ]
  }
 ],
 "metadata": {
  "kernelspec": {
   "display_name": "Scala",
   "language": "scala",
   "name": "scala"
  },
  "language_info": {
   "codemirror_mode": "text/x-scala",
   "file_extension": ".sc",
   "mimetype": "text/x-scala",
   "name": "scala",
   "nbconvert_exporter": "script",
   "version": "2.13.3"
  }
 },
 "nbformat": 4,
 "nbformat_minor": 4
}
