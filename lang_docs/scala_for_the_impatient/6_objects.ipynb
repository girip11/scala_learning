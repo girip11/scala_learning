{
 "cells": [
  {
   "cell_type": "markdown",
   "metadata": {},
   "source": [
    "# Objects"
   ]
  },
  {
   "cell_type": "markdown",
   "metadata": {},
   "source": [
    "## Singleton"
   ]
  },
  {
   "cell_type": "code",
   "execution_count": null,
   "metadata": {},
   "outputs": [],
   "source": [
    "//object defines a single instance of a class\n",
    "import scala.collection.mutable.ArrayBuffer\n",
    "\n",
    "object Shelf {\n",
    "    // body is the object's constructor\n",
    "    val items = new ArrayBuffer[String]()\n",
    "}"
   ]
  },
  {
   "cell_type": "markdown",
   "metadata": {},
   "source": [
    "* Objects cannot have constructors like classes, but they \n",
    "can extend other classes and implement traits as well"
   ]
  },
  {
   "cell_type": "markdown",
   "metadata": {},
   "source": [
    "Objects can be used \n",
    "\n",
    "* to define singletons\n",
    "* to have constants and utility methods\n",
    "* to hold static methods of a companion class.\n",
    "* to create default objects that can provide some default functionality\n",
    "like `EmptyList`.\n",
    "* to act like class factories by defining apply method on the companion\n",
    "objects"
   ]
  },
  {
   "cell_type": "code",
   "execution_count": 1,
   "metadata": {},
   "outputs": [
    {
     "data": {
      "text/plain": [
       "defined \u001b[32mobject\u001b[39m \u001b[36mCompanion\u001b[39m\n",
       "defined \u001b[32mclass\u001b[39m \u001b[36mCompanion\u001b[39m"
      ]
     },
     "execution_count": 1,
     "metadata": {},
     "output_type": "execute_result"
    }
   ],
   "source": [
    "// For object to act as companion object, its name\n",
    "// should be the same as the class.\n",
    "object Companion {\n",
    "    // can hold static methods\n",
    "    // class level methods like apply\n",
    "    // Hold state(members) common to all instances of the class\n",
    "}\n",
    "\n",
    "// members of companion object are accessed using\n",
    "// Companion.member_name from inside the class\n",
    "class Companion {\n",
    "    \n",
    "}"
   ]
  },
  {
   "cell_type": "markdown",
   "metadata": {},
   "source": [
    "Class and its companion object can access each other's\n",
    "private features and they must be located in the same scala\n",
    "source file"
   ]
  },
  {
   "cell_type": "markdown",
   "metadata": {},
   "source": [
    "## Application entry points"
   ]
  },
  {
   "cell_type": "code",
   "execution_count": null,
   "metadata": {},
   "outputs": [],
   "source": [
    "// creating object with main method serves as an entry point\n",
    "object Main {\n",
    "    def main(args: Array[String]): Unit = {\n",
    "        println(\"hello world\")\n",
    "    }\n",
    "}"
   ]
  },
  {
   "cell_type": "code",
   "execution_count": 4,
   "metadata": {},
   "outputs": [
    {
     "data": {
      "text/plain": [
       "defined \u001b[32mobject\u001b[39m \u001b[36mMain\u001b[39m"
      ]
     },
     "execution_count": 4,
     "metadata": {},
     "output_type": "execute_result"
    }
   ],
   "source": [
    "// if we are extending from App,\n",
    "// then the objects body becomes the entry point main method\n",
    "object Main extends App {\n",
    "    println(s\"commandline args are available as ${this.args}\")\n",
    "    println(\"Contents here will behave as if defined inside main method\")\n",
    "}"
   ]
  },
  {
   "cell_type": "markdown",
   "metadata": {},
   "source": [
    "## Defining enumerations"
   ]
  },
  {
   "cell_type": "code",
   "execution_count": 11,
   "metadata": {},
   "outputs": [
    {
     "data": {
      "text/plain": [
       "defined \u001b[32mobject\u001b[39m \u001b[36mDifficultyLevel\u001b[39m"
      ]
     },
     "execution_count": 11,
     "metadata": {},
     "output_type": "execute_result"
    }
   ],
   "source": [
    "object DifficultyLevel extends Enumeration {\n",
    "    // type aliasing can improve readability\n",
    "    // instead of using Value as the enum object's type\n",
    "    // we can use DifficultyLevel as its type\n",
    "    type DifficultyLevel = Value\n",
    "\n",
    "    // each call to Value() returns an instance of innerclass Value\n",
    "    val Easy = Value(1)\n",
    "    // we can pass ID and names to Value\n",
    "    val Medium = Value(10, \"Medium\")\n",
    "    val Hard = Value(25)\n",
    "}"
   ]
  },
  {
   "cell_type": "code",
   "execution_count": 12,
   "metadata": {},
   "outputs": [
    {
     "name": "stdout",
     "output_type": "stream",
     "text": [
      "1\n"
     ]
    }
   ],
   "source": [
    "// id attribute\n",
    "println(DifficultyLevel.Easy.id)"
   ]
  },
  {
   "cell_type": "code",
   "execution_count": 10,
   "metadata": {},
   "outputs": [
    {
     "data": {
      "text/plain": [
       "\u001b[36measy\u001b[39m: \u001b[32mDifficultyLevel\u001b[39m.\u001b[32mValue\u001b[39m = Easy"
      ]
     },
     "execution_count": 10,
     "metadata": {},
     "output_type": "execute_result"
    }
   ],
   "source": [
    "// We can get the enum object given its id\n",
    "val easy = DifficultyLevel(1)"
   ]
  },
  {
   "cell_type": "code",
   "execution_count": 16,
   "metadata": {},
   "outputs": [
    {
     "data": {
      "text/plain": [
       "\u001b[36measy\u001b[39m: \u001b[32mValue\u001b[39m = Easy"
      ]
     },
     "execution_count": 16,
     "metadata": {},
     "output_type": "execute_result"
    }
   ],
   "source": [
    "// get enum object from name\n",
    "val easy = DifficultyLevel.withName(\"Easy\")"
   ]
  },
  {
   "cell_type": "code",
   "execution_count": 14,
   "metadata": {},
   "outputs": [
    {
     "data": {
      "text/plain": [
       "\u001b[32mimport \u001b[39m\u001b[36mDifficultyLevel._\n",
       "\u001b[39m\n",
       "defined \u001b[32mfunction\u001b[39m \u001b[36mgetDifficulty\u001b[39m\n",
       "\u001b[36mres13_2\u001b[39m: \u001b[32mInt\u001b[39m = \u001b[32m1\u001b[39m"
      ]
     },
     "execution_count": 14,
     "metadata": {},
     "output_type": "execute_result"
    }
   ],
   "source": [
    "// when we import using import DifficultyLevel._\n",
    "// typing becomes easier\n",
    "import DifficultyLevel._\n",
    "def getDifficulty(level: DifficultyLevel): Int = level.id\n",
    "\n",
    "getDifficulty(DifficultyLevel.Easy)"
   ]
  },
  {
   "cell_type": "code",
   "execution_count": 15,
   "metadata": {},
   "outputs": [
    {
     "name": "stdout",
     "output_type": "stream",
     "text": [
      "1\n",
      "10\n",
      "25\n"
     ]
    }
   ],
   "source": [
    "for (v <- DifficultyLevel.values)\n",
    "    println(v.id)"
   ]
  }
 ],
 "metadata": {
  "kernelspec": {
   "display_name": "Scala",
   "language": "scala",
   "name": "scala"
  },
  "language_info": {
   "codemirror_mode": "text/x-scala",
   "file_extension": ".sc",
   "mimetype": "text/x-scala",
   "name": "scala",
   "nbconvert_exporter": "script",
   "version": "2.13.3"
  }
 },
 "nbformat": 4,
 "nbformat_minor": 4
}
